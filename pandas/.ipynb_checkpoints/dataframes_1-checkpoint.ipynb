{
 "cells": [
  {
   "cell_type": "code",
   "execution_count": 1,
   "id": "5acb6a03",
   "metadata": {},
   "outputs": [],
   "source": [
    "import numpy as np\n",
    "import pandas as pd"
   ]
  },
  {
   "cell_type": "code",
   "execution_count": 2,
   "id": "39664d9f",
   "metadata": {},
   "outputs": [
    {
     "data": {
      "text/plain": [
       "DatetimeIndex(['2013-01-01', '2013-01-02', '2013-01-03', '2013-01-04',\n",
       "               '2013-01-05', '2013-01-06'],\n",
       "              dtype='datetime64[ns]', freq='D')"
      ]
     },
     "execution_count": 2,
     "metadata": {},
     "output_type": "execute_result"
    }
   ],
   "source": [
    "dates = pd.date_range(\"20130101\", periods=6)\n",
    "dates"
   ]
  },
  {
   "cell_type": "code",
   "execution_count": 3,
   "id": "4fda0e10",
   "metadata": {},
   "outputs": [
    {
     "data": {
      "text/html": [
       "<div>\n",
       "<style scoped>\n",
       "    .dataframe tbody tr th:only-of-type {\n",
       "        vertical-align: middle;\n",
       "    }\n",
       "\n",
       "    .dataframe tbody tr th {\n",
       "        vertical-align: top;\n",
       "    }\n",
       "\n",
       "    .dataframe thead th {\n",
       "        text-align: right;\n",
       "    }\n",
       "</style>\n",
       "<table border=\"1\" class=\"dataframe\">\n",
       "  <thead>\n",
       "    <tr style=\"text-align: right;\">\n",
       "      <th></th>\n",
       "      <th>A</th>\n",
       "      <th>B</th>\n",
       "      <th>C</th>\n",
       "      <th>D</th>\n",
       "    </tr>\n",
       "  </thead>\n",
       "  <tbody>\n",
       "    <tr>\n",
       "      <th>2013-01-01</th>\n",
       "      <td>-0.030652</td>\n",
       "      <td>0.292336</td>\n",
       "      <td>0.350921</td>\n",
       "      <td>0.170295</td>\n",
       "    </tr>\n",
       "    <tr>\n",
       "      <th>2013-01-02</th>\n",
       "      <td>1.682899</td>\n",
       "      <td>-1.979501</td>\n",
       "      <td>-0.407145</td>\n",
       "      <td>-0.823166</td>\n",
       "    </tr>\n",
       "    <tr>\n",
       "      <th>2013-01-03</th>\n",
       "      <td>-0.832073</td>\n",
       "      <td>0.342231</td>\n",
       "      <td>-0.509647</td>\n",
       "      <td>0.200867</td>\n",
       "    </tr>\n",
       "    <tr>\n",
       "      <th>2013-01-04</th>\n",
       "      <td>-0.816926</td>\n",
       "      <td>-0.300399</td>\n",
       "      <td>0.259802</td>\n",
       "      <td>-0.547469</td>\n",
       "    </tr>\n",
       "    <tr>\n",
       "      <th>2013-01-05</th>\n",
       "      <td>-1.488883</td>\n",
       "      <td>-0.835526</td>\n",
       "      <td>0.333843</td>\n",
       "      <td>-1.910065</td>\n",
       "    </tr>\n",
       "    <tr>\n",
       "      <th>2013-01-06</th>\n",
       "      <td>0.415600</td>\n",
       "      <td>-1.526662</td>\n",
       "      <td>0.579523</td>\n",
       "      <td>1.471637</td>\n",
       "    </tr>\n",
       "  </tbody>\n",
       "</table>\n",
       "</div>"
      ],
      "text/plain": [
       "                   A         B         C         D\n",
       "2013-01-01 -0.030652  0.292336  0.350921  0.170295\n",
       "2013-01-02  1.682899 -1.979501 -0.407145 -0.823166\n",
       "2013-01-03 -0.832073  0.342231 -0.509647  0.200867\n",
       "2013-01-04 -0.816926 -0.300399  0.259802 -0.547469\n",
       "2013-01-05 -1.488883 -0.835526  0.333843 -1.910065\n",
       "2013-01-06  0.415600 -1.526662  0.579523  1.471637"
      ]
     },
     "execution_count": 3,
     "metadata": {},
     "output_type": "execute_result"
    }
   ],
   "source": [
    "df = pd.DataFrame(np.random.randn(6, 4), index=dates, columns=list(\"ABCD\"))\n",
    "df"
   ]
  },
  {
   "cell_type": "code",
   "execution_count": 4,
   "id": "aa62f7ae",
   "metadata": {},
   "outputs": [
    {
     "data": {
      "text/plain": [
       "A    float64\n",
       "B    float64\n",
       "C    float64\n",
       "D    float64\n",
       "dtype: object"
      ]
     },
     "execution_count": 4,
     "metadata": {},
     "output_type": "execute_result"
    }
   ],
   "source": [
    "df.dtypes"
   ]
  },
  {
   "cell_type": "markdown",
   "id": "d00f3c8a",
   "metadata": {},
   "source": [
    "## Getting Data"
   ]
  },
  {
   "cell_type": "code",
   "execution_count": 5,
   "id": "d18c3967",
   "metadata": {},
   "outputs": [
    {
     "data": {
      "text/plain": [
       "2013-01-01   -0.030652\n",
       "2013-01-02    1.682899\n",
       "2013-01-03   -0.832073\n",
       "2013-01-04   -0.816926\n",
       "2013-01-05   -1.488883\n",
       "2013-01-06    0.415600\n",
       "Freq: D, Name: A, dtype: float64"
      ]
     },
     "execution_count": 5,
     "metadata": {},
     "output_type": "execute_result"
    }
   ],
   "source": [
    "df[\"A\"]\n",
    "# alternative: df.A"
   ]
  },
  {
   "cell_type": "code",
   "execution_count": 6,
   "id": "2ae56ac0",
   "metadata": {},
   "outputs": [
    {
     "data": {
      "text/html": [
       "<div>\n",
       "<style scoped>\n",
       "    .dataframe tbody tr th:only-of-type {\n",
       "        vertical-align: middle;\n",
       "    }\n",
       "\n",
       "    .dataframe tbody tr th {\n",
       "        vertical-align: top;\n",
       "    }\n",
       "\n",
       "    .dataframe thead th {\n",
       "        text-align: right;\n",
       "    }\n",
       "</style>\n",
       "<table border=\"1\" class=\"dataframe\">\n",
       "  <thead>\n",
       "    <tr style=\"text-align: right;\">\n",
       "      <th></th>\n",
       "      <th>A</th>\n",
       "      <th>B</th>\n",
       "      <th>C</th>\n",
       "      <th>D</th>\n",
       "    </tr>\n",
       "  </thead>\n",
       "  <tbody>\n",
       "    <tr>\n",
       "      <th>2013-01-01</th>\n",
       "      <td>-0.030652</td>\n",
       "      <td>0.292336</td>\n",
       "      <td>0.350921</td>\n",
       "      <td>0.170295</td>\n",
       "    </tr>\n",
       "    <tr>\n",
       "      <th>2013-01-02</th>\n",
       "      <td>1.682899</td>\n",
       "      <td>-1.979501</td>\n",
       "      <td>-0.407145</td>\n",
       "      <td>-0.823166</td>\n",
       "    </tr>\n",
       "    <tr>\n",
       "      <th>2013-01-03</th>\n",
       "      <td>-0.832073</td>\n",
       "      <td>0.342231</td>\n",
       "      <td>-0.509647</td>\n",
       "      <td>0.200867</td>\n",
       "    </tr>\n",
       "  </tbody>\n",
       "</table>\n",
       "</div>"
      ],
      "text/plain": [
       "                   A         B         C         D\n",
       "2013-01-01 -0.030652  0.292336  0.350921  0.170295\n",
       "2013-01-02  1.682899 -1.979501 -0.407145 -0.823166\n",
       "2013-01-03 -0.832073  0.342231 -0.509647  0.200867"
      ]
     },
     "execution_count": 6,
     "metadata": {},
     "output_type": "execute_result"
    }
   ],
   "source": [
    "df[0:3]"
   ]
  },
  {
   "cell_type": "code",
   "execution_count": 7,
   "id": "251456b8",
   "metadata": {},
   "outputs": [
    {
     "data": {
      "text/html": [
       "<div>\n",
       "<style scoped>\n",
       "    .dataframe tbody tr th:only-of-type {\n",
       "        vertical-align: middle;\n",
       "    }\n",
       "\n",
       "    .dataframe tbody tr th {\n",
       "        vertical-align: top;\n",
       "    }\n",
       "\n",
       "    .dataframe thead th {\n",
       "        text-align: right;\n",
       "    }\n",
       "</style>\n",
       "<table border=\"1\" class=\"dataframe\">\n",
       "  <thead>\n",
       "    <tr style=\"text-align: right;\">\n",
       "      <th></th>\n",
       "      <th>A</th>\n",
       "      <th>B</th>\n",
       "    </tr>\n",
       "  </thead>\n",
       "  <tbody>\n",
       "    <tr>\n",
       "      <th>2013-01-01</th>\n",
       "      <td>-0.030652</td>\n",
       "      <td>0.292336</td>\n",
       "    </tr>\n",
       "    <tr>\n",
       "      <th>2013-01-02</th>\n",
       "      <td>1.682899</td>\n",
       "      <td>-1.979501</td>\n",
       "    </tr>\n",
       "    <tr>\n",
       "      <th>2013-01-03</th>\n",
       "      <td>-0.832073</td>\n",
       "      <td>0.342231</td>\n",
       "    </tr>\n",
       "    <tr>\n",
       "      <th>2013-01-04</th>\n",
       "      <td>-0.816926</td>\n",
       "      <td>-0.300399</td>\n",
       "    </tr>\n",
       "    <tr>\n",
       "      <th>2013-01-05</th>\n",
       "      <td>-1.488883</td>\n",
       "      <td>-0.835526</td>\n",
       "    </tr>\n",
       "    <tr>\n",
       "      <th>2013-01-06</th>\n",
       "      <td>0.415600</td>\n",
       "      <td>-1.526662</td>\n",
       "    </tr>\n",
       "  </tbody>\n",
       "</table>\n",
       "</div>"
      ],
      "text/plain": [
       "                   A         B\n",
       "2013-01-01 -0.030652  0.292336\n",
       "2013-01-02  1.682899 -1.979501\n",
       "2013-01-03 -0.832073  0.342231\n",
       "2013-01-04 -0.816926 -0.300399\n",
       "2013-01-05 -1.488883 -0.835526\n",
       "2013-01-06  0.415600 -1.526662"
      ]
     },
     "execution_count": 7,
     "metadata": {},
     "output_type": "execute_result"
    }
   ],
   "source": [
    "df.loc[:, [\"A\", \"B\"]]"
   ]
  },
  {
   "cell_type": "code",
   "execution_count": 10,
   "id": "b495880d",
   "metadata": {},
   "outputs": [
    {
     "data": {
      "text/html": [
       "<div>\n",
       "<style scoped>\n",
       "    .dataframe tbody tr th:only-of-type {\n",
       "        vertical-align: middle;\n",
       "    }\n",
       "\n",
       "    .dataframe tbody tr th {\n",
       "        vertical-align: top;\n",
       "    }\n",
       "\n",
       "    .dataframe thead th {\n",
       "        text-align: right;\n",
       "    }\n",
       "</style>\n",
       "<table border=\"1\" class=\"dataframe\">\n",
       "  <thead>\n",
       "    <tr style=\"text-align: right;\">\n",
       "      <th></th>\n",
       "      <th>A</th>\n",
       "      <th>B</th>\n",
       "      <th>C</th>\n",
       "      <th>D</th>\n",
       "    </tr>\n",
       "  </thead>\n",
       "  <tbody>\n",
       "    <tr>\n",
       "      <th>2013-01-02</th>\n",
       "      <td>1.682899</td>\n",
       "      <td>-1.979501</td>\n",
       "      <td>-0.407145</td>\n",
       "      <td>-0.823166</td>\n",
       "    </tr>\n",
       "    <tr>\n",
       "      <th>2013-01-06</th>\n",
       "      <td>0.415600</td>\n",
       "      <td>-1.526662</td>\n",
       "      <td>0.579523</td>\n",
       "      <td>1.471637</td>\n",
       "    </tr>\n",
       "  </tbody>\n",
       "</table>\n",
       "</div>"
      ],
      "text/plain": [
       "                   A         B         C         D\n",
       "2013-01-02  1.682899 -1.979501 -0.407145 -0.823166\n",
       "2013-01-06  0.415600 -1.526662  0.579523  1.471637"
      ]
     },
     "execution_count": 10,
     "metadata": {},
     "output_type": "execute_result"
    }
   ],
   "source": [
    "df[df[\"A\"] > 0]"
   ]
  },
  {
   "cell_type": "markdown",
   "id": "0178c41b",
   "metadata": {},
   "source": [
    "## Statistics / Operations on Data"
   ]
  },
  {
   "cell_type": "code",
   "execution_count": 11,
   "id": "8609c7a7",
   "metadata": {},
   "outputs": [
    {
     "data": {
      "text/html": [
       "<div>\n",
       "<style scoped>\n",
       "    .dataframe tbody tr th:only-of-type {\n",
       "        vertical-align: middle;\n",
       "    }\n",
       "\n",
       "    .dataframe tbody tr th {\n",
       "        vertical-align: top;\n",
       "    }\n",
       "\n",
       "    .dataframe thead th {\n",
       "        text-align: right;\n",
       "    }\n",
       "</style>\n",
       "<table border=\"1\" class=\"dataframe\">\n",
       "  <thead>\n",
       "    <tr style=\"text-align: right;\">\n",
       "      <th></th>\n",
       "      <th>A</th>\n",
       "      <th>B</th>\n",
       "      <th>C</th>\n",
       "      <th>D</th>\n",
       "    </tr>\n",
       "  </thead>\n",
       "  <tbody>\n",
       "    <tr>\n",
       "      <th>count</th>\n",
       "      <td>6.000000</td>\n",
       "      <td>6.000000</td>\n",
       "      <td>6.000000</td>\n",
       "      <td>6.000000</td>\n",
       "    </tr>\n",
       "    <tr>\n",
       "      <th>mean</th>\n",
       "      <td>-0.178339</td>\n",
       "      <td>-0.667920</td>\n",
       "      <td>0.101216</td>\n",
       "      <td>-0.239650</td>\n",
       "    </tr>\n",
       "    <tr>\n",
       "      <th>std</th>\n",
       "      <td>1.130617</td>\n",
       "      <td>0.955337</td>\n",
       "      <td>0.447656</td>\n",
       "      <td>1.141590</td>\n",
       "    </tr>\n",
       "    <tr>\n",
       "      <th>min</th>\n",
       "      <td>-1.488883</td>\n",
       "      <td>-1.979501</td>\n",
       "      <td>-0.509647</td>\n",
       "      <td>-1.910065</td>\n",
       "    </tr>\n",
       "    <tr>\n",
       "      <th>25%</th>\n",
       "      <td>-0.828287</td>\n",
       "      <td>-1.353878</td>\n",
       "      <td>-0.240408</td>\n",
       "      <td>-0.754242</td>\n",
       "    </tr>\n",
       "    <tr>\n",
       "      <th>50%</th>\n",
       "      <td>-0.423789</td>\n",
       "      <td>-0.567963</td>\n",
       "      <td>0.296822</td>\n",
       "      <td>-0.188587</td>\n",
       "    </tr>\n",
       "    <tr>\n",
       "      <th>75%</th>\n",
       "      <td>0.304037</td>\n",
       "      <td>0.144152</td>\n",
       "      <td>0.346651</td>\n",
       "      <td>0.193224</td>\n",
       "    </tr>\n",
       "    <tr>\n",
       "      <th>max</th>\n",
       "      <td>1.682899</td>\n",
       "      <td>0.342231</td>\n",
       "      <td>0.579523</td>\n",
       "      <td>1.471637</td>\n",
       "    </tr>\n",
       "  </tbody>\n",
       "</table>\n",
       "</div>"
      ],
      "text/plain": [
       "              A         B         C         D\n",
       "count  6.000000  6.000000  6.000000  6.000000\n",
       "mean  -0.178339 -0.667920  0.101216 -0.239650\n",
       "std    1.130617  0.955337  0.447656  1.141590\n",
       "min   -1.488883 -1.979501 -0.509647 -1.910065\n",
       "25%   -0.828287 -1.353878 -0.240408 -0.754242\n",
       "50%   -0.423789 -0.567963  0.296822 -0.188587\n",
       "75%    0.304037  0.144152  0.346651  0.193224\n",
       "max    1.682899  0.342231  0.579523  1.471637"
      ]
     },
     "execution_count": 11,
     "metadata": {},
     "output_type": "execute_result"
    }
   ],
   "source": [
    "df.describe()"
   ]
  },
  {
   "cell_type": "code",
   "execution_count": 12,
   "id": "045b6e88",
   "metadata": {},
   "outputs": [
    {
     "data": {
      "text/plain": [
       "A   -0.178339\n",
       "B   -0.667920\n",
       "C    0.101216\n",
       "D   -0.239650\n",
       "dtype: float64"
      ]
     },
     "execution_count": 12,
     "metadata": {},
     "output_type": "execute_result"
    }
   ],
   "source": [
    "df.mean()"
   ]
  },
  {
   "cell_type": "code",
   "execution_count": 13,
   "id": "c2b9a0c4",
   "metadata": {},
   "outputs": [
    {
     "data": {
      "text/plain": [
       "2013-01-01    0.195725\n",
       "2013-01-02   -0.381728\n",
       "2013-01-03   -0.199656\n",
       "2013-01-04   -0.351248\n",
       "2013-01-05   -0.975158\n",
       "2013-01-06    0.235024\n",
       "Freq: D, dtype: float64"
      ]
     },
     "execution_count": 13,
     "metadata": {},
     "output_type": "execute_result"
    }
   ],
   "source": [
    "df.mean(1)"
   ]
  },
  {
   "cell_type": "code",
   "execution_count": 14,
   "id": "550c1fee",
   "metadata": {},
   "outputs": [
    {
     "data": {
      "text/html": [
       "<div>\n",
       "<style scoped>\n",
       "    .dataframe tbody tr th:only-of-type {\n",
       "        vertical-align: middle;\n",
       "    }\n",
       "\n",
       "    .dataframe tbody tr th {\n",
       "        vertical-align: top;\n",
       "    }\n",
       "\n",
       "    .dataframe thead th {\n",
       "        text-align: right;\n",
       "    }\n",
       "</style>\n",
       "<table border=\"1\" class=\"dataframe\">\n",
       "  <thead>\n",
       "    <tr style=\"text-align: right;\">\n",
       "      <th></th>\n",
       "      <th>A</th>\n",
       "      <th>B</th>\n",
       "      <th>C</th>\n",
       "      <th>D</th>\n",
       "    </tr>\n",
       "  </thead>\n",
       "  <tbody>\n",
       "    <tr>\n",
       "      <th>2013-01-01</th>\n",
       "      <td>-0.030652</td>\n",
       "      <td>0.292336</td>\n",
       "      <td>0.350921</td>\n",
       "      <td>0.170295</td>\n",
       "    </tr>\n",
       "    <tr>\n",
       "      <th>2013-01-02</th>\n",
       "      <td>1.652248</td>\n",
       "      <td>-1.687165</td>\n",
       "      <td>-0.056224</td>\n",
       "      <td>-0.652870</td>\n",
       "    </tr>\n",
       "    <tr>\n",
       "      <th>2013-01-03</th>\n",
       "      <td>0.820174</td>\n",
       "      <td>-1.344934</td>\n",
       "      <td>-0.565871</td>\n",
       "      <td>-0.452004</td>\n",
       "    </tr>\n",
       "    <tr>\n",
       "      <th>2013-01-04</th>\n",
       "      <td>0.003248</td>\n",
       "      <td>-1.645333</td>\n",
       "      <td>-0.306069</td>\n",
       "      <td>-0.999473</td>\n",
       "    </tr>\n",
       "    <tr>\n",
       "      <th>2013-01-05</th>\n",
       "      <td>-1.485635</td>\n",
       "      <td>-2.480859</td>\n",
       "      <td>0.027774</td>\n",
       "      <td>-2.909538</td>\n",
       "    </tr>\n",
       "    <tr>\n",
       "      <th>2013-01-06</th>\n",
       "      <td>-1.070035</td>\n",
       "      <td>-4.007521</td>\n",
       "      <td>0.607297</td>\n",
       "      <td>-1.437901</td>\n",
       "    </tr>\n",
       "  </tbody>\n",
       "</table>\n",
       "</div>"
      ],
      "text/plain": [
       "                   A         B         C         D\n",
       "2013-01-01 -0.030652  0.292336  0.350921  0.170295\n",
       "2013-01-02  1.652248 -1.687165 -0.056224 -0.652870\n",
       "2013-01-03  0.820174 -1.344934 -0.565871 -0.452004\n",
       "2013-01-04  0.003248 -1.645333 -0.306069 -0.999473\n",
       "2013-01-05 -1.485635 -2.480859  0.027774 -2.909538\n",
       "2013-01-06 -1.070035 -4.007521  0.607297 -1.437901"
      ]
     },
     "execution_count": 14,
     "metadata": {},
     "output_type": "execute_result"
    }
   ],
   "source": [
    "df.apply(lambda x: np.cumsum(x))"
   ]
  },
  {
   "cell_type": "code",
   "execution_count": 15,
   "id": "5ec9b0cc",
   "metadata": {},
   "outputs": [
    {
     "data": {
      "text/plain": [
       "-0.030652    1\n",
       " 1.682899    1\n",
       "-0.832073    1\n",
       "-0.816926    1\n",
       "-1.488883    1\n",
       " 0.415600    1\n",
       "Name: A, dtype: int64"
      ]
     },
     "execution_count": 15,
     "metadata": {},
     "output_type": "execute_result"
    }
   ],
   "source": [
    "df.A.value_counts() # probably not so useful with random floats..."
   ]
  },
  {
   "cell_type": "code",
   "execution_count": 16,
   "id": "f508bbe2",
   "metadata": {},
   "outputs": [
    {
     "data": {
      "text/plain": [
       "(-1, 0]     3\n",
       "(-3, -1]    1\n",
       "(0, 1]      1\n",
       "(1, 3]      1\n",
       "Name: A, dtype: int64"
      ]
     },
     "execution_count": 16,
     "metadata": {},
     "output_type": "execute_result"
    }
   ],
   "source": [
    "#arr = np.random.randn(20)\n",
    "# factor = pd.cut(arr, 4)\n",
    "\n",
    "# factor = pd.cut(df.A, 3)\n",
    "factor = pd.cut(df.A, [-3,-1,0,1,3])\n",
    "pd.value_counts(factor)"
   ]
  }
 ],
 "metadata": {
  "kernelspec": {
   "display_name": "Python 3 (ipykernel)",
   "language": "python",
   "name": "python3"
  },
  "language_info": {
   "codemirror_mode": {
    "name": "ipython",
    "version": 3
   },
   "file_extension": ".py",
   "mimetype": "text/x-python",
   "name": "python",
   "nbconvert_exporter": "python",
   "pygments_lexer": "ipython3",
   "version": "3.10.9"
  }
 },
 "nbformat": 4,
 "nbformat_minor": 5
}
