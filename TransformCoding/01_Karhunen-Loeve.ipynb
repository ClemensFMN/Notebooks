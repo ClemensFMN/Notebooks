{
 "cells": [
  {
   "cell_type": "markdown",
   "id": "f22d1cee",
   "metadata": {},
   "source": [
    "# Karhunen Loeve Transform"
   ]
  },
  {
   "cell_type": "code",
   "execution_count": 2,
   "id": "b993c980",
   "metadata": {},
   "outputs": [],
   "source": [
    "import numpy as np\n",
    "import scipy.linalg as lin\n",
    "from numpy.random import default_rng\n",
    "import scipy.signal as sig\n",
    "import scipy.fft as fft\n",
    "\n",
    "import matplotlib.pyplot as plt\n",
    "\n",
    "import statsmodels.tsa.stattools as stools\n",
    "import statsmodels.tsa.arima_process as arima\n",
    "\n",
    "plt.rcParams[\"figure.figsize\"] = (8,5)\n",
    "rng = default_rng()"
   ]
  },
  {
   "cell_type": "markdown",
   "id": "b21ba9c6",
   "metadata": {},
   "source": [
    "Create a random signal $u$ (white Gaussian noise) and filter it with a moving-average filter. This creates a signal $x$ with a known autocorrelation function."
   ]
  },
  {
   "cell_type": "code",
   "execution_count": 3,
   "id": "a2b097f3",
   "metadata": {},
   "outputs": [],
   "source": [
    "N = 10\n",
    "u = rng.standard_normal(N)"
   ]
  },
  {
   "cell_type": "code",
   "execution_count": 22,
   "id": "ab6012ee",
   "metadata": {},
   "outputs": [
    {
     "data": {
      "text/plain": [
       "<StemContainer object of 3 artists>"
      ]
     },
     "execution_count": 22,
     "metadata": {},
     "output_type": "execute_result"
    },
    {
     "data": {
      "image/png": "[encoded data removed]",
      "text/plain": [
       "<Figure size 576x360 with 1 Axes>"
      ]
     },
     "metadata": {
      "needs_background": "light"
     },
     "output_type": "display_data"
    }
   ],
   "source": [
    "a = [1]\n",
    "b = np.array([1, 0.8, 0.1])\n",
    "b = b / lin.norm(b)\n",
    "\n",
    "x = sig.lfilter(b,a,u)\n",
    "plt.stem(x)"
   ]
  },
  {
   "cell_type": "markdown",
   "id": "1bd9353f",
   "metadata": {},
   "source": [
    "Now we calculate the analytical solution. The ACF of $y[n]$ is denoted by $r_y[n]$ and is given by\n",
    "\n",
    "$$\n",
    "r_y[n] = r_u([n] \\star h[n] \\star h[-n]\n",
    "$$\n",
    "\n",
    "where $r_u[n]$ denotes the ACF of the input signal $u[n]$ of the filter. We have white noise => $r_u[n] = \\delta[n]$ and therefore\n",
    "\n",
    "$$\n",
    "r_y[n] = h[n] \\star h[-n]\n",
    "$$\n"
   ]
  },
  {
   "cell_type": "code",
   "execution_count": 23,
   "id": "d826a300",
   "metadata": {},
   "outputs": [
    {
     "data": {
      "text/plain": [
       "array([0.06060606, 0.53333333, 1.        , 0.53333333, 0.06060606])"
      ]
     },
     "execution_count": 23,
     "metadata": {},
     "output_type": "execute_result"
    }
   ],
   "source": [
    "brev = b[::-1] # reverse the filter impulse response\n",
    "acf_x = sig.convolve(b, brev) # and convolve with original\n",
    "acf_x"
   ]
  },
  {
   "cell_type": "code",
   "execution_count": 24,
   "id": "f356d6e0",
   "metadata": {},
   "outputs": [
    {
     "data": {
      "text/plain": [
       "<StemContainer object of 3 artists>"
      ]
     },
     "execution_count": 24,
     "metadata": {},
     "output_type": "execute_result"
    },
    {
     "data": {
      "image/png": "[encoded data removed]",
      "text/plain": [
       "<Figure size 576x360 with 1 Axes>"
      ]
     },
     "metadata": {
      "needs_background": "light"
     },
     "output_type": "display_data"
    }
   ],
   "source": [
    "plt.stem(acf_x)"
   ]
  },
  {
   "cell_type": "markdown",
   "id": "e3b44e7b",
   "metadata": {},
   "source": [
    "Now we build up the autocorrelation matrix $\\Sigma$."
   ]
  },
  {
   "cell_type": "code",
   "execution_count": 25,
   "id": "295d1ffb",
   "metadata": {},
   "outputs": [
    {
     "data": {
      "text/plain": [
       "array([[1.        , 0.53333333, 0.06060606, 0.        , 0.        ,\n",
       "        0.        , 0.        , 0.        , 0.        , 0.        ],\n",
       "       [0.53333333, 1.        , 0.53333333, 0.06060606, 0.        ,\n",
       "        0.        , 0.        , 0.        , 0.        , 0.        ],\n",
       "       [0.06060606, 0.53333333, 1.        , 0.53333333, 0.06060606,\n",
       "        0.        , 0.        , 0.        , 0.        , 0.        ],\n",
       "       [0.        , 0.06060606, 0.53333333, 1.        , 0.53333333,\n",
       "        0.06060606, 0.        , 0.        , 0.        , 0.        ],\n",
       "       [0.        , 0.        , 0.06060606, 0.53333333, 1.        ,\n",
       "        0.53333333, 0.06060606, 0.        , 0.        , 0.        ],\n",
       "       [0.        , 0.        , 0.        , 0.06060606, 0.53333333,\n",
       "        1.        , 0.53333333, 0.06060606, 0.        , 0.        ],\n",
       "       [0.        , 0.        , 0.        , 0.        , 0.06060606,\n",
       "        0.53333333, 1.        , 0.53333333, 0.06060606, 0.        ],\n",
       "       [0.        , 0.        , 0.        , 0.        , 0.        ,\n",
       "        0.06060606, 0.53333333, 1.        , 0.53333333, 0.06060606],\n",
       "       [0.        , 0.        , 0.        , 0.        , 0.        ,\n",
       "        0.        , 0.06060606, 0.53333333, 1.        , 0.53333333],\n",
       "       [0.        , 0.        , 0.        , 0.        , 0.        ,\n",
       "        0.        , 0.        , 0.06060606, 0.53333333, 1.        ]])"
      ]
     },
     "execution_count": 25,
     "metadata": {},
     "output_type": "execute_result"
    }
   ],
   "source": [
    "acf_sigma = acf_x[2::]\n",
    "# acf_sigma\n",
    "acf_sigma = np.pad(acf_sigma, [0, N-3])\n",
    "# acf_sigma\n",
    "\n",
    "Sigma = lin.toeplitz(acf_sigma)\n",
    "Sigma"
   ]
  },
  {
   "cell_type": "markdown",
   "id": "10c4c38f",
   "metadata": {},
   "source": [
    "We calculate the eigendecomposition of the autocorrelation matrix. `v` contains the eigenvectors, `w` the eigenvalues."
   ]
  },
  {
   "cell_type": "code",
   "execution_count": 26,
   "id": "c5acb704",
   "metadata": {},
   "outputs": [
    {
     "data": {
      "text/plain": [
       "array([[-0.10796098,  0.2111742 , -0.30301579,  0.37509912,  0.41909655,\n",
       "        -0.42879152, -0.40143826,  0.33828026,  0.24439979, -0.12810308],\n",
       "       [ 0.22263481, -0.38173003,  0.4283547 , -0.34400592, -0.15100307,\n",
       "        -0.0909826 , -0.30344278,  0.41577409,  0.38995709, -0.23408584],\n",
       "       [-0.32048729,  0.42858842, -0.25008414, -0.09721218, -0.37669738,\n",
       "         0.39411156,  0.13591847,  0.21756013,  0.41757763, -0.32280865],\n",
       "       [ 0.39105475, -0.33233355, -0.1079318 ,  0.4200621 ,  0.24139828,\n",
       "         0.21892345,  0.42086565, -0.12701733,  0.31626869, -0.38605877],\n",
       "       [-0.42795122,  0.12471575,  0.3879463 , -0.23464484,  0.31840557,\n",
       "        -0.32343253,  0.22620361, -0.3863063 ,  0.11749572, -0.41898284],\n",
       "       [ 0.42795122,  0.12471575, -0.3879463 , -0.23464484, -0.31840557,\n",
       "        -0.32343253, -0.22620361, -0.3863063 , -0.11749572, -0.41898284],\n",
       "       [-0.39105475, -0.33233355,  0.1079318 ,  0.4200621 , -0.24139828,\n",
       "         0.21892345, -0.42086565, -0.12701733, -0.31626869, -0.38605877],\n",
       "       [ 0.32048729,  0.42858842,  0.25008414, -0.09721218,  0.37669738,\n",
       "         0.39411156, -0.13591847,  0.21756013, -0.41757763, -0.32280865],\n",
       "       [-0.22263481, -0.38173003, -0.4283547 , -0.34400592,  0.15100307,\n",
       "        -0.0909826 ,  0.30344278,  0.41577409, -0.38995709, -0.23408584],\n",
       "       [ 0.10796098,  0.2111742 ,  0.30301579,  0.37509912, -0.41909655,\n",
       "        -0.42879152,  0.40143826,  0.33828026, -0.24439979, -0.12810308]])"
      ]
     },
     "execution_count": 26,
     "metadata": {},
     "output_type": "execute_result"
    }
   ],
   "source": [
    "w, v = lin.eigh(Sigma)\n",
    "v"
   ]
  },
  {
   "cell_type": "markdown",
   "id": "d669076b",
   "metadata": {},
   "source": [
    "Project the signal `x` onto the eigenspace; we left-multiply with `v.T`."
   ]
  },
  {
   "cell_type": "code",
   "execution_count": 27,
   "id": "ef4e24a6",
   "metadata": {},
   "outputs": [
    {
     "data": {
      "text/plain": [
       "array([ 0.0276231 , -0.01120808, -0.02870664, -0.06932505, -0.85368981,\n",
       "       -1.60214211, -0.25636334,  0.25364134, -0.7542995 , -0.71992191])"
      ]
     },
     "execution_count": 27,
     "metadata": {},
     "output_type": "execute_result"
    }
   ],
   "source": [
    "kl = v.T @ x\n",
    "kl"
   ]
  },
  {
   "cell_type": "markdown",
   "id": "f9df7309",
   "metadata": {},
   "source": [
    "Now let's plot the coefficients of the KL transform. I would have expected them to fall off quicker, but anyway..."
   ]
  },
  {
   "cell_type": "code",
   "execution_count": 28,
   "id": "a4e5d451",
   "metadata": {},
   "outputs": [
    {
     "data": {
      "text/plain": [
       "<StemContainer object of 3 artists>"
      ]
     },
     "execution_count": 28,
     "metadata": {},
     "output_type": "execute_result"
    },
    {
     "data": {
      "image/png": "[encoded data removed]",
      "text/plain": [
       "<Figure size 576x360 with 1 Axes>"
      ]
     },
     "metadata": {
      "needs_background": "light"
     },
     "output_type": "display_data"
    }
   ],
   "source": [
    "plt.stem(np.sort(np.abs(kl)))"
   ]
  },
  {
   "cell_type": "markdown",
   "id": "7f53796d",
   "metadata": {},
   "source": [
    "Just to check - when we left-multiply with `v`, we get the original signal: `v v.T x = x`. "
   ]
  },
  {
   "cell_type": "code",
   "execution_count": 29,
   "id": "91a99d88",
   "metadata": {},
   "outputs": [
    {
     "data": {
      "text/plain": [
       "array([ 0.40314171,  0.35428495, -0.37182204, -0.66906175,  0.29531066,\n",
       "        1.17810033,  0.40820743, -0.31199371,  0.54146458,  1.2701391 ])"
      ]
     },
     "execution_count": 29,
     "metadata": {},
     "output_type": "execute_result"
    }
   ],
   "source": [
    "v @ kl"
   ]
  },
  {
   "cell_type": "code",
   "execution_count": 30,
   "id": "17957519",
   "metadata": {},
   "outputs": [
    {
     "data": {
      "text/plain": [
       "array([ 0.40314171,  0.35428495, -0.37182204, -0.66906175,  0.29531066,\n",
       "        1.17810033,  0.40820743, -0.31199371,  0.54146458,  1.2701391 ])"
      ]
     },
     "execution_count": 30,
     "metadata": {},
     "output_type": "execute_result"
    }
   ],
   "source": [
    "x"
   ]
  },
  {
   "cell_type": "code",
   "execution_count": 31,
   "id": "daa95848",
   "metadata": {},
   "outputs": [],
   "source": [
    "dct_x = fft.dct(x, norm='ortho')"
   ]
  },
  {
   "cell_type": "code",
   "execution_count": 32,
   "id": "cbb620aa",
   "metadata": {},
   "outputs": [
    {
     "data": {
      "text/plain": [
       "<StemContainer object of 3 artists>"
      ]
     },
     "execution_count": 32,
     "metadata": {},
     "output_type": "execute_result"
    },
    {
     "data": {
      "image/png": "[encoded data removed]",
      "text/plain": [
       "<Figure size 576x360 with 1 Axes>"
      ]
     },
     "metadata": {
      "needs_background": "light"
     },
     "output_type": "display_data"
    }
   ],
   "source": [
    "plt.stem(np.sort(np.abs(dct_x)))"
   ]
  }
 ],
 "metadata": {
  "kernelspec": {
   "display_name": "Python 3 (ipykernel)",
   "language": "python",
   "name": "python3"
  },
  "language_info": {
   "codemirror_mode": {
    "name": "ipython",
    "version": 3
   },
   "file_extension": ".py",
   "mimetype": "text/x-python",
   "name": "python",
   "nbconvert_exporter": "python",
   "pygments_lexer": "ipython3",
   "version": "3.9.7"
  }
 },
 "nbformat": 4,
 "nbformat_minor": 5
}
