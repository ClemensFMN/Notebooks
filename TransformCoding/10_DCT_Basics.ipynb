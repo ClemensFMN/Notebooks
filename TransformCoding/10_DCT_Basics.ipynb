{
 "cells": [
  {
   "cell_type": "markdown",
   "id": "b1e1e04d",
   "metadata": {},
   "source": [
    "# DCT Basics"
   ]
  },
  {
   "cell_type": "code",
   "execution_count": 1,
   "id": "61d8c7d0",
   "metadata": {},
   "outputs": [],
   "source": [
    "# Import functions and libraries\n",
    "import numpy as np\n",
    "import matplotlib.pyplot as plt\n",
    "\n",
    "import numpy as np\n",
    "import scipy as sc\n",
    "import scipy.fft as fft\n",
    "\n",
    "%matplotlib inline\n",
    "plt.rcParams['figure.figsize'] = (20.0, 7.0)"
   ]
  },
  {
   "cell_type": "code",
   "execution_count": 2,
   "id": "5b5e1041",
   "metadata": {},
   "outputs": [],
   "source": [
    "x = [1.5, 0.8, -0.7, 0.4]"
   ]
  },
  {
   "cell_type": "markdown",
   "id": "8706ee63",
   "metadata": {},
   "source": [
    "Looking at scipy documentation (https://docs.scipy.org/doc/scipy/reference/generated/scipy.fft.dct.html), we see that the DCT $y_k$ of a signal $x_n$ is defined as\n",
    "\n",
    "$$\n",
    "y_k = 2 \\sum_{n=0}^{N-1} x_n \\cos\\left(\\frac{\\pi k(2n+1)}{2N} \\right)\n",
    "$$"
   ]
  },
  {
   "cell_type": "code",
   "execution_count": 5,
   "id": "b70ef36c",
   "metadata": {},
   "outputs": [
    {
     "data": {
      "text/plain": [
       "array([ 4.        ,  3.18058527,  2.54558441, -1.92973505])"
      ]
     },
     "execution_count": 5,
     "metadata": {},
     "output_type": "execute_result"
    }
   ],
   "source": [
    "dct_x = fft.dct(x)\n",
    "dct_x"
   ]
  },
  {
   "cell_type": "markdown",
   "id": "4e4e1e71",
   "metadata": {},
   "source": [
    "As $y_0 = 2 \\sum_n x_n$, we have"
   ]
  },
  {
   "cell_type": "code",
   "execution_count": 7,
   "id": "17f766fc",
   "metadata": {},
   "outputs": [
    {
     "data": {
      "text/plain": [
       "2.0"
      ]
     },
     "execution_count": 7,
     "metadata": {},
     "output_type": "execute_result"
    }
   ],
   "source": [
    "np.sum(x)"
   ]
  },
  {
   "cell_type": "markdown",
   "id": "93ac949a",
   "metadata": {},
   "source": [
    "Taking the inverse transform yields the original signal."
   ]
  },
  {
   "cell_type": "code",
   "execution_count": 8,
   "id": "2b7f4128",
   "metadata": {},
   "outputs": [
    {
     "data": {
      "text/plain": [
       "array([ 1.5,  0.8, -0.7,  0.4])"
      ]
     },
     "execution_count": 8,
     "metadata": {},
     "output_type": "execute_result"
    }
   ],
   "source": [
    "fft.idct(dct_x)"
   ]
  },
  {
   "cell_type": "markdown",
   "id": "e20557f8",
   "metadata": {},
   "source": [
    "By a clever arrangement of the signal, the DCT can be calculated by means of FFT. We make the signal 4 times longer and add a zero at even indices. In the second part of the signal, we put the original signal in reverse.\n",
    "\n",
    "Then we take the FFT."
   ]
  },
  {
   "cell_type": "code",
   "execution_count": 12,
   "id": "9c4911fd",
   "metadata": {},
   "outputs": [
    {
     "data": {
      "text/plain": [
       "array([ 4.        -0.j,  3.18058527+0.j,  2.54558441-0.j, -1.92973505+0.j,\n",
       "        0.        +0.j,  1.92973505+0.j, -2.54558441+0.j, -3.18058527+0.j,\n",
       "       -4.        -0.j, -3.18058527-0.j, -2.54558441-0.j,  1.92973505-0.j,\n",
       "        0.        -0.j, -1.92973505-0.j,  2.54558441+0.j,  3.18058527-0.j])"
      ]
     },
     "execution_count": 12,
     "metadata": {},
     "output_type": "execute_result"
    }
   ],
   "source": [
    "xbig = [0, 1.5, 0, 0.8, 0, -0.7, 0, 0.4, 0, 0.4, 0, -0.7, 0, 0.8, 0, 1.5]\n",
    "fft.fft(xbig)"
   ]
  }
 ],
 "metadata": {
  "kernelspec": {
   "display_name": "Python 3 (ipykernel)",
   "language": "python",
   "name": "python3"
  },
  "language_info": {
   "codemirror_mode": {
    "name": "ipython",
    "version": 3
   },
   "file_extension": ".py",
   "mimetype": "text/x-python",
   "name": "python",
   "nbconvert_exporter": "python",
   "pygments_lexer": "ipython3",
   "version": "3.9.7"
  }
 },
 "nbformat": 4,
 "nbformat_minor": 5
}
