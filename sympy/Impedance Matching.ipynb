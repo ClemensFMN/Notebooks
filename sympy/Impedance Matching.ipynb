{
 "cells": [
  {
   "cell_type": "code",
   "execution_count": 13,
   "id": "b77bc085",
   "metadata": {},
   "outputs": [],
   "source": [
    "import sympy as sym\n",
    "sym.init_printing()"
   ]
  },
  {
   "cell_type": "code",
   "execution_count": 14,
   "id": "45602b22",
   "metadata": {},
   "outputs": [],
   "source": [
    "u0, u, i, rs, rl, p = sym.symbols('u0 u i rs rl p')"
   ]
  },
  {
   "cell_type": "code",
   "execution_count": 5,
   "id": "3226804b",
   "metadata": {},
   "outputs": [],
   "source": [
    "u = u0*rl/(rs+rl)\n",
    "i = u0/(rs+rl)"
   ]
  },
  {
   "cell_type": "code",
   "execution_count": 15,
   "id": "5783cda2",
   "metadata": {},
   "outputs": [
    {
     "name": "stdout",
     "output_type": "stream",
     "text": [
      "       2  \n",
      "  rl⋅u₀   \n",
      "──────────\n",
      "         2\n",
      "(rl + rs) \n"
     ]
    }
   ],
   "source": [
    "p = u0**2 * rl /(rs + rl)**2\n",
    "sym.pprint(p)"
   ]
  },
  {
   "cell_type": "code",
   "execution_count": 16,
   "id": "e54611a4",
   "metadata": {},
   "outputs": [
    {
     "name": "stdout",
     "output_type": "stream",
     "text": [
      "          2         2    \n",
      "   2⋅rl⋅u₀        u₀     \n",
      "- ────────── + ──────────\n",
      "           3            2\n",
      "  (rl + rs)    (rl + rs) \n"
     ]
    }
   ],
   "source": [
    "dpdrl = sym.diff(p, rl)\n",
    "sym.pprint(dpdrl)"
   ]
  },
  {
   "cell_type": "code",
   "execution_count": 21,
   "id": "c93d9406",
   "metadata": {},
   "outputs": [
    {
     "data": {
      "image/png": "[encoded data removed]",
      "text/latex": [
       "$\\displaystyle \\left[ rs\\right]$"
      ],
      "text/plain": [
       "[rs]"
      ]
     },
     "execution_count": 21,
     "metadata": {},
     "output_type": "execute_result"
    }
   ],
   "source": [
    "sym.solve(sym.Eq(dpdrl,0),rl)"
   ]
  }
 ],
 "metadata": {
  "kernelspec": {
   "display_name": "Python 3 (ipykernel)",
   "language": "python",
   "name": "python3"
  },
  "language_info": {
   "codemirror_mode": {
    "name": "ipython",
    "version": 3
   },
   "file_extension": ".py",
   "mimetype": "text/x-python",
   "name": "python",
   "nbconvert_exporter": "python",
   "pygments_lexer": "ipython3",
   "version": "3.9.9"
  }
 },
 "nbformat": 4,
 "nbformat_minor": 5
}
