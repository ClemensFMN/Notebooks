{
 "cells": [
  {
   "cell_type": "code",
   "execution_count": 1,
   "id": "75a55f39",
   "metadata": {},
   "outputs": [
    {
     "name": "stdout",
     "output_type": "stream",
     "text": [
      "IPython console for SymPy 1.14.0 (Python 3.13.3-64-bit) (ground types: gmpy)\n",
      "\n",
      "These commands were executed:\n",
      ">>> from sympy import *\n",
      ">>> x, y, z, t = symbols('x y z t')\n",
      ">>> k, m, n = symbols('k m n', integer=True)\n",
      ">>> f, g, h = symbols('f g h', cls=Function)\n",
      ">>> init_printing()\n",
      "\n",
      "Documentation can be found at https://docs.sympy.org/1.14.0/\n",
      "\n"
     ]
    }
   ],
   "source": [
    "from sympy import *\n",
    "from sympy.polys import *\n",
    "init_session()\n",
    "\n",
    "from sympy.plotting import plot\n",
    "%matplotlib inline"
   ]
  },
  {
   "cell_type": "code",
   "execution_count": 43,
   "id": "3f0c5a7a-02df-4b8c-88af-6e02e4ee4a6f",
   "metadata": {},
   "outputs": [],
   "source": [
    "def inner_prod(f, g, var, a, b):\n",
    "    # calculate the inner product between function f & g, independent variable var & in the interval [a,b]\n",
    "    inner_fg = integrate(f * g, (var, a, b))\n",
    "    return(inner_fg)"
   ]
  },
  {
   "cell_type": "code",
   "execution_count": 44,
   "id": "5643436f-d645-4758-aba5-9a621df1c611",
   "metadata": {},
   "outputs": [],
   "source": [
    "def project(f, g, var, a, b):\n",
    "    # project function f onto g\n",
    "    inner_fg = integrate(f * g, (var, a, b))\n",
    "    inner_gg = integrate(g * g, (var, a, b))\n",
    "    projection = simplify((inner_fg / inner_gg) * g)\n",
    "    return projection"
   ]
  },
  {
   "cell_type": "code",
   "execution_count": 45,
   "id": "afa8e6a3-1b67-477e-b1fc-dffe358035fe",
   "metadata": {},
   "outputs": [
    {
     "name": "stdout",
     "output_type": "stream",
     "text": [
      "3*x/4\n"
     ]
    }
   ],
   "source": [
    "# dry run\n",
    "f = x**2\n",
    "g = x\n",
    "proj = project(f, g, x, 0, 1)\n",
    "print(proj)"
   ]
  },
  {
   "cell_type": "code",
   "execution_count": 46,
   "id": "f1b19d31-9021-4764-ab85-8f952e04a974",
   "metadata": {},
   "outputs": [
    {
     "name": "stdout",
     "output_type": "stream",
     "text": [
      "0\n"
     ]
    }
   ],
   "source": [
    "proj = project(1, x, x, -1, 1)\n",
    "print(proj)"
   ]
  },
  {
   "cell_type": "code",
   "execution_count": 47,
   "id": "fa6b1e70-b514-4c0e-9f67-843a64afa1c0",
   "metadata": {},
   "outputs": [],
   "source": [
    "def gram_schmidt(functions, var, a, b):\n",
    "    # gram-schmidt for a list of functions\n",
    "    orthogonal = []\n",
    "    for f in functions:\n",
    "        ortho_f = f\n",
    "        for g in orthogonal:\n",
    "            ortho_f -= project(f, g, var, a, b)\n",
    "        orthogonal.append(simplify(ortho_f))\n",
    "    return orthogonal"
   ]
  },
  {
   "cell_type": "code",
   "execution_count": 48,
   "id": "72f75dfd-62c4-449a-a6c7-eaa621e0389f",
   "metadata": {},
   "outputs": [
    {
     "name": "stdout",
     "output_type": "stream",
     "text": [
      "u1(x) = 1\n",
      "u2(x) = x\n",
      "u3(x) = x**2 - 1/3\n",
      "u4(x) = x*(x**2 - 3/5)\n"
     ]
    }
   ],
   "source": [
    "basis = [1, x, x**2, x**3]\n",
    "orthogonal_basis = gram_schmidt(basis, x, -1, 1)\n",
    "\n",
    "for i, u in enumerate(orthogonal_basis, start=1):\n",
    "    print(f\"u{i}(x) =\", u)"
   ]
  },
  {
   "cell_type": "code",
   "execution_count": 49,
   "id": "d0cf4bb5-12cb-47ce-84af-2f2523149ace",
   "metadata": {},
   "outputs": [
    {
     "data": {
      "image/png": "[encoded data removed]",
      "text/latex": [
       "$\\displaystyle \\left( 0, \\  0, \\  0\\right)$"
      ],
      "text/plain": [
       "(0, 0, 0)"
      ]
     },
     "execution_count": 49,
     "metadata": {},
     "output_type": "execute_result"
    }
   ],
   "source": [
    "inner_prod(orthogonal_basis[0], orthogonal_basis[1], x, -1, 1), inner_prod(orthogonal_basis[0], orthogonal_basis[2], x, -1, 1), inner_prod(orthogonal_basis[1], orthogonal_basis[2], x, -1, 1)"
   ]
  },
  {
   "cell_type": "markdown",
   "id": "0f890832-900b-4a2e-a0af-3a3c7e1913bb",
   "metadata": {},
   "source": [
    "Ok, so we have found an orthogonal basis => Let's compare with the legendre polynomials"
   ]
  },
  {
   "cell_type": "code",
   "execution_count": 50,
   "id": "00054f8b-62f6-4f04-b512-9c8b99d34b07",
   "metadata": {},
   "outputs": [
    {
     "data": {
      "image/png": "[encoded data removed]",
      "text/latex": [
       "$\\displaystyle \\left( 1, \\  x, \\  \\frac{3 x^{2}}{2} - \\frac{1}{2}, \\  \\frac{5 x^{3}}{2} - \\frac{3 x}{2}\\right)$"
      ],
      "text/plain": [
       "⎛         2         3      ⎞\n",
       "⎜      3⋅x    1  5⋅x    3⋅x⎟\n",
       "⎜1, x, ──── - ─, ──── - ───⎟\n",
       "⎝       2     2   2      2 ⎠"
      ]
     },
     "execution_count": 50,
     "metadata": {},
     "output_type": "execute_result"
    }
   ],
   "source": [
    "L0 = legendre_poly(0,x)\n",
    "L1 = legendre_poly(1,x)\n",
    "L2 = legendre_poly(2,x)\n",
    "L3 = legendre_poly(3,x)\n",
    "L0, L1, L2, L3"
   ]
  },
  {
   "cell_type": "markdown",
   "id": "506407d3-b40d-481e-8b36-e9f9440bc98b",
   "metadata": {},
   "source": [
    "They are not equal, but differ just by a constant factor"
   ]
  },
  {
   "cell_type": "code",
   "execution_count": 54,
   "id": "ca08860d-661d-44fc-a071-e682f72f4800",
   "metadata": {},
   "outputs": [
    {
     "data": {
      "image/png": "[encoded data removed]",
      "text/latex": [
       "$\\displaystyle \\frac{2}{3}$"
      ],
      "text/plain": [
       "2/3"
      ]
     },
     "execution_count": 54,
     "metadata": {},
     "output_type": "execute_result"
    }
   ],
   "source": [
    "simplify(orthogonal_basis[2] / L2)"
   ]
  }
 ],
 "metadata": {
  "kernelspec": {
   "display_name": "Python 3 (ipykernel)",
   "language": "python",
   "name": "python3"
  },
  "language_info": {
   "codemirror_mode": {
    "name": "ipython",
    "version": 3
   },
   "file_extension": ".py",
   "mimetype": "text/x-python",
   "name": "python",
   "nbconvert_exporter": "python",
   "pygments_lexer": "ipython3",
   "version": "3.13.3"
  }
 },
 "nbformat": 4,
 "nbformat_minor": 5
}
