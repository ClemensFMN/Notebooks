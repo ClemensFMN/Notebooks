{
 "cells": [
  {
   "cell_type": "code",
   "execution_count": 1,
   "id": "75a55f39",
   "metadata": {},
   "outputs": [
    {
     "name": "stdout",
     "output_type": "stream",
     "text": [
      "IPython console for SymPy 1.12 (Python 3.11.6-64-bit) (ground types: gmpy)\n",
      "\n",
      "These commands were executed:\n",
      ">>> from sympy import *\n",
      ">>> x, y, z, t = symbols('x y z t')\n",
      ">>> k, m, n = symbols('k m n', integer=True)\n",
      ">>> f, g, h = symbols('f g h', cls=Function)\n",
      ">>> init_printing()\n",
      "\n",
      "Documentation can be found at https://docs.sympy.org/1.12/\n",
      "\n"
     ]
    }
   ],
   "source": [
    "from sympy import *\n",
    "init_session()\n",
    "\n",
    "from sympy.plotting import plot\n",
    "%matplotlib inline"
   ]
  },
  {
   "cell_type": "markdown",
   "id": "d20d3f6f-a15c-4185-a7a0-2b221991448a",
   "metadata": {},
   "source": [
    "# Solving Equations\n",
    "\n",
    "solve(eq) implicitely means solve for eq = 0"
   ]
  },
  {
   "cell_type": "code",
   "execution_count": 6,
   "id": "326d7bb4-04ae-4ba3-a48c-5063ad1b61fc",
   "metadata": {},
   "outputs": [
    {
     "data": {
      "image/png": "[encoded data removed]",
      "text/latex": [
       "$\\displaystyle \\left[ - \\sqrt{3}, \\  \\sqrt{3}\\right]$"
      ],
      "text/plain": [
       "[-√3, √3]"
      ]
     },
     "execution_count": 6,
     "metadata": {},
     "output_type": "execute_result"
    }
   ],
   "source": [
    "solve(x**2 - 3, x)"
   ]
  },
  {
   "cell_type": "code",
   "execution_count": 7,
   "id": "f81e066e-45d9-4a78-a295-5d7d3e448e88",
   "metadata": {},
   "outputs": [
    {
     "data": {
      "image/png": "[encoded data removed]",
      "text/latex": [
       "$\\displaystyle \\left[ - \\sqrt{3} i, \\  \\sqrt{3} i\\right]$"
      ],
      "text/plain": [
       "[-√3⋅ⅈ, √3⋅ⅈ]"
      ]
     },
     "execution_count": 7,
     "metadata": {},
     "output_type": "execute_result"
    }
   ],
   "source": [
    "solve(x**2 + 3, x)"
   ]
  },
  {
   "cell_type": "code",
   "execution_count": 13,
   "id": "8adee1e5-7765-4357-9772-8eebaebabd95",
   "metadata": {},
   "outputs": [
    {
     "data": {
      "image/png": "[encoded data removed]",
      "text/latex": [
       "$\\displaystyle \\left\\{ x : \\frac{18}{5}, \\  y : \\frac{32}{5}\\right\\}$"
      ],
      "text/plain": [
       "{x: 18/5, y: 32/5}"
      ]
     },
     "execution_count": 13,
     "metadata": {},
     "output_type": "execute_result"
    }
   ],
   "source": [
    "solve([3*x-2*y+2, x+y-10],(x,y))"
   ]
  },
  {
   "cell_type": "markdown",
   "id": "e13ee816-dafa-4d9c-9505-27f7334ac424",
   "metadata": {},
   "source": [
    "# Series and Limits"
   ]
  },
  {
   "cell_type": "code",
   "execution_count": 9,
   "id": "4a7a4501-a992-4607-93d6-b3edd71dfc60",
   "metadata": {},
   "outputs": [
    {
     "data": {
      "image/png": "[encoded data removed]",
      "text/latex": [
       "$\\displaystyle x - \\frac{x^{3}}{6} + \\frac{x^{5}}{120} - \\frac{x^{7}}{5040} + \\frac{x^{9}}{362880} + O\\left(x^{10}\\right)$"
      ],
      "text/plain": [
       "     3     5     7       9           \n",
       "    x     x     x       x       ⎛ 10⎞\n",
       "x - ── + ─── - ──── + ────── + O⎝x  ⎠\n",
       "    6    120   5040   362880         "
      ]
     },
     "execution_count": 9,
     "metadata": {},
     "output_type": "execute_result"
    }
   ],
   "source": [
    "series(sin(x), x, 0, n=10)"
   ]
  },
  {
   "cell_type": "code",
   "execution_count": 10,
   "id": "509b041f-cdfb-4f9d-9926-40dc077b8347",
   "metadata": {},
   "outputs": [
    {
     "data": {
      "image/png": "[encoded data removed]",
      "text/latex": [
       "$\\displaystyle 1$"
      ],
      "text/plain": [
       "1"
      ]
     },
     "execution_count": 10,
     "metadata": {},
     "output_type": "execute_result"
    }
   ],
   "source": [
    "limit(sin(x)/x, x, 0)"
   ]
  },
  {
   "cell_type": "markdown",
   "id": "ed6d136a-8b2d-4134-819d-6961e6e9f50b",
   "metadata": {},
   "source": [
    "# Differentiation and Integration"
   ]
  },
  {
   "cell_type": "code",
   "execution_count": 11,
   "id": "f74ddf6d-101d-496b-97c8-93fbffbbfcb4",
   "metadata": {},
   "outputs": [
    {
     "data": {
      "image/png": "[encoded data removed]",
      "text/latex": [
       "$\\displaystyle \\cos{\\left(x \\right)}$"
      ],
      "text/plain": [
       "cos(x)"
      ]
     },
     "execution_count": 11,
     "metadata": {},
     "output_type": "execute_result"
    }
   ],
   "source": [
    "diff(sin(x), x)"
   ]
  },
  {
   "cell_type": "code",
   "execution_count": 20,
   "id": "ef13b6b2",
   "metadata": {},
   "outputs": [
    {
     "data": {
      "image/png": "[encoded data removed]",
      "text/latex": [
       "$\\displaystyle \\frac{z^{3}}{3}$"
      ],
      "text/plain": [
       " 3\n",
       "z \n",
       "──\n",
       "3 "
      ]
     },
     "execution_count": 20,
     "metadata": {},
     "output_type": "execute_result"
    }
   ],
   "source": [
    "p=integrate(x**2,(x,0,z))\n",
    "p"
   ]
  },
  {
   "cell_type": "code",
   "execution_count": 28,
   "id": "679693a8",
   "metadata": {},
   "outputs": [
    {
     "data": {
      "image/png": "[encoded data removed]",
      "text/plain": [
       "<Figure size 432x288 with 1 Axes>"
      ]
     },
     "metadata": {
      "needs_background": "light"
     },
     "output_type": "display_data"
    },
    {
     "data": {
      "text/plain": [
       "<sympy.plotting.plot.Plot at 0x7f8b43431fd0>"
      ]
     },
     "execution_count": 28,
     "metadata": {},
     "output_type": "execute_result"
    }
   ],
   "source": [
    "plot(p,title=\"Plot\", xlabel=\"$z$\", ylabel=\"$p$\", xlim=(-5,5), ylim=(-4,4))"
   ]
  }
 ],
 "metadata": {
  "kernelspec": {
   "display_name": "Python 3 (ipykernel)",
   "language": "python",
   "name": "python3"
  },
  "language_info": {
   "codemirror_mode": {
    "name": "ipython",
    "version": 3
   },
   "file_extension": ".py",
   "mimetype": "text/x-python",
   "name": "python",
   "nbconvert_exporter": "python",
   "pygments_lexer": "ipython3",
   "version": "3.11.6"
  }
 },
 "nbformat": 4,
 "nbformat_minor": 5
}
