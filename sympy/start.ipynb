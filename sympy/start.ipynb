{
 "cells": [
  {
   "cell_type": "code",
   "execution_count": 1,
   "id": "75a55f39",
   "metadata": {},
   "outputs": [
    {
     "name": "stdout",
     "output_type": "stream",
     "text": [
      "IPython console for SymPy 1.13.3 (Python 3.13.2-64-bit) (ground types: gmpy)\n",
      "\n",
      "These commands were executed:\n",
      ">>> from sympy import *\n",
      ">>> x, y, z, t = symbols('x y z t')\n",
      ">>> k, m, n = symbols('k m n', integer=True)\n",
      ">>> f, g, h = symbols('f g h', cls=Function)\n",
      ">>> init_printing()\n",
      "\n",
      "Documentation can be found at https://docs.sympy.org/1.13.3/\n",
      "\n"
     ]
    }
   ],
   "source": [
    "from sympy import *\n",
    "init_session()\n",
    "\n",
    "from sympy.plotting import plot\n",
    "%matplotlib inline"
   ]
  },
  {
   "cell_type": "markdown",
   "id": "0631568f-982b-4937-8ca3-fcb318971086",
   "metadata": {},
   "source": [
    "# Algebraic Manipulations"
   ]
  },
  {
   "cell_type": "code",
   "execution_count": 18,
   "id": "6685e3b5-f9f8-4fb4-912c-d560579b1589",
   "metadata": {},
   "outputs": [
    {
     "data": {
      "image/png": "[encoded data removed]",
      "text/latex": [
       "$\\displaystyle x^{3} + 3 x^{2} y + 3 x y^{2} + y^{3}$"
      ],
      "text/plain": [
       " 3      2          2    3\n",
       "x  + 3⋅x ⋅y + 3⋅x⋅y  + y "
      ]
     },
     "execution_count": 18,
     "metadata": {},
     "output_type": "execute_result"
    }
   ],
   "source": [
    "expand((x+y)**3)"
   ]
  },
  {
   "cell_type": "markdown",
   "id": "4d35d944-f884-447c-8414-60559cdb9470",
   "metadata": {},
   "source": [
    "To expand a trigonometric expression, we have to provide the \"hint\" `trig`."
   ]
  },
  {
   "cell_type": "code",
   "execution_count": 25,
   "id": "96e05daf-0715-4b92-b844-83c089b9ed43",
   "metadata": {},
   "outputs": [
    {
     "name": "stdout",
     "output_type": "stream",
     "text": [
      "sin(2⋅x)\n",
      "2⋅sin(x)⋅cos(x)\n"
     ]
    }
   ],
   "source": [
    "t = (sin(2*x))\n",
    "pprint(t)\n",
    "res = expand(t, trig=True)\n",
    "pprint(res)"
   ]
  },
  {
   "cell_type": "code",
   "execution_count": 31,
   "id": "bc881f23-eaa6-4ab8-9e41-ffe83c861eff",
   "metadata": {},
   "outputs": [
    {
     "name": "stdout",
     "output_type": "stream",
     "text": [
      " 4⋅x  \n",
      "──────\n",
      " 2    \n",
      "x  - 1\n",
      "  2       2  \n",
      "───── + ─────\n",
      "x + 1   x - 1\n"
     ]
    }
   ],
   "source": [
    "# partially taken from https://stackoverflow.com/questions/64101194/partial-fraction-decomposition-using-sympy-python\n",
    "t = 4*x/(x**2 - 1)\n",
    "pprint(t)\n",
    "res = apart(t)\n",
    "pprint(res)"
   ]
  },
  {
   "cell_type": "code",
   "execution_count": 30,
   "id": "2c316249-21e5-4e22-8cca-2eb9b2cce00c",
   "metadata": {},
   "outputs": [
    {
     "name": "stdout",
     "output_type": "stream",
     "text": [
      "       2               \n",
      "    4⋅x  + 2⋅x - 1     \n",
      "───────────────────────\n",
      "(x - 1)⋅(x + 2)⋅(x + 5)\n",
      "    89          11           5     \n",
      "────────── - ───────── + ──────────\n",
      "18⋅(x + 5)   9⋅(x + 2)   18⋅(x - 1)\n"
     ]
    }
   ],
   "source": [
    "t = (4*x**2 + 2*x-1)/((x-1)*(x+2)*(x+5))\n",
    "pprint(t)\n",
    "res = apart(t)\n",
    "pprint(res)"
   ]
  },
  {
   "cell_type": "markdown",
   "id": "d20d3f6f-a15c-4185-a7a0-2b221991448a",
   "metadata": {},
   "source": [
    "# Solving Equations\n",
    "\n",
    "solve(eq) implicitely means solve for eq = 0"
   ]
  },
  {
   "cell_type": "code",
   "execution_count": 2,
   "id": "326d7bb4-04ae-4ba3-a48c-5063ad1b61fc",
   "metadata": {},
   "outputs": [
    {
     "data": {
      "image/png": "[encoded data removed]",
      "text/latex": [
       "$\\displaystyle \\left[ - \\sqrt{3}, \\  \\sqrt{3}\\right]$"
      ],
      "text/plain": [
       "[-√3, √3]"
      ]
     },
     "execution_count": 2,
     "metadata": {},
     "output_type": "execute_result"
    }
   ],
   "source": [
    "solve(x**2 - 3, x)"
   ]
  },
  {
   "cell_type": "code",
   "execution_count": 3,
   "id": "f81e066e-45d9-4a78-a295-5d7d3e448e88",
   "metadata": {},
   "outputs": [
    {
     "data": {
      "image/png": "[encoded data removed]",
      "text/latex": [
       "$\\displaystyle \\left[ - \\sqrt{3} i, \\  \\sqrt{3} i\\right]$"
      ],
      "text/plain": [
       "[-√3⋅ⅈ, √3⋅ⅈ]"
      ]
     },
     "execution_count": 3,
     "metadata": {},
     "output_type": "execute_result"
    }
   ],
   "source": [
    "solve(x**2 + 3, x)"
   ]
  },
  {
   "cell_type": "code",
   "execution_count": 4,
   "id": "8adee1e5-7765-4357-9772-8eebaebabd95",
   "metadata": {},
   "outputs": [
    {
     "data": {
      "image/png": "[encoded data removed]",
      "text/latex": [
       "$\\displaystyle \\left\\{ x : \\frac{18}{5}, \\  y : \\frac{32}{5}\\right\\}$"
      ],
      "text/plain": [
       "{x: 18/5, y: 32/5}"
      ]
     },
     "execution_count": 4,
     "metadata": {},
     "output_type": "execute_result"
    }
   ],
   "source": [
    "solve([3*x-2*y+2, x+y-10],(x,y))"
   ]
  },
  {
   "cell_type": "markdown",
   "id": "e13ee816-dafa-4d9c-9505-27f7334ac424",
   "metadata": {},
   "source": [
    "# Series and Limits"
   ]
  },
  {
   "cell_type": "code",
   "execution_count": 5,
   "id": "4a7a4501-a992-4607-93d6-b3edd71dfc60",
   "metadata": {},
   "outputs": [
    {
     "data": {
      "image/png": "[encoded data removed]",
      "text/latex": [
       "$\\displaystyle x - \\frac{x^{3}}{6} + \\frac{x^{5}}{120} - \\frac{x^{7}}{5040} + \\frac{x^{9}}{362880} + O\\left(x^{10}\\right)$"
      ],
      "text/plain": [
       "     3    5      7       9           \n",
       "    x    x      x       x       ⎛ 10⎞\n",
       "x - ── + ─── - ──── + ────── + O⎝x  ⎠\n",
       "    6    120   5040   362880         "
      ]
     },
     "execution_count": 5,
     "metadata": {},
     "output_type": "execute_result"
    }
   ],
   "source": [
    "series(sin(x), x, 0, n=10)"
   ]
  },
  {
   "cell_type": "code",
   "execution_count": 6,
   "id": "509b041f-cdfb-4f9d-9926-40dc077b8347",
   "metadata": {},
   "outputs": [
    {
     "data": {
      "image/png": "[encoded data removed]",
      "text/latex": [
       "$\\displaystyle 1$"
      ],
      "text/plain": [
       "1"
      ]
     },
     "execution_count": 6,
     "metadata": {},
     "output_type": "execute_result"
    }
   ],
   "source": [
    "limit(sin(x)/x, x, 0)"
   ]
  },
  {
   "cell_type": "markdown",
   "id": "ed6d136a-8b2d-4134-819d-6961e6e9f50b",
   "metadata": {},
   "source": [
    "# Differentiation and Integration"
   ]
  },
  {
   "cell_type": "code",
   "execution_count": 7,
   "id": "f74ddf6d-101d-496b-97c8-93fbffbbfcb4",
   "metadata": {},
   "outputs": [
    {
     "data": {
      "image/png": "[encoded data removed]",
      "text/latex": [
       "$\\displaystyle \\cos{\\left(x \\right)}$"
      ],
      "text/plain": [
       "cos(x)"
      ]
     },
     "execution_count": 7,
     "metadata": {},
     "output_type": "execute_result"
    }
   ],
   "source": [
    "diff(sin(x), x)"
   ]
  },
  {
   "cell_type": "code",
   "execution_count": 16,
   "id": "ef13b6b2",
   "metadata": {},
   "outputs": [
    {
     "data": {
      "image/png": "[encoded data removed]",
      "text/latex": [
       "$\\displaystyle \\frac{x^{3}}{3}$"
      ],
      "text/plain": [
       " 3\n",
       "x \n",
       "──\n",
       "3 "
      ]
     },
     "execution_count": 16,
     "metadata": {},
     "output_type": "execute_result"
    }
   ],
   "source": [
    "p=integrate(x**2,(x))\n",
    "p"
   ]
  },
  {
   "cell_type": "code",
   "execution_count": 13,
   "id": "f37fc558-01c3-49a1-bdeb-f48bffba1d9f",
   "metadata": {},
   "outputs": [
    {
     "data": {
      "image/png": "[encoded data removed]",
      "text/latex": [
       "$\\displaystyle \\frac{1}{3}$"
      ],
      "text/plain": [
       "1/3"
      ]
     },
     "execution_count": 13,
     "metadata": {},
     "output_type": "execute_result"
    }
   ],
   "source": [
    "integrate(x**2,(x,0,1))"
   ]
  },
  {
   "cell_type": "code",
   "execution_count": 17,
   "id": "679693a8",
   "metadata": {},
   "outputs": [
    {
     "data": {
      "image/png": "[encoded data removed]",
      "text/plain": [
       "<Figure size 640x480 with 1 Axes>"
      ]
     },
     "metadata": {},
     "output_type": "display_data"
    },
    {
     "data": {
      "text/plain": [
       "<sympy.plotting.backends.matplotlibbackend.matplotlib.MatplotlibBackend at 0x70965d01dd10>"
      ]
     },
     "execution_count": 17,
     "metadata": {},
     "output_type": "execute_result"
    }
   ],
   "source": [
    "plot(p,title=\"Plot\", xlabel=\"$z$\", ylabel=\"$p$\", xlim=(-5,5), ylim=(-4,4))"
   ]
  }
 ],
 "metadata": {
  "kernelspec": {
   "display_name": "Python 3 (ipykernel)",
   "language": "python",
   "name": "python3"
  },
  "language_info": {
   "codemirror_mode": {
    "name": "ipython",
    "version": 3
   },
   "file_extension": ".py",
   "mimetype": "text/x-python",
   "name": "python",
   "nbconvert_exporter": "python",
   "pygments_lexer": "ipython3",
   "version": "3.13.3"
  }
 },
 "nbformat": 4,
 "nbformat_minor": 5
}
