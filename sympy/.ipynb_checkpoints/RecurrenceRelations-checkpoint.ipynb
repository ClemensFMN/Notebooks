{
 "cells": [
  {
   "cell_type": "code",
   "execution_count": 1,
   "id": "181a6825-bcdb-4f5d-b4a8-e9306c758280",
   "metadata": {},
   "outputs": [],
   "source": [
    "from sympy import *\n",
    "from sympy.abc import n\n",
    "import matplotlib.pyplot as plt"
   ]
  },
  {
   "cell_type": "code",
   "execution_count": 2,
   "id": "e3869dc7-8393-4b8d-b4e4-f36437d3bb99",
   "metadata": {},
   "outputs": [],
   "source": [
    "y = Function('y')"
   ]
  },
  {
   "cell_type": "markdown",
   "id": "a34187b7-756e-4791-b88a-7662a06e5287",
   "metadata": {},
   "source": [
    "# Fibonacci Sequence"
   ]
  },
  {
   "cell_type": "code",
   "execution_count": 3,
   "id": "9e35c86f-4e33-444e-afda-2e488a0e13f8",
   "metadata": {},
   "outputs": [
    {
     "data": {
      "text/latex": [
       "$\\displaystyle - \\frac{\\sqrt{5} \\left(\\frac{1}{2} - \\frac{\\sqrt{5}}{2}\\right)^{n}}{5} + \\frac{\\sqrt{5} \\left(\\frac{1}{2} + \\frac{\\sqrt{5}}{2}\\right)^{n}}{5}$"
      ],
      "text/plain": [
       "-sqrt(5)*(1/2 - sqrt(5)/2)**n/5 + sqrt(5)*(1/2 + sqrt(5)/2)**n/5"
      ]
     },
     "execution_count": 3,
     "metadata": {},
     "output_type": "execute_result"
    }
   ],
   "source": [
    "# Classical Fibonacci problem\n",
    "g = y(n)-y(n-1)-y(n-2)\n",
    "sol1 = rsolve(g, y(n), { y(0):0, y(1):1 })\n",
    "sol1"
   ]
  },
  {
   "cell_type": "code",
   "execution_count": 13,
   "id": "7a8870a7-329e-4cd7-a81d-ed80da78db28",
   "metadata": {},
   "outputs": [
    {
     "data": {
      "text/plain": [
       "[(0, 0),\n",
       " (1, 1.00000000000000),\n",
       " (2, 1.00000000000000),\n",
       " (3, 2.00000000000000),\n",
       " (4, 3.00000000000000),\n",
       " (5, 5.00000000000000),\n",
       " (6, 8.00000000000000),\n",
       " (7, 13.0000000000000),\n",
       " (8, 21.0000000000000),\n",
       " (9, 34.0000000000000)]"
      ]
     },
     "execution_count": 13,
     "metadata": {},
     "output_type": "execute_result"
    }
   ],
   "source": [
    "nvec = range(10)\n",
    "sol1_val = [sol1.subs(n,nval).evalf() for nval in nvec]\n",
    "\n",
    "[(nval, sol1.subs(n,nval).evalf()) for nval in nvec]"
   ]
  },
  {
   "cell_type": "code",
   "execution_count": 5,
   "id": "23049578",
   "metadata": {},
   "outputs": [
    {
     "data": {
      "text/latex": [
       "$\\displaystyle \\left(\\frac{1}{2} - \\frac{\\sqrt{5}}{2}\\right)^{n} \\left(\\frac{1}{2} - \\frac{\\sqrt{5}}{10}\\right) + \\left(\\frac{1}{2} + \\frac{\\sqrt{5}}{2}\\right)^{n} \\left(\\frac{\\sqrt{5}}{10} + \\frac{1}{2}\\right)$"
      ],
      "text/plain": [
       "(1/2 - sqrt(5)/2)**n*(1/2 - sqrt(5)/10) + (1/2 + sqrt(5)/2)**n*(sqrt(5)/10 + 1/2)"
      ]
     },
     "execution_count": 5,
     "metadata": {},
     "output_type": "execute_result"
    }
   ],
   "source": [
    "# same equation, different start conditions\n",
    "sol2 = rsolve(g, y(n), { y(0):1, y(1):1 })\n",
    "sol2"
   ]
  },
  {
   "cell_type": "code",
   "execution_count": 14,
   "id": "fb42dace",
   "metadata": {},
   "outputs": [
    {
     "data": {
      "text/plain": [
       "[(0, 1.00000000000000),\n",
       " (1, 1.00000000000000),\n",
       " (2, 2.00000000000000),\n",
       " (3, 3.00000000000000),\n",
       " (4, 5.00000000000000),\n",
       " (5, 8.00000000000000),\n",
       " (6, 13.0000000000000),\n",
       " (7, 21.0000000000000),\n",
       " (8, 34.0000000000000),\n",
       " (9, 55.0000000000000)]"
      ]
     },
     "execution_count": 14,
     "metadata": {},
     "output_type": "execute_result"
    }
   ],
   "source": [
    "sol2_val = [sol2.subs(n,nval).evalf() for nval in nvec]\n",
    "\n",
    "[(nval, sol2.subs(n,nval).evalf()) for nval in nvec]"
   ]
  },
  {
   "cell_type": "code",
   "execution_count": 7,
   "id": "b55c8f2e",
   "metadata": {},
   "outputs": [
    {
     "data": {
      "text/plain": [
       "[<matplotlib.lines.Line2D at 0x7f5cb4bf4d90>]"
      ]
     },
     "execution_count": 7,
     "metadata": {},
     "output_type": "execute_result"
    },
    {
     "data": {
      "image/png": "[encoded data removed]",
      "text/plain": [
       "<Figure size 640x480 with 1 Axes>"
      ]
     },
     "metadata": {},
     "output_type": "display_data"
    }
   ],
   "source": [
    "plt.plot(nvec, sol1_val, 'rx')\n",
    "plt.plot(nvec, sol2_val, 'go')"
   ]
  },
  {
   "cell_type": "code",
   "execution_count": 8,
   "id": "68f23e3d",
   "metadata": {},
   "outputs": [
    {
     "data": {
      "text/plain": [
       "[<matplotlib.lines.Line2D at 0x7f5cb4abcfa0>]"
      ]
     },
     "execution_count": 8,
     "metadata": {},
     "output_type": "execute_result"
    },
    {
     "data": {
      "image/png": "[encoded data removed]",
      "text/plain": [
       "<Figure size 640x480 with 1 Axes>"
      ]
     },
     "metadata": {},
     "output_type": "display_data"
    }
   ],
   "source": [
    "# the two solutions have the same growth behaviour, but are shifted\n",
    "plt.semilogy(nvec, sol1_val, 'rx')\n",
    "plt.semilogy(nvec, sol2_val, 'go')"
   ]
  },
  {
   "cell_type": "markdown",
   "id": "1d57d96d-5586-437e-8428-3dd228a33ab1",
   "metadata": {},
   "source": [
    "# Other\n",
    "\n",
    "Taken from https://www.whitman.edu/mathematics/cgt_online/book/section03.04.html"
   ]
  },
  {
   "cell_type": "code",
   "execution_count": 9,
   "id": "14afe53e-0a4a-40d1-89ca-39f93f16f59a",
   "metadata": {},
   "outputs": [
    {
     "data": {
      "text/latex": [
       "$\\displaystyle \\frac{3 \\cdot 3^{n}}{2} + \\frac{1}{2}$"
      ],
      "text/plain": [
       "3*3**n/2 + 1/2"
      ]
     },
     "execution_count": 9,
     "metadata": {},
     "output_type": "execute_result"
    }
   ],
   "source": [
    "g = y(n)-4*y(n-1) + 3*y(n-2)\n",
    "sol = rsolve(g, y(n), { y(0):2, y(1):5 })\n",
    "sol"
   ]
  },
  {
   "cell_type": "code",
   "execution_count": 10,
   "id": "06021dd9-7d4a-4784-b543-c5503964b0a3",
   "metadata": {},
   "outputs": [
    {
     "data": {
      "text/plain": [
       "[(0, 2.00000000000000),\n",
       " (1, 5.00000000000000),\n",
       " (2, 14.0000000000000),\n",
       " (3, 41.0000000000000),\n",
       " (4, 122.000000000000),\n",
       " (5, 365.000000000000),\n",
       " (6, 1094.00000000000),\n",
       " (7, 3281.00000000000),\n",
       " (8, 9842.00000000000),\n",
       " (9, 29525.0000000000)]"
      ]
     },
     "execution_count": 10,
     "metadata": {},
     "output_type": "execute_result"
    }
   ],
   "source": [
    "nvec = range(10)\n",
    "\n",
    "[(nval, sol.subs(n,nval).evalf()) for nval in nvec]"
   ]
  }
 ],
 "metadata": {
  "kernelspec": {
   "display_name": "Python 3 (ipykernel)",
   "language": "python",
   "name": "python3"
  },
  "language_info": {
   "codemirror_mode": {
    "name": "ipython",
    "version": 3
   },
   "file_extension": ".py",
   "mimetype": "text/x-python",
   "name": "python",
   "nbconvert_exporter": "python",
   "pygments_lexer": "ipython3",
   "version": "3.10.8"
  }
 },
 "nbformat": 4,
 "nbformat_minor": 5
}
