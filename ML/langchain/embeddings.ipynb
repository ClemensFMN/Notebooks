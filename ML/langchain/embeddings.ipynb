{
 "cells": [
  {
   "cell_type": "code",
   "execution_count": 33,
   "id": "72cc40c6-50b9-4ad6-ad9d-f4482ed148c6",
   "metadata": {},
   "outputs": [
    {
     "name": "stderr",
     "output_type": "stream",
     "text": [
      "USER_AGENT environment variable not set, consider setting it to identify your requests.\n"
     ]
    }
   ],
   "source": [
    "from langchain_ollama import OllamaLLM, OllamaEmbeddings\n",
    "from langchain.retrievers import *"
   ]
  },
  {
   "cell_type": "markdown",
   "id": "a69a38e9-71cd-44fb-92e9-eb95125fb3ea",
   "metadata": {},
   "source": [
    "# Embeddings"
   ]
  },
  {
   "cell_type": "code",
   "execution_count": 47,
   "id": "13ecbb5b-f430-4d67-b1ab-6fe47111b266",
   "metadata": {},
   "outputs": [],
   "source": [
    "embeddings = OllamaEmbeddings(\n",
    "    model=\"llama3.2\",\n",
    ")\n",
    "\n",
    "text = \"this is a simple text\"\n",
    "# this gives some long (3000+ elements) vector\n",
    "query_result = embeddings.embed_documents(text)"
   ]
  },
  {
   "cell_type": "code",
   "execution_count": 48,
   "id": "4780617e-fe10-4fa4-8580-93c654aea434",
   "metadata": {},
   "outputs": [],
   "source": [
    "words = [\"cat\", \"dog\", \"computer\"]"
   ]
  },
  {
   "cell_type": "code",
   "execution_count": 51,
   "id": "d57485bc-7c3d-4791-8ed6-231118c637f8",
   "metadata": {},
   "outputs": [],
   "source": [
    "res = embeddings.embed_documents(words)"
   ]
  },
  {
   "cell_type": "code",
   "execution_count": 24,
   "id": "787942d4-a49e-42a1-aeca-c1c896dbd75b",
   "metadata": {},
   "outputs": [],
   "source": [
    "import numpy as np\n",
    "import numpy.linalg as lin"
   ]
  },
  {
   "cell_type": "code",
   "execution_count": 52,
   "id": "f293c959-9662-4dcb-b34a-96aa11df679e",
   "metadata": {},
   "outputs": [],
   "source": [
    "res_n = np.array(res)"
   ]
  },
  {
   "cell_type": "code",
   "execution_count": 53,
   "id": "30b7adc7-47d6-4d78-9c2e-f928308f5c94",
   "metadata": {},
   "outputs": [
    {
     "data": {
      "text/plain": [
       "0.7749839869556375"
      ]
     },
     "execution_count": 53,
     "metadata": {},
     "output_type": "execute_result"
    }
   ],
   "source": [
    "# smaller distance between cat & dog\n",
    "\n",
    "lin.norm(res_n[0] - res_n[1])"
   ]
  },
  {
   "cell_type": "code",
   "execution_count": 54,
   "id": "1378688d-7e4b-4974-9eb5-f1f5bb537a84",
   "metadata": {},
   "outputs": [
    {
     "data": {
      "text/plain": [
       "0.9646377560832146"
      ]
     },
     "execution_count": 54,
     "metadata": {},
     "output_type": "execute_result"
    }
   ],
   "source": [
    "# bigger distance between cat & computer\n",
    "\n",
    "lin.norm(res_n[0] - res_n[2])"
   ]
  },
  {
   "cell_type": "code",
   "execution_count": 55,
   "id": "3390dead-6c0b-4b45-83d0-140022aa7d90",
   "metadata": {},
   "outputs": [
    {
     "data": {
      "text/plain": [
       "0.9318294038780404"
      ]
     },
     "execution_count": 55,
     "metadata": {},
     "output_type": "execute_result"
    }
   ],
   "source": [
    "# bigger distance between dog & computer\n",
    "\n",
    "lin.norm(res_n[1] - res_n[2])"
   ]
  }
 ],
 "metadata": {
  "kernelspec": {
   "display_name": "Python 3 (ipykernel)",
   "language": "python",
   "name": "python3"
  },
  "language_info": {
   "codemirror_mode": {
    "name": "ipython",
    "version": 3
   },
   "file_extension": ".py",
   "mimetype": "text/x-python",
   "name": "python",
   "nbconvert_exporter": "python",
   "pygments_lexer": "ipython3",
   "version": "3.12.5"
  }
 },
 "nbformat": 4,
 "nbformat_minor": 5
}
