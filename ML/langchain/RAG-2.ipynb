{
 "cells": [
  {
   "cell_type": "markdown",
   "id": "19cbe83f-3f12-4bdd-8957-2305a94a4843",
   "metadata": {},
   "source": [
    "Based on https://python.langchain.com/docs/tutorials/rag/\n",
    "\n",
    "OLLAMA embeddings from https://python.langchain.com/docs/integrations/text_embedding/ollama/\n",
    "\n",
    "Warmup first"
   ]
  },
  {
   "cell_type": "code",
   "execution_count": 1,
   "id": "5f2f8dbc-f4ca-4e3a-ab15-25f13fe30694",
   "metadata": {},
   "outputs": [],
   "source": [
    "from langchain_ollama import OllamaLLM, OllamaEmbeddings"
   ]
  },
  {
   "cell_type": "code",
   "execution_count": 11,
   "id": "281a24d9-451d-43c8-8f2e-983d364e01df",
   "metadata": {},
   "outputs": [
    {
     "data": {
      "text/plain": [
       "'...Neil Armstrong. He stepped out of the lunar module Eagle and became the first person to set foot on the Moon on July 20, 1969, as part of the Apollo 11 mission.'"
      ]
     },
     "execution_count": 11,
     "metadata": {},
     "output_type": "execute_result"
    }
   ],
   "source": [
    "llm = OllamaLLM(model=\"llama3.2\")\n",
    "llm.invoke(\"The first man on the moon was ...\")"
   ]
  },
  {
   "cell_type": "markdown",
   "id": "59a5d180-cb77-490e-a02a-728ed8087652",
   "metadata": {},
   "source": [
    "Now the real thing"
   ]
  },
  {
   "cell_type": "code",
   "execution_count": 2,
   "id": "f0dc9e7f-a58a-460e-b00f-60d6a69f7743",
   "metadata": {},
   "outputs": [
    {
     "name": "stderr",
     "output_type": "stream",
     "text": [
      "USER_AGENT environment variable not set, consider setting it to identify your requests.\n"
     ]
    }
   ],
   "source": [
    "import bs4\n",
    "# from langchain import hub\n",
    "from langchain_chroma import Chroma\n",
    "from langchain_community.document_loaders import WebBaseLoader\n",
    "from langchain_core.output_parsers import StrOutputParser\n",
    "from langchain_core.runnables import RunnablePassthrough\n",
    "from langchain_ollama import OllamaEmbeddings\n",
    "from langchain_text_splitters import RecursiveCharacterTextSplitter\n",
    "from langchain.prompts import ChatPromptTemplate"
   ]
  },
  {
   "cell_type": "code",
   "execution_count": 3,
   "id": "0697af26-d358-4c5b-9363-72f4ff50fc51",
   "metadata": {},
   "outputs": [],
   "source": [
    "embeddings = OllamaEmbeddings(\n",
    "    model=\"llama3.2\",\n",
    ")"
   ]
  },
  {
   "cell_type": "code",
   "execution_count": 6,
   "id": "59db1991-ea24-484c-ab43-7635d8c2d97a",
   "metadata": {},
   "outputs": [
    {
     "data": {
      "text/plain": [
       "[Document(metadata={'source': 'https://docs.aws.amazon.com/AWSEC2/latest/UserGuide/create-launch-template.html', 'title': 'Create an Amazon EC2 launch template - Amazon Elastic Compute Cloud', 'description': 'Learn how to create Amazon EC2 launch templates.', 'language': 'en-US'}, page_content='\\nCreate an Amazon EC2 launch template - Amazon Elastic Compute CloudCreate an Amazon EC2 launch template - Amazon Elastic Compute CloudAWSDocumentationAmazon EC2User GuideCreate a launch template\\n                    by specifying parametersCreate a\\n                    launch template from an existing launch templateCreate a launch template from\\n                    an instanceUse a Systems Manager parameter\\n                    instead of an AMI IDCreate an Amazon EC2 launch templateYou can create an Amazon EC2 launch template by specifying your own values for the instance\\n            configuration parameters, or by getting the values from an existing launch template or\\n            Amazon EC2 instance.You don\\'t need to specify a value for every parameter in the launch template; you need\\n            only specify one instance configuration parameter to create a launch template. To\\n            indicate parameters that you choose not to specify, select Don\\'t include in\\n                launch template when using the console. When using a command line tool,\\n            don\\'t include the parameters to indicate that you\\'re choosing not to specify them in the\\n            launch template.If you want to specify an AMI in the launch template, you can either select an AMI, or\\n            specify a Systems Manager parameter that will point to an AMI on instance launch.When an instance is launched with a launch template, the values that are specified in\\n            the launch template are used to configure the corresponding instance parameters. If a\\n            value isn\\'t specified in the launch template, then the default value for the\\n            corresponding instance parameter is used.TasksCreate a launch template\\n                    by specifying parametersCreate a\\n                    launch template from an existing launch templateCreate a launch template from\\n                    an instanceUse a Systems Manager parameter\\n                    instead of an AMI ID\\nCreate a launch template\\n                    by specifying parameters\\nTo create a launch template, you must specify the launch template name and at\\n                least one instance configuration parameter.\\nFor a description of each parameter, see Reference for Amazon EC2 instance configuration parameters.\\n\\nConsole\\nTo create a launch template using the consoleOpen the Amazon EC2 console at\\n         https://console.aws.amazon.com/ec2/.\\nIn the navigation pane, choose Launch\\n                                        Templates, and then choose Create\\n                                        launch template.\\n\\nUnder Launch template name and\\n                                        description, do the following:\\n\\nFor Launch template name, enter a\\n                                            descriptive name for the launch template.\\n\\nFor Template version description,\\n                                            provide a brief description of this version of the\\n                                            launch template.\\n\\nTo tag the launch\\n                                            template on creation, expand Template\\n                                                tags, choose Add new\\n                                                tag, and then enter a tag key and value\\n                                            pair. Choose Add new tag again for\\n                                            each additional tag to add.\\nNoteTo tag the resources that are created when an\\n                                                instance is launched, you must specify the tags\\n                                                under Resource tags. For more\\n                                                information, see Step 9 in this procedure.\\n\\n\\nUnder Application and OS Images (Amazon Machine\\n                                        Image), you can either keep Don\\'t\\n                                        include in launch template selected, or choose\\n                                    the operating system (OS) for the instance, and then choose an\\n                                    AMI. Alternatively, you can specify a Systems Manager parameter instead of\\n                                    specifying an AMI. For more information, see Use a Systems Manager parameter\\n                    instead of an AMI ID.\\nAn AMI is a template that contains the operating system and\\n                                    software required to launch an instance.\\n\\nUnder Instance type, you can either keep\\n                                        Don\\'t include in launch template\\n                                    selected, or select an instance type, or specify instance\\n                                    attributes and let Amazon EC2 identify the instance types with those\\n                                    attributes.\\nNoteSpecifying instance attributes is supported only when the\\n                                        launch template is used by Auto Scaling groups, EC2 Fleet, and Spot Fleet to\\n                                        launch instances. For more information, see Creating an Auto Scaling group using attribute-based instance\\n                                            type selection and Specify attributes for\\n            instance type selection for EC2 Fleet or Spot Fleet.If you plan to use the launch template in the launch instance\\n                                            wizard or with the RunInstances API, you can\\'t specify instance\\n                                        type attributes. \\nThe instance type determines the hardware configuration (CPU,\\n                                    memory, storage, and networking capacity) and size of the host\\n                                    computer used for an instance.\\nIf you\\'re not sure which instance type to choose, you can do\\n                                    the following:\\n\\n\\nChoose Compare instance types to\\n                                            compare different instance types by the following\\n                                            attributes: number of vCPUs, architecture, amount of\\n                                            memory (GiB), amount of storage (GB), storage type, and\\n                                            network performance.\\n\\nChoose Get advice to get guidance\\n                                            and suggestions for instance types from the EC2 instance type finder.\\n                                            For more information, see Get recommendations from EC2 instance type finder.\\n\\nNoteIf your AWS account is less than 12 months old, you can\\n                                        use Amazon EC2 under the Free Tier by choosing the\\n                                            t2.micro instance type, or the\\n                                            t3.micro instance type in Regions\\n                                        where t2.micro is unavailable. Be aware\\n                                        that when you launch a t3.micro\\n                                        instance, it defaults to Unlimited mode, which\\n                                        might incur additional charges based on CPU usage. If an\\n                                        instance type is eligible under the Free Tier, it is\\n                                        labeled Free tier eligible.\\n\\nUnder Key pair (login), for Key\\n                                        pair name, either keep Don\\'t include in\\n                                        launch template selected, or choose an existing\\n                                    key pair, or create a new one.\\n\\nUnder Network settings, you can either\\n                                    keep Dont include in launch template\\n                                    selected, or you can specify values for the various network\\n                                    settings.\\n\\nUnder Configure storage, if you specified\\n                                    an AMI in the launch template, the AMI includes one or more\\n                                    volumes of storage, including the root volume (Volume\\n                                        1 (AMI Root). You can optionally specify\\n                                    additional volumes to attach to the instance. To add a new\\n                                    volume, choose Add new volume.\\n\\nUnder Resource tags, to tag the resources that are\\n                                    created when an instance is launched, choose Add\\n                                        tag, and then enter a tag key and value pair. For\\n                                        Resource types, specify the resources\\n                                    to tag on creation. You can specify the same tag for all the\\n                                    resources, or specify different tags for different resources.\\n                                    Choose Add tag again for each additional\\n                                    tag to add.\\nYou can specify tags for the following resources that are\\n                                    created when a launch template is used:\\n\\n\\nInstances\\n\\nVolumes\\n\\nElastic graphics\\n\\nSpot Instance requests\\n\\nNetwork interfaces\\n\\nNoteTo tag the launch template itself, you must specify the\\n                                        tags under Template tags. For more\\n                                        information, see Step 3 in this procedure.\\n\\nFor Advanced details, expand the section\\n                                    to view the fields and optionally specify any additional\\n                                    parameters for your instance.\\n\\nUse the Summary panel to review your\\n                                    launch template configuration. You can navigate to any section\\n                                    by choosing its link and then make any necessary changes.\\n\\nWhen you\\'re ready to create your launch template, choose\\n                                        Create launch template.\\n\\n\\nAWS CLI\\nThe following example uses the create-launch-template command to create a launch template\\n                            with the specified name and instance configuration.\\naws ec2 create-launch-template \\\\\\n    --launch-template-name TemplateForWebServer \\\\\\n    --version-description WebVersion1 \\\\\\n    --tag-specifications \\'ResourceType=launch-template,Tags=[{Key=purpose,Value=production}]\\' \\\\\\n    --launch-template-data file://template-data.json\\nThe following is example JSON that specifies the launch template data\\n                            for the instance configuration. Save the JSON to a file and include it\\n                            in the --launch-template-data parameter as shown in the\\n                            example command.\\n{\\n    \"NetworkInterfaces\": [{\\n        \"AssociatePublicIpAddress\": true,\\n        \"DeviceIndex\": 0,\\n        \"Ipv6AddressCount\": 1,\\n        \"SubnetId\": \"subnet-7b16de0c\"\\n    }],\\n    \"ImageId\": \"ami-8c1be5f6\",\\n    \"InstanceType\": \"r4.4xlarge\",\\n    \"TagSpecifications\": [{\\n        \"ResourceType\": \"instance\",\\n        \"Tags\": [{\\n            \"Key\":\"Name\",\\n            \"Value\":\"webserver\"\\n        }]\\n    }],\\n    \"CpuOptions\": {\\n        \"CoreCount\":4,\\n        \"ThreadsPerCore\":2\\n    }\\n}\\nThe following is example output.\\n{\\n    \"LaunchTemplate\": {\\n        \"LatestVersionNumber\": 1, \\n        \"LaunchTemplateId\": \"lt-01238c059e3466abc\", \\n        \"LaunchTemplateName\": \"TemplateForWebServer\", \\n        \"DefaultVersionNumber\": 1, \\n        \"CreatedBy\": \"arn:aws:iam::123456789012:root\", \\n        \"CreateTime\": \"2017-11-27T09:13:24.000Z\"\\n    }\\n}\\n\\nPowerShell\\nThe following example uses the New-EC2LaunchTemplate cmdlet to create a launch template\\n                            with the specified name and instance configuration.\\n$launchTemplateData = [Amazon.EC2.Model.RequestLaunchTemplateData]@{\\n    ImageId = \\'ami-8c1be5f6\\'\\n    InstanceType = \\'r4.4xlarge\\'\\n    NetworkInterfaces = @(\\n        [Amazon.EC2.Model.LaunchTemplateInstanceNetworkInterfaceSpecificationRequest]@{\\n            AssociatePublicIpAddress = $true\\n            DeviceIndex = 0\\n            Ipv6AddressCount = 1\\n            SubnetId = \\'subnet-7b16de0c\\'\\n        }\\n    )\\n    TagSpecifications = @(\\n        [Amazon.EC2.Model.LaunchTemplateTagSpecificationRequest]@{\\n            ResourceType = \\'instance\\'\\n            Tags = [Amazon.EC2.Model.Tag]@{\\n                Key = \\'Name\\'\\n                Value = \\'webserver\\'\\n            }\\n        }\\n    )\\n    CpuOptions = [Amazon.EC2.Model.LaunchTemplateCpuOptionsRequest]@{\\n        CoreCount = 4\\n        ThreadsPerCore = 2\\n    }\\n}\\n$tagSpecificationData = [Amazon.EC2.Model.TagSpecification]@{\\n    ResourceType = \\'launch-template\\'\\n    Tags = [Amazon.EC2.Model.Tag]@{\\n        Key = \\'purpose\\'\\n        Value = \\'production\\'\\n    }\\n}\\nNew-EC2LaunchTemplate -LaunchTemplateName \\'TemplateForWebServer\\' -VersionDescription \\'WebVersion1\\' -LaunchTemplateData $launchTemplateData -TagSpecification $tagSpecificationData\\nThe following is example output.\\nCreatedBy            : arn:aws:iam::123456789012:root\\nCreateTime           : 9/19/2023 16:57:55\\nDefaultVersionNumber : 1\\nLatestVersionNumber  : 1\\nLaunchTemplateId     : lt-01238c059eEXAMPLE\\nLaunchTemplateName   : TemplateForWebServer\\nTags                 : {purpose}\\n\\n\\nCreate a\\n                    launch template from an existing launch template\\nYou can clone an existing launch template and then adjust the parameters to create\\n                a new launch template. However, you can only do this when using the Amazon EC2 console.\\n                The AWS CLI does not support cloning a template. For a description of each parameter,\\n                see Reference for Amazon EC2 instance configuration parameters.\\n\\nConsole\\nTo create a launch template from an existing launch\\n                                templateOpen the Amazon EC2 console at\\n         https://console.aws.amazon.com/ec2/.\\nIn the navigation pane, choose Launch\\n                                        Templates, and then choose Create\\n                                        launch template.\\n\\nFor Launch template name, enter a\\n                                    descriptive name for the launch template.\\n\\nFor Template version description, provide\\n                                    a brief description of this version of the launch\\n                                    template.\\n\\nTo tag the launch template on creation, expand\\n                                        Template tags, choose Add new\\n                                        tag, and then enter a tag key and value\\n                                    pair.\\n\\nExpand Source template, and for\\n                                        Launch template name choose a launch\\n                                    template on which to base the new launch template.\\n\\nFor Source template version, choose the\\n                                    launch template version on which to base the new launch\\n                                    template.\\n\\nAdjust any launch parameters as required, and then choose\\n                                        Create launch template.\\n\\n\\n\\nCreate a launch template from\\n                    an instance\\nYou can clone the parameters of an existing Amazon EC2 instance and then adjust the\\n                parameters to create a launch template. For a description of each parameter, see\\n                    Reference for Amazon EC2 instance configuration parameters.\\n\\nConsole\\nTo create a launch template from an instanceOpen the Amazon EC2 console at\\n         https://console.aws.amazon.com/ec2/.\\nIn the navigation pane, choose\\n                                    Instances.\\n\\nSelect the instance, and choose Actions,\\n                                        Image and templates, Create\\n                                        template from instance.\\n\\nProvide a name, description, and tags, and adjust the launch\\n                                    parameters as required.\\nNoteWhen you create a launch template from an instance, the\\n                                        instance\\'s network interface IDs and IP addresses are not\\n                                        included in the template.\\n\\nChoose Create launch template.\\n\\n\\nAWS CLI\\nYou can use the AWS CLI to create a launch template from an existing\\n                            instance by first getting the launch template data from an instance, and\\n                            then creating a launch template using the launch template data.\\nTo get launch template data from an instance\\nUse the get-launch-template-data command and specify the\\n                                    instance ID. You can use the output as a base to create a new\\n                                    launch template or launch template version. By default, the\\n                                    output includes a top-level LaunchTemplateData\\n                                    object, which cannot be specified in your launch template data.\\n                                    Use the --query option to exclude this\\n                                    object.\\naws ec2 get-launch-template-data \\\\\\n    --instance-id i-0123d646e8048babc \\\\\\n    --query \"LaunchTemplateData\"\\nThe following is example output.\\n    {\\n        \"Monitoring\": {}, \\n        \"ImageId\": \"ami-8c1be5f6\", \\n        \"BlockDeviceMappings\": [\\n            {\\n                \"DeviceName\": \"/dev/xvda\", \\n                \"Ebs\": {\\n                    \"DeleteOnTermination\": true\\n                }\\n            }\\n        ], \\n        \"EbsOptimized\": false, \\n        \"Placement\": {\\n            \"Tenancy\": \"default\", \\n            \"GroupName\": \"\", \\n            \"AvailabilityZone\": \"us-east-1a\"\\n        }, \\n        \"InstanceType\": \"t2.micro\", \\n        \"NetworkInterfaces\": [\\n            {\\n                \"Description\": \"\", \\n                \"NetworkInterfaceId\": \"eni-35306abc\", \\n                \"PrivateIpAddresses\": [\\n                    {\\n                        \"Primary\": true, \\n                        \"PrivateIpAddress\": \"10.0.0.72\"\\n                    }\\n                ], \\n                \"SubnetId\": \"subnet-7b16de0c\", \\n                \"Groups\": [\\n                    \"sg-7c227019\"\\n                ], \\n                \"Ipv6Addresses\": [\\n                    {\\n                        \"Ipv6Address\": \"2001:db8:1234:1a00::123\"\\n                    }\\n                ], \\n                \"PrivateIpAddress\": \"10.0.0.72\"\\n            }\\n        ]\\n    }\\nYou can write the output directly to a file, for\\n                                    example:\\naws ec2 get-launch-template-data \\\\\\n    --instance-id i-0123d646e8048babc \\\\\\n    --query \"LaunchTemplateData\" >> instance-data.json\\n\\nTo create a launch template using launch template data\\nUse the create-launch-template command to create a launch\\n                                    template using the output from the previous procedure. For more\\n                                    information about creating a launch template using the AWS CLI,\\n                                    see Create a launch template\\n                    by specifying parameters.\\n\\n\\n\\nUse a Systems Manager parameter\\n                    instead of an AMI ID\\nInstead of specifying an AMI ID in your launch templates, you can specify an\\n                AWS Systems Manager parameter. If the AMI ID changes, you can update the AMI ID in one place\\n                by updating the Systems Manager parameter in the Systems Manager Parameter Store. Parameters can also be\\n                    shared with other AWS accounts. You can centrally store and manage\\n                AMI parameters in one account and share them with every other account that needs to\\n                reference them. By using a Systems Manager parameter, all your launch templates can be updated\\n                in a single action.\\nA Systems Manager parameter is a user-defined key-value pair that you create in the AWS Systems Manager Parameter Store. The Parameter Store provides a central place\\n                to store your application configuration values.\\nIn the following diagram, the golden-ami parameter is first mapped to\\n                the original AMI ami-aabbccddeeffgghhi in the Parameter Store. In the\\n                launch template, the value for the AMI ID is golden-ami. When an\\n                instance is launched using this launch template, the AMI ID resolves to\\n                    ami-aabbccddeeffgghhi. Later, the AMI is updated resulting in a new\\n                AMI ID. In the Parameter Store, the golden-ami parameter is mapped to\\n                the new ami-00112233445566778. The launch\\n                    template remains unchanged. When an instance is launched using this\\n                launch template, the AMI ID resolves to the new\\n                ami-00112233445566778.\\n\\n\\n\\nSystems Manager parameter format for\\n                        AMI IDs\\nLaunch templates require that user-defined Systems Manager parameters adhere to the\\n                    following format when used in place of an AMI ID:\\n\\n\\nParameter type: String\\n\\nParameter data type: aws:ec2:image – This ensures\\n                            that Parameter Store validates that the value you enter is in the proper\\n                            format for an AMI ID.\\n\\nFor more information about creating a valid parameter for an AMI ID, see\\n                        Creating Systems Manager parameters in the\\n                        AWS Systems Manager User Guide.\\nSystems Manager parameter\\n                        format in launch templates\\nTo use a Systems Manager parameter in place of an AMI ID in a launch template, you must\\n                    use one of the following formats when specifying the parameter in the launch\\n                    template:\\nTo reference a public parameter:\\n\\n\\nresolve:ssm:public-parameter\\n\\nTo reference a parameter stored in the same account:\\n\\n\\nresolve:ssm:parameter-name\\n\\nresolve:ssm:parameter-name:version-number\\n                            – The version number itself is a default label\\n\\nresolve:ssm:parameter-name:label\\n\\nTo reference a parameter shared from another AWS account:\\n\\n\\nresolve:ssm:parameter-ARN\\n\\nresolve:ssm:parameter-ARN:version-number\\n\\nresolve:ssm:parameter-ARN:label\\n\\nParameter versions\\nSystems Manager parameters are versioned resources. When you update a parameter, you\\n                    create new, successive versions of the parameter. Systems Manager supports parameter labels that you can map to specific versions of a\\n                    parameter.\\nFor example, the golden-ami parameter can have three versions:\\n                        1, 2, and 3. You can create a\\n                    parameter label beta that maps to version 2, and a\\n                    parameter label prod that maps to version 3.\\nIn a launch template, you can specify version 3 of the golden-ami\\n                    parameter by using either of the following formats:\\n\\n\\nresolve:ssm:golden-ami:3\\n\\nresolve:ssm:golden-ami:prod\\n\\nSpecifying the version or label is optional. If a version or label is not\\n                    specified, the latest version of the parameter is used.\\nSpecify a\\n                        Systems Manager parameter in a launch template\\nYou can specify a Systems Manager parameter in a launch template instead of an AMI ID\\n                    when you create a launch template or a new version of a launch template.\\n\\nConsole\\nTo specify a Systems Manager parameter in a launch templateOpen the Amazon EC2 console at\\n         https://console.aws.amazon.com/ec2/.\\nIn the navigation pane, choose Launch\\n                                            Templates, and then choose Create\\n                                            launch template. \\n\\nFor Launch template name, enter a\\n                                        descriptive name for the launch template.\\n\\nUnder Application and OS Images (Amazon Machine\\n                                            Image), choose Browse more\\n                                            AMIs.\\n\\nChoose the arrow button to the right of the search bar,\\n                                        and then choose Specify custom value/Systems\\n                                            Manager parameter.\\n\\nIn the Specify custom value or Systems Manager\\n                                            parameter dialog box, do the\\n                                        following:\\n\\nFor AMI ID or Systems Manager parameter\\n                                                  string, enter the Systems Manager parameter name\\n                                                using one of the following formats:\\nTo reference a public parameter:\\n\\n\\nresolve:ssm:public-parameter\\n\\nTo reference a parameter stored in the same\\n                                                account:\\n\\n\\nresolve:ssm:parameter-name\\n\\nresolve:ssm:parameter-name:version-number\\n\\nresolve:ssm:parameter-name:label\\n\\nTo reference a parameter shared from another\\n                                                AWS account:\\n\\n\\nresolve:ssm:parameter-ARN\\n\\nresolve:ssm:parameter-ARN:version-number\\n\\nresolve:ssm:parameter-ARN:label\\n\\n\\nChoose Save.\\n\\n\\nSpecify any other launch template parameters as needed,\\n                                        and then choose Create launch\\n                                        template.\\n\\nFor more information, see Create a launch template\\n                    by specifying parameters.\\n\\nAWS CLI\\nTo specify a Systems Manager parameter in a launch template\\nUse the create-launch-template command to create the\\n                                        launch template. To specify the AMI to use, enter the Systems Manager\\n                                        parameter name using one of the following formats:\\nTo reference a public parameter:\\n\\n\\nresolve:ssm:public-parameter\\n\\nTo reference a parameter stored in the same\\n                                        account:\\n\\n\\nresolve:ssm:parameter-name\\n\\nresolve:ssm:parameter-name:version-number\\n\\nresolve:ssm:parameter-name:label\\n\\nTo reference a parameter shared from another\\n                                        AWS account:\\n\\n\\nresolve:ssm:parameter-ARN\\n\\nresolve:ssm:parameter-ARN:version-number\\n\\nresolve:ssm:parameter-ARN:label\\n\\nThe following example creates a launch template that\\n                                        specifies the following:\\n\\n\\nA name for the launch template\\n                                                  (TemplateForWebServer)\\n\\nA tag for the launch template\\n                                                  (purpose=production)\\n\\nThe data for the instance configuration, specified\\n                                                in a JSON file:\\n\\n\\nThe AMI to use\\n                                                  (resolve:ssm:golden-ami)\\n\\nThe instance type to launch\\n                                                  (m5.4xlarge)\\n\\nA tag for the instance\\n                                                  (Name=webserver)\\n\\n\\naws ec2 create-launch-template \\\\\\n    --launch-template-name TemplateForWebServer \\\\\\n    --tag-specifications \\'ResourceType=launch-template,Tags=[{Key=purpose,Value=production}]\\' \\\\\\n    --launch-template-data file://template-data.json\\nThe following is an example JSON file that contains the\\n                                        launch template data for the instance configuration. The\\n                                        value for ImageId is the Systems Manager parameter name,\\n                                        entered in the required format\\n                                                resolve:ssm:golden-ami.\\n{\"LaunchTemplateData\": {\\n    \"ImageId\": \"resolve:ssm:golden-ami\",\\n    \"InstanceType\": \"m5.4xlarge\",\\n    \"TagSpecifications\": [{\\n        \"ResourceType\": \"instance\",\\n        \"Tags\": [{\\n            \"Key\":\"Name\",\\n            \"Value\":\"webserver\"\\n        }]\\n    }]\\n  }\\n}\\n\\n\\n\\nVerify that a launch template gets\\n                        the correct AMI ID\\nTo resolve the Systems Manager parameter to the actual AMI ID\\nUse the describe-launch-template-versions command and include the\\n                            --resolve-alias parameter.\\naws ec2 describe-launch-template-versions \\\\\\n    --launch-template-name my-launch-template \\\\\\n    --versions $Default \\\\\\n    --resolve-alias\\nThe response includes the AMI ID for ImageId. In this example,\\n                    when an instance is launched using this launch template, the AMI ID resolves to\\n                        ami-0ac394d6a3example.\\n{\\n    \"LaunchTemplateVersions\": [\\n        {\\n            \"LaunchTemplateId\": \"lt-089c023a30example\",\\n            \"LaunchTemplateName\": \"my-launch-template\",\\n            \"VersionNumber\": 1,\\n            \"CreateTime\": \"2022-12-28T19:52:27.000Z\",\\n            \"CreatedBy\": \"arn:aws:iam::123456789012:user/Bob\",\\n            \"DefaultVersion\": true,\\n            \"LaunchTemplateData\": {\\n                \"ImageId\": \"ami-0ac394d6a3example\",\\n                \"InstanceType\": \"t3.micro\",\\n            }\\n        }\\n    ]\\n}\\nRelated resources\\nFor more information about working with Systems Manager parameters, see the following\\n                    reference materials in the Systems Manager documentation.\\n\\n\\nFor information about how to look up the AMI public parameters\\n                            supported by Amazon EC2, see Calling AMI public parameters.\\n\\nFor information about sharing parameters with other AWS accounts or\\n                            through AWS Organizations, see Working with shared parameters.\\n\\nFor information about monitoring whether your parameters are created\\n                            successfully, see Native parameter support for Amazon Machine Image\\n                            IDs.\\n\\nLimitations\\n\\n\\nOnly EC2 Fleets of type instant support using a launch\\n                            template that has a Systems Manager parameter specified in place of an\\n                            AMI ID.\\n\\nEC2 Fleets of type maintain and request, and\\n                            Spot Fleets do not support using a launch template that has a Systems Manager parameter\\n                            specified in place of an AMI ID. For EC2 Fleets of type maintain\\n                            and request, and for Spot Fleets, if you specify an AMI in the\\n                            launch template, you must specify the AMI ID.\\n\\nIf you use attribute-based instance selection in your EC2 Fleet, you can\\'t\\n                            specify a Systems Manager parameter in place of an AMI ID. When using\\n                            attribute-based instance selection, you must specify the AMI ID.\\n\\nAmazon EC2 Auto Scaling provides other restrictions. For more information, see Use AWS Systems Manager parameters instead of AMI IDs in launch\\n                                templates in the Amazon EC2 Auto Scaling User Guide.\\n\\n Javascript is disabled or is unavailable in your browser.To use the Amazon Web Services Documentation, Javascript must be enabled. Please refer to your browser\\'s Help pages for instructions.Document ConventionsControl launching instancesModify (manage\\n                versions)Did this page help you? - YesThanks for letting us know we\\'re doing a good job!If you\\'ve got a moment, please tell us what we did right so we can do more of it.Did this page help you? - NoThanks for letting us know this page needs work. We\\'re sorry we let you down.If you\\'ve got a moment, please tell us how we can make the documentation better.')]"
      ]
     },
     "execution_count": 6,
     "metadata": {},
     "output_type": "execute_result"
    }
   ],
   "source": [
    "# Load, chunk and index the contents of the blog.\n",
    "# loader = WebBaseLoader(\"https://www.gutenberg.org/ebooks/3160.txt.utf-8\")\n",
    "\n",
    "loader = WebBaseLoader(\"https://docs.aws.amazon.com/AWSEC2/latest/UserGuide/create-launch-template.html\")\n",
    "# loader = WebBaseLoader(\"https://www.gutenberg.org/cache/epub/844/pg844-images.html\")\n",
    "docs = loader.load()\n",
    "docs"
   ]
  },
  {
   "cell_type": "markdown",
   "id": "c1993313-2347-4673-93ae-ec6d32f1c0f0",
   "metadata": {},
   "source": [
    "# Careful, below takes long!!"
   ]
  },
  {
   "cell_type": "code",
   "execution_count": 7,
   "id": "eb21c159-116e-4f46-b843-b91d6c1c5fce",
   "metadata": {},
   "outputs": [],
   "source": [
    "text_splitter = RecursiveCharacterTextSplitter(chunk_size=1000, chunk_overlap=200)\n",
    "splits = text_splitter.split_documents(docs)\n",
    "vectorstore = Chroma.from_documents(documents=splits, embedding=embeddings)"
   ]
  },
  {
   "cell_type": "markdown",
   "id": "35864d0b-2824-4734-9883-2a43a1a6912d",
   "metadata": {},
   "source": [
    "## Option 1\n",
    "\n",
    "put the docs in the context of the promt"
   ]
  },
  {
   "cell_type": "code",
   "execution_count": 12,
   "id": "8b03db58-4061-4bed-89e0-1b91f6eaa34e",
   "metadata": {},
   "outputs": [],
   "source": [
    "# Retrieve and generate using the relevant snippets of the blog.\n",
    "retriever = vectorstore.as_retriever()"
   ]
  },
  {
   "cell_type": "code",
   "execution_count": 13,
   "id": "7aa6abff-ee53-4a67-8d67-ab516745cecd",
   "metadata": {},
   "outputs": [],
   "source": [
    "# Prompt\n",
    "template = \"\"\"Answer the question based only on the following context:\n",
    "{context}\n",
    "\n",
    "Question: {question}\n",
    "\"\"\"\n",
    "\n",
    "prompt = ChatPromptTemplate.from_template(template)"
   ]
  },
  {
   "cell_type": "code",
   "execution_count": 14,
   "id": "b7b643cf-a129-4855-a1c6-291b51986e1a",
   "metadata": {},
   "outputs": [],
   "source": [
    "rag_chain = prompt | llm"
   ]
  },
  {
   "cell_type": "code",
   "execution_count": 15,
   "id": "c1cc976b-3192-4300-b94f-a528f901320f",
   "metadata": {},
   "outputs": [
    {
     "data": {
      "text/plain": [
       "'A launch template in Amazon Web Services (AWS) is a template that defines an instance configuration, including the AMI ID, instance type, and tags. It allows users to easily manage and share instances across multiple AWS accounts or regions by providing a reusable set of settings. Launch templates can be used with EC2 Fleets, Spot Fleets, and other services to create instances with consistent configurations.\\n\\nIn this context, the launch template \"TemplateForWebServer\" is being created using the `aws ec2 create-launch-template` command, and it includes a Systems Manager parameter specified in place of an AMI ID. This allows the launch template to resolve the actual AMI ID at runtime, rather than hardcoding it into the template itself.\\n\\nLaunch templates provide several benefits, including:\\n\\n* Reusability: Launch templates can be shared across multiple AWS accounts or regions, making it easy to manage and deploy consistent instances.\\n* Consistency: Launch templates ensure that instances are launched with consistent configurations, reducing the risk of human error.\\n* Flexibility: Launch templates can be used with various services, such as EC2 Fleets, Spot Fleets, and Auto Scaling groups.\\n\\nOverall, launch templates are a powerful tool for managing instance configurations in AWS, allowing users to create reusable and flexible templates that meet their specific needs.'"
      ]
     },
     "execution_count": 15,
     "metadata": {},
     "output_type": "execute_result"
    }
   ],
   "source": [
    "rag_chain.invoke({\"context\": docs, \"question\":\"What is a launch template?\"})"
   ]
  },
  {
   "cell_type": "markdown",
   "id": "f81484bb-c6df-403f-8f82-3a1a21c7133f",
   "metadata": {},
   "source": [
    "## Option 2\n",
    "\n",
    "Pass the documents via the retriever in..."
   ]
  },
  {
   "cell_type": "code",
   "execution_count": 16,
   "id": "fff50a56-7bef-4bbb-bfa0-d1062097b9f3",
   "metadata": {},
   "outputs": [
    {
     "data": {
      "text/plain": [
       "'A launch template is a collection of parameters that you can use to create or modify a launch configuration for an Amazon Elastic Compute Cloud (EC2) instance. It allows you to specify values for various settings such as key pair, network settings, storage, and operating system. Launch templates are used to manage the configuration of your EC2 instances in a centralized way, making it easier to update and maintain your infrastructure.'"
      ]
     },
     "execution_count": 16,
     "metadata": {},
     "output_type": "execute_result"
    }
   ],
   "source": [
    "from langchain_core.output_parsers import StrOutputParser\n",
    "from langchain_core.runnables import RunnablePassthrough\n",
    "\n",
    "# we can use a predefined prompt\n",
    "# prompt = hub.pull(\"rlm/rag-prompt\")\n",
    "\n",
    "# or cook something up on our own (based on the rag-promt above)\n",
    "template = \"\"\"You are an assistant for question-answering tasks. Use the following pieces of retrieved context to answer the question. If you don't know the answer, just say that you don't know.\n",
    "Question: {question}\n",
    "Context: {context}\n",
    "Answer:\n",
    "\"\"\"\n",
    "prompt = ChatPromptTemplate.from_template(template)\n",
    "\n",
    "\n",
    "\n",
    "def format_docs(docs):\n",
    "    return \"\\n\\n\".join(doc.page_content for doc in docs)\n",
    "\n",
    "# Chain\n",
    "rag_chain = (\n",
    "    {\"context\": retriever | format_docs, \"question\": RunnablePassthrough()}\n",
    "    | prompt\n",
    "    | llm\n",
    "    | StrOutputParser()\n",
    ")\n",
    "\n",
    "rag_chain.invoke(\"What is a launch template?\")"
   ]
  },
  {
   "cell_type": "code",
   "execution_count": 52,
   "id": "19dbf2be-fb46-456c-9b9e-6ff296496ba3",
   "metadata": {},
   "outputs": [
    {
     "data": {
      "text/plain": [
       "ChatPromptTemplate(input_variables=['context', 'question'], input_types={}, partial_variables={}, messages=[HumanMessagePromptTemplate(prompt=PromptTemplate(input_variables=['context', 'question'], input_types={}, partial_variables={}, template=\"You are an assistant for question-answering tasks. Use the following pieces of retrieved context to answer the question. If you don't know the answer, just say that you don't know.\\nQuestion: {question}\\nnContext: {context}\\nAnswer:\\n\"), additional_kwargs={})])"
      ]
     },
     "execution_count": 52,
     "metadata": {},
     "output_type": "execute_result"
    }
   ],
   "source": [
    "prompt"
   ]
  },
  {
   "cell_type": "markdown",
   "id": "dac181db-e661-4cf8-87dc-e5616b7c2167",
   "metadata": {},
   "source": [
    "Let's try without RAG"
   ]
  },
  {
   "cell_type": "code",
   "execution_count": 20,
   "id": "9bdb3ff3-1516-4fde-a4d0-54c71efbe833",
   "metadata": {},
   "outputs": [
    {
     "data": {
      "text/plain": [
       "'A launch template, also known as a \"launch kit\" or \"sales funnel template,\" is a pre-built framework that provides a structured approach to launching a new product, service, or campaign. It typically includes a set of essential elements and templates that help entrepreneurs, marketers, and business owners streamline their launch process.\\n\\nLaunch templates usually include:\\n\\n1. Branding and positioning materials (e.g., logos, taglines, images)\\n2. Sales page template with copywriting and design suggestions\\n3. Email marketing campaigns (e.g., welcome series, promotional emails)\\n4. Social media content calendar\\n5. Paid advertising ads (e.g., Facebook, Google Ads)\\n6. Opt-in page templates for capturing leads\\n7. Landing page templates for specific sales funnels\\n\\nHaving a launch template can help you:\\n\\n1. Save time and effort in planning and executing your launch\\n2. Ensure consistency in branding and messaging across all channels\\n3. Test and optimize different marketing strategies before scaling up\\n4. Create a cohesive customer journey from lead to conversion\\n\\nLaunch templates can be created for various types of launches, such as:\\n\\n* Product launches (e.g., ebooks, courses, software)\\n* Service launches (e.g., consulting services, coaching programs)\\n* Event launches (e.g., webinars, workshops, conferences)\\n* Affiliate marketing launches\\n\\nThere are many online resources and tools available that offer pre-made launch templates, or you can create your own template using a combination of design software and marketing expertise.'"
      ]
     },
     "execution_count": 20,
     "metadata": {},
     "output_type": "execute_result"
    }
   ],
   "source": [
    "llm.invoke(\"What is a launch template?\")"
   ]
  }
 ],
 "metadata": {
  "kernelspec": {
   "display_name": "Python 3 (ipykernel)",
   "language": "python",
   "name": "python3"
  },
  "language_info": {
   "codemirror_mode": {
    "name": "ipython",
    "version": 3
   },
   "file_extension": ".py",
   "mimetype": "text/x-python",
   "name": "python",
   "nbconvert_exporter": "python",
   "pygments_lexer": "ipython3",
   "version": "3.12.5"
  }
 },
 "nbformat": 4,
 "nbformat_minor": 5
}
