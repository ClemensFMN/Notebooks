{
 "cells": [
  {
   "cell_type": "code",
   "execution_count": 1,
   "id": "1dca0b59-4d19-4d48-a390-8b617c04a7d1",
   "metadata": {},
   "outputs": [],
   "source": [
    "import torch\n",
    "import torch.nn as nn"
   ]
  },
  {
   "cell_type": "markdown",
   "id": "fc742018-6ad2-4af1-bc87-f571b981bb45",
   "metadata": {},
   "source": [
    "# Max Pool 1D"
   ]
  },
  {
   "cell_type": "code",
   "execution_count": 12,
   "id": "a8988c84-f419-4000-b575-407565f7ed23",
   "metadata": {},
   "outputs": [
    {
     "data": {
      "text/plain": [
       "tensor([[ 0.8992, -0.4114, -0.4742,  0.2282,  0.2838, -3.1396, -1.9118, -0.8298]])"
      ]
     },
     "execution_count": 12,
     "metadata": {},
     "output_type": "execute_result"
    }
   ],
   "source": [
    "x = torch.randn(1,8)\n",
    "x"
   ]
  },
  {
   "cell_type": "code",
   "execution_count": 13,
   "id": "cf5df879-3893-401e-846b-c1b7553df7ca",
   "metadata": {},
   "outputs": [
    {
     "data": {
      "text/plain": [
       "tensor([[ 0.8992,  0.2282,  0.2838, -0.8298]])"
      ]
     },
     "execution_count": 13,
     "metadata": {},
     "output_type": "execute_result"
    }
   ],
   "source": [
    "m = nn.MaxPool1d(2)\n",
    "m(x)"
   ]
  },
  {
   "cell_type": "code",
   "execution_count": 14,
   "id": "020ebb5c-caf8-46ed-b3ba-6a7399e090f7",
   "metadata": {},
   "outputs": [
    {
     "data": {
      "text/plain": [
       "tensor([[0.8992, 0.2838]])"
      ]
     },
     "execution_count": 14,
     "metadata": {},
     "output_type": "execute_result"
    }
   ],
   "source": [
    "m = nn.MaxPool1d(4)\n",
    "m(x)"
   ]
  },
  {
   "cell_type": "code",
   "execution_count": 15,
   "id": "50d8a967-bae4-497f-96f7-752d7bd527a3",
   "metadata": {},
   "outputs": [
    {
     "data": {
      "text/plain": [
       "tensor([[0.8992, 0.2838, 0.2838]])"
      ]
     },
     "execution_count": 15,
     "metadata": {},
     "output_type": "execute_result"
    }
   ],
   "source": [
    "m = nn.MaxPool1d(3, stride = 2)\n",
    "m(x)"
   ]
  },
  {
   "cell_type": "markdown",
   "id": "137288f6-ff08-4d65-8244-5e09633ce5ea",
   "metadata": {},
   "source": [
    "# Max Pool 2D"
   ]
  },
  {
   "cell_type": "code",
   "execution_count": 22,
   "id": "1e913653-3cd8-48a0-9bbd-2bf18fa4c904",
   "metadata": {},
   "outputs": [
    {
     "data": {
      "text/plain": [
       "tensor([[[-0.5882, -0.1216,  1.0357, -1.1981,  1.4594,  1.8051],\n",
       "         [ 0.2442,  0.0792, -1.2018, -0.4652, -0.2550, -0.7989],\n",
       "         [-1.1653, -0.7500, -1.5597, -0.7099, -1.0480,  0.9462],\n",
       "         [-2.0504, -1.4228,  0.1169, -1.9314, -0.0355, -0.2100],\n",
       "         [-0.9117, -0.5223,  1.3240, -0.2241,  0.4574, -1.3613],\n",
       "         [-0.4340,  0.0498,  1.1892,  0.1217, -0.0615,  0.7308]]])"
      ]
     },
     "execution_count": 22,
     "metadata": {},
     "output_type": "execute_result"
    }
   ],
   "source": [
    "x = torch.randn(1,6,6)\n",
    "x"
   ]
  },
  {
   "cell_type": "code",
   "execution_count": 23,
   "id": "58ee63eb-dabe-40d9-92bf-52764d30af4c",
   "metadata": {},
   "outputs": [
    {
     "data": {
      "text/plain": [
       "tensor([[[1.0357, 1.8051],\n",
       "         [1.3240, 0.7308]]])"
      ]
     },
     "execution_count": 23,
     "metadata": {},
     "output_type": "execute_result"
    }
   ],
   "source": [
    "m = nn.MaxPool2d(3)\n",
    "m(x)"
   ]
  }
 ],
 "metadata": {
  "kernelspec": {
   "display_name": "Python 3 (ipykernel)",
   "language": "python",
   "name": "python3"
  },
  "language_info": {
   "codemirror_mode": {
    "name": "ipython",
    "version": 3
   },
   "file_extension": ".py",
   "mimetype": "text/x-python",
   "name": "python",
   "nbconvert_exporter": "python",
   "pygments_lexer": "ipython3",
   "version": "3.12.6"
  }
 },
 "nbformat": 4,
 "nbformat_minor": 5
}
