{
 "cells": [
  {
   "cell_type": "code",
   "execution_count": 1,
   "id": "b08904ef-67d6-471b-acc3-148671fc196d",
   "metadata": {},
   "outputs": [],
   "source": [
    "import torch\n",
    "import torch.optim as optim\n",
    "import torch.nn as nn\n",
    "import matplotlib.pyplot as plt\n",
    "import numpy as np"
   ]
  },
  {
   "cell_type": "code",
   "execution_count": 2,
   "id": "90d4b8a9-c9a7-4b7e-913c-041bc2febfd3",
   "metadata": {},
   "outputs": [],
   "source": [
    "t_c = [0.5, 14.0, 15.0, 28.0, 11.0, 8.0, 3.0, -4.0, 6.0, 13.0, 21.0]\n",
    "t_u = [35.7, 55.9, 58.2, 81.9, 56.3, 48.9, 33.9, 21.8, 48.4, 60.4, 68.4]\n",
    "t_c = torch.tensor(t_c)\n",
    "t_u = torch.tensor(t_u)\n",
    "t_un = 0.1 * t_u"
   ]
  },
  {
   "cell_type": "code",
   "execution_count": 3,
   "id": "7e32501c-1b3c-4b23-ae21-5976cb7efc6c",
   "metadata": {},
   "outputs": [
    {
     "data": {
      "image/png": "[encoded data removed]",
      "text/plain": [
       "<Figure size 640x480 with 1 Axes>"
      ]
     },
     "metadata": {},
     "output_type": "display_data"
    }
   ],
   "source": [
    "plt.plot(t_un, t_c, 'ro')\n",
    "plt.grid(True)"
   ]
  },
  {
   "cell_type": "markdown",
   "id": "57ac3fa1-535a-4279-b5a5-6e8cadd3d825",
   "metadata": {},
   "source": [
    "# Fitting Linear Model (manually)"
   ]
  },
  {
   "cell_type": "code",
   "execution_count": 4,
   "id": "073fc961-2137-4c9c-9201-4602199d8be9",
   "metadata": {},
   "outputs": [],
   "source": [
    "def model(t_u, w, b):\n",
    "    return w * t_u + b"
   ]
  },
  {
   "cell_type": "code",
   "execution_count": 5,
   "id": "eea540ca-4078-4d8a-8927-bb5b4b8b1393",
   "metadata": {},
   "outputs": [],
   "source": [
    "def loss_fn(t_p, t_c):\n",
    "    squared_diffs = (t_p - t_c)**2\n",
    "    return squared_diffs.mean()"
   ]
  },
  {
   "cell_type": "code",
   "execution_count": 6,
   "id": "dd4a5b63-3413-4c19-a9a0-abf6444ba85b",
   "metadata": {},
   "outputs": [],
   "source": [
    "params = torch.tensor([1.0, 0.0], requires_grad=True)\n",
    "learning_rate = 1e-2\n",
    "optimizer = optim.SGD([params], lr=learning_rate)"
   ]
  },
  {
   "cell_type": "code",
   "execution_count": 7,
   "id": "f0ba7d69-d2f3-4f49-8f43-54a100238c9f",
   "metadata": {},
   "outputs": [],
   "source": [
    "def training_loop(n_epochs, optimizer, params, t_u, t_c):\n",
    "    for epoch in range(1, n_epochs + 1):\n",
    "        t_p = model(t_u, *params)\n",
    "        loss = loss_fn(t_p, t_c)\n",
    "        optimizer.zero_grad()\n",
    "        loss.backward()\n",
    "        optimizer.step()\n",
    "        if epoch % 500 == 0:\n",
    "            print('Epoch %d, Loss %f' % (epoch, float(loss)))\n",
    "    return params"
   ]
  },
  {
   "cell_type": "code",
   "execution_count": 8,
   "id": "2de22abb-4aff-4d78-acbd-f59bfcb25d29",
   "metadata": {},
   "outputs": [],
   "source": [
    "params = torch.tensor([1.0, 0.0], requires_grad=True)\n",
    "learning_rate = 1e-2\n",
    "optimizer = optim.SGD([params], lr=learning_rate)"
   ]
  },
  {
   "cell_type": "code",
   "execution_count": 9,
   "id": "5a6eda6d-a2d5-446b-819b-a130c40e2244",
   "metadata": {},
   "outputs": [
    {
     "name": "stdout",
     "output_type": "stream",
     "text": [
      "Epoch 500, Loss 7.860120\n",
      "Epoch 1000, Loss 3.828538\n",
      "Epoch 1500, Loss 3.092191\n",
      "Epoch 2000, Loss 2.957698\n",
      "Epoch 2500, Loss 2.933134\n",
      "Epoch 3000, Loss 2.928648\n",
      "Epoch 3500, Loss 2.927830\n",
      "Epoch 4000, Loss 2.927679\n",
      "Epoch 4500, Loss 2.927652\n",
      "Epoch 5000, Loss 2.927647\n"
     ]
    },
    {
     "data": {
      "text/plain": [
       "tensor([  5.3671, -17.3012], requires_grad=True)"
      ]
     },
     "execution_count": 9,
     "metadata": {},
     "output_type": "execute_result"
    }
   ],
   "source": [
    "training_loop(n_epochs = 5000, optimizer = optimizer, params = params, t_u = t_un, t_c = t_c)"
   ]
  },
  {
   "cell_type": "markdown",
   "id": "218dd709-4c02-4517-b9d0-f130f73bbd65",
   "metadata": {},
   "source": [
    "# Using NN"
   ]
  },
  {
   "cell_type": "code",
   "execution_count": 21,
   "id": "c5545f34-988e-4dfd-8ee7-532e324fdbfe",
   "metadata": {},
   "outputs": [],
   "source": [
    "t_c = [0.5, 14.0, 15.0, 28.0, 11.0, 8.0, 3.0, -4.0, 6.0, 13.0, 21.0]\n",
    "t_u = [35.7, 55.9, 58.2, 81.9, 56.3, 48.9, 33.9, 21.8, 48.4, 60.4, 68.4]"
   ]
  },
  {
   "cell_type": "code",
   "execution_count": 22,
   "id": "825af9e0-79e2-4991-9f2b-819e34594d5b",
   "metadata": {},
   "outputs": [],
   "source": [
    "t_c = torch.tensor(t_c).unsqueeze(1)\n",
    "t_u = 0.1*torch.tensor(t_u).unsqueeze(1) # this scaling is really important as otherwise the optimizer does not converge!!"
   ]
  },
  {
   "cell_type": "code",
   "execution_count": 13,
   "id": "50da6caf-6c70-4eef-b6c8-edd8e708b250",
   "metadata": {},
   "outputs": [],
   "source": [
    "linear_model = nn.Linear(1, 1)\n",
    "optimizer = optim.SGD(linear_model.parameters(), lr=1e-2)"
   ]
  },
  {
   "cell_type": "code",
   "execution_count": 14,
   "id": "26b564bc-c39c-4b56-a0b3-79d144259089",
   "metadata": {},
   "outputs": [],
   "source": [
    "def training_loop(n_epochs, optimizer, model, loss_fn, t_u, t_c):\n",
    "    for epoch in range(1, n_epochs + 1):\n",
    "        t_p = model(t_u)\n",
    "        loss_train = loss_fn(t_p, t_c)\n",
    "        optimizer.zero_grad()\n",
    "        loss_train.backward()\n",
    "        optimizer.step()\n",
    "        if epoch == 1 or epoch % 1000 == 0:\n",
    "            print(f\"Epoch {epoch}, Training loss {loss_train.item():.4f}\")"
   ]
  },
  {
   "cell_type": "code",
   "execution_count": 15,
   "id": "935c3bd1-100b-4435-b620-3776516577ff",
   "metadata": {},
   "outputs": [
    {
     "name": "stdout",
     "output_type": "stream",
     "text": [
      "Epoch 1, Training loss 207.0020\n",
      "Epoch 1000, Training loss 3.8404\n",
      "Epoch 2000, Training loss 2.9581\n",
      "Epoch 3000, Training loss 2.9287\n"
     ]
    }
   ],
   "source": [
    "training_loop(n_epochs = 3000, optimizer = optimizer, model = linear_model, loss_fn = nn.MSELoss(), t_u = t_u, t_c = t_c)"
   ]
  },
  {
   "cell_type": "code",
   "execution_count": 16,
   "id": "dc648397-a480-42b6-88e9-c6e9ae79193b",
   "metadata": {},
   "outputs": [
    {
     "data": {
      "text/plain": [
       "[Parameter containing:\n",
       " tensor([[5.3487]], requires_grad=True),\n",
       " Parameter containing:\n",
       " tensor([-17.1973], requires_grad=True)]"
      ]
     },
     "execution_count": 16,
     "metadata": {},
     "output_type": "execute_result"
    }
   ],
   "source": [
    "list(linear_model.parameters())"
   ]
  },
  {
   "cell_type": "code",
   "execution_count": 17,
   "id": "9c6e87e2-2196-42e7-9e86-2192f13a1701",
   "metadata": {},
   "outputs": [
    {
     "data": {
      "image/png": "[encoded data removed]",
      "text/plain": [
       "<Figure size 640x480 with 1 Axes>"
      ]
     },
     "metadata": {},
     "output_type": "display_data"
    }
   ],
   "source": [
    "plt.plot(t_u, linear_model(t_u).detach().numpy(), 'rx')\n",
    "plt.plot(t_u, t_c, 'go')\n",
    "plt.grid()"
   ]
  },
  {
   "cell_type": "markdown",
   "id": "2e071361-0f87-4306-85f7-620127bf4d12",
   "metadata": {},
   "source": [
    "Now a non-linear model"
   ]
  },
  {
   "cell_type": "code",
   "execution_count": 18,
   "id": "43b2e4b5-bb63-4a8c-8d0d-cc362b8574ad",
   "metadata": {},
   "outputs": [],
   "source": [
    "seq_model = nn.Sequential(\n",
    "    nn.Linear(1, 13),\n",
    "    nn.Tanh(),\n",
    "    nn.Linear(13,1))"
   ]
  },
  {
   "cell_type": "code",
   "execution_count": 29,
   "id": "b88efb13-73ef-4384-903b-31d46b588b26",
   "metadata": {},
   "outputs": [],
   "source": [
    "optimizer = optim.SGD(seq_model.parameters(), lr=1e-2)"
   ]
  },
  {
   "cell_type": "code",
   "execution_count": 30,
   "id": "845361e8-2a03-4650-947a-46136c11d8ea",
   "metadata": {},
   "outputs": [
    {
     "name": "stdout",
     "output_type": "stream",
     "text": [
      "Epoch 1, Training loss 169.7350\n",
      "Epoch 1000, Training loss 8.0774\n",
      "Epoch 2000, Training loss 2.5836\n",
      "Epoch 3000, Training loss 1.9017\n"
     ]
    }
   ],
   "source": [
    "training_loop(n_epochs = 3000, optimizer = optimizer, model = seq_model, loss_fn = nn.MSELoss(), t_u = t_u, t_c = t_c)"
   ]
  },
  {
   "cell_type": "code",
   "execution_count": 39,
   "id": "7d8d1c05-b231-40a2-a81b-33111cec94ea",
   "metadata": {},
   "outputs": [
    {
     "data": {
      "image/png": "[encoded data removed]",
      "text/plain": [
       "<Figure size 640x480 with 1 Axes>"
      ]
     },
     "metadata": {},
     "output_type": "display_data"
    }
   ],
   "source": [
    "t_range = torch.linspace(2., 10, steps = 100).unsqueeze(1)\n",
    "\n",
    "plt.plot(t_u, seq_model(t_u).detach().numpy(), 'rx')\n",
    "plt.plot(t_u, t_c, 'go')\n",
    "\n",
    "plt.plot(t_range.numpy(), seq_model(t_range).detach().numpy(), 'c-')\n",
    "\n",
    "plt.grid()"
   ]
  }
 ],
 "metadata": {
  "kernelspec": {
   "display_name": "Python 3 (ipykernel)",
   "language": "python",
   "name": "python3"
  },
  "language_info": {
   "codemirror_mode": {
    "name": "ipython",
    "version": 3
   },
   "file_extension": ".py",
   "mimetype": "text/x-python",
   "name": "python",
   "nbconvert_exporter": "python",
   "pygments_lexer": "ipython3",
   "version": "3.12.5"
  }
 },
 "nbformat": 4,
 "nbformat_minor": 5
}
