{
 "cells": [
  {
   "cell_type": "code",
   "execution_count": 1,
   "id": "52e25c30-28e0-485b-b351-6785eb9c9264",
   "metadata": {},
   "outputs": [],
   "source": [
    "import torch\n",
    "import torch.nn as nn\n",
    "import matplotlib.pyplot as plt"
   ]
  },
  {
   "cell_type": "markdown",
   "id": "8dd4e922-56ed-4c91-b1c1-ce0a2ae27ee4",
   "metadata": {},
   "source": [
    "# Simple Tensor Fun"
   ]
  },
  {
   "cell_type": "code",
   "execution_count": 5,
   "id": "2c72cde1-b544-4879-8fa8-a598646330d6",
   "metadata": {},
   "outputs": [
    {
     "data": {
      "text/plain": [
       "tensor([4., 1., 5., 3., 2., 1.])"
      ]
     },
     "execution_count": 5,
     "metadata": {},
     "output_type": "execute_result"
    }
   ],
   "source": [
    "points = torch.tensor([4.0, 1.0, 5.0, 3.0, 2.0, 1.0])\n",
    "points"
   ]
  },
  {
   "cell_type": "markdown",
   "id": "86cec5ee-5100-4173-ab9e-d024c7abc1a2",
   "metadata": {},
   "source": [
    "# Autograd\n",
    "\n",
    "## Function\n",
    "\n",
    "Define a function"
   ]
  },
  {
   "cell_type": "code",
   "execution_count": 57,
   "id": "705aee0a-7168-4c95-a871-2b30bcc65e2d",
   "metadata": {},
   "outputs": [],
   "source": [
    "def f(x):\n",
    "    return(3*x**2)"
   ]
  },
  {
   "cell_type": "markdown",
   "id": "4579a875-c531-4fb1-897f-5ca65b98e362",
   "metadata": {},
   "source": [
    "We can call the function like any other function"
   ]
  },
  {
   "cell_type": "code",
   "execution_count": 71,
   "id": "69376f8b-553e-43f1-8ca2-edaaa8762d11",
   "metadata": {},
   "outputs": [
    {
     "data": {
      "text/plain": [
       "tensor([48.,  3., 75., 27., 12.,  3.])"
      ]
     },
     "execution_count": 71,
     "metadata": {},
     "output_type": "execute_result"
    }
   ],
   "source": [
    "f(points)"
   ]
  },
  {
   "cell_type": "markdown",
   "id": "e927e6b6-b206-4983-b4ad-3ea9c52a03ab",
   "metadata": {},
   "source": [
    "Now we want to track the gradient => we need `requires_grad=True`"
   ]
  },
  {
   "cell_type": "code",
   "execution_count": 78,
   "id": "8f1eaa44-6209-481c-bd5b-4a3aabd828e2",
   "metadata": {},
   "outputs": [],
   "source": [
    "x = torch.tensor([2.0], requires_grad=True)"
   ]
  },
  {
   "cell_type": "code",
   "execution_count": 90,
   "id": "1770eae8-286a-4305-9708-d3524e95bbf7",
   "metadata": {},
   "outputs": [
    {
     "data": {
      "text/plain": [
       "(tensor([12.], grad_fn=<MulBackward0>), tensor([24.]))"
      ]
     },
     "execution_count": 90,
     "metadata": {},
     "output_type": "execute_result"
    }
   ],
   "source": [
    "y = f(x)      # calc the value of y\n",
    "y.backward()  # perform backpropagation (calculates the gadient)\n",
    "(y, x.grad)   # output the function value and df/dx @ x = 2 df/dx = 6x = 12 (@ x = 2)"
   ]
  },
  {
   "cell_type": "markdown",
   "id": "6a7eb656-2ca9-4d34-a190-e85ba1c13204",
   "metadata": {},
   "source": [
    "## Using a Linear (1,1) Model\n",
    "\n",
    "The model is basically y = linear_model.weight x + linear_model.basis"
   ]
  },
  {
   "cell_type": "code",
   "execution_count": 117,
   "id": "cb171f11-692d-4c32-b10c-1ee5c675450e",
   "metadata": {},
   "outputs": [
    {
     "data": {
      "text/plain": [
       "(Parameter containing:\n",
       " tensor([[-0.3062]], requires_grad=True),\n",
       " Parameter containing:\n",
       " tensor([-0.5751], requires_grad=True))"
      ]
     },
     "execution_count": 117,
     "metadata": {},
     "output_type": "execute_result"
    }
   ],
   "source": [
    "linear_model = nn.Linear(1,1)\n",
    "(linear_model.weight, linear_model.bias)"
   ]
  },
  {
   "cell_type": "code",
   "execution_count": 119,
   "id": "96a3d9ab-1b0f-474e-86bf-c868c8a2875f",
   "metadata": {},
   "outputs": [],
   "source": [
    "x = torch.tensor([2.0], requires_grad=True)"
   ]
  },
  {
   "cell_type": "code",
   "execution_count": 121,
   "id": "afdc8373-11ee-45a6-9e93-c53e6b7f499e",
   "metadata": {},
   "outputs": [
    {
     "data": {
      "text/plain": [
       "(tensor([-1.1875], grad_fn=<ViewBackward0>), tensor([-0.3062]))"
      ]
     },
     "execution_count": 121,
     "metadata": {},
     "output_type": "execute_result"
    }
   ],
   "source": [
    "y = linear_model(x)     # calc the value of y\n",
    "y.backward()            # perform backpropagation (calculates the gadient)\n",
    "(y, x.grad)             # output the function value and df/dx = linear_model.weight"
   ]
  },
  {
   "cell_type": "markdown",
   "id": "ac0b7a2c-55e8-41a7-8087-4a045c838b5d",
   "metadata": {},
   "source": [
    "Manually doing the model computation"
   ]
  },
  {
   "cell_type": "code",
   "execution_count": 124,
   "id": "1e6a7643-fedf-45e1-a84e-ec2fc8ec8b02",
   "metadata": {},
   "outputs": [
    {
     "data": {
      "text/plain": [
       "tensor([[-1.1875]], grad_fn=<AddBackward0>)"
      ]
     },
     "execution_count": 124,
     "metadata": {},
     "output_type": "execute_result"
    }
   ],
   "source": [
    "x * linear_model.weight + linear_model.bias"
   ]
  },
  {
   "cell_type": "markdown",
   "id": "6fd7022a-f98f-4762-b84e-119dd9d2c285",
   "metadata": {},
   "source": [
    "## Using a Linear (2,1) Model\n",
    "\n",
    "We have a model taking two inputs and producing one output,\n",
    "\n",
    "y = linear_model.weight[0] x[0] + linear_model.weight[1] x[1] + linear_model.basis"
   ]
  },
  {
   "cell_type": "code",
   "execution_count": 139,
   "id": "a7ad3e5a-edd6-4ca4-9ebd-c85b28a22787",
   "metadata": {},
   "outputs": [
    {
     "data": {
      "text/plain": [
       "(Parameter containing:\n",
       " tensor([[-0.1421, -0.0388]], requires_grad=True),\n",
       " Parameter containing:\n",
       " tensor([0.6144], requires_grad=True))"
      ]
     },
     "execution_count": 139,
     "metadata": {},
     "output_type": "execute_result"
    }
   ],
   "source": [
    "linear_model = nn.Linear(2,1)\n",
    "(linear_model.weight, linear_model.bias)"
   ]
  },
  {
   "cell_type": "code",
   "execution_count": 151,
   "id": "8609f0ae-7daa-4d2f-9830-744213d87e5a",
   "metadata": {},
   "outputs": [],
   "source": [
    "x = torch.tensor([2.0, 3.0], requires_grad=True)"
   ]
  },
  {
   "cell_type": "code",
   "execution_count": 153,
   "id": "51ba920f-4409-454e-a679-93ea5bfa6f26",
   "metadata": {},
   "outputs": [
    {
     "data": {
      "text/plain": [
       "(tensor([0.2137], grad_fn=<ViewBackward0>), tensor([-0.1421, -0.0388]))"
      ]
     },
     "execution_count": 153,
     "metadata": {},
     "output_type": "execute_result"
    }
   ],
   "source": [
    "y = linear_model(x)     # calc the value of y\n",
    "y.backward()            # perform backpropagation (calculates the gadient)\n",
    "(y, x.grad)             # output the function value and df/dx = linear_model.weight"
   ]
  },
  {
   "cell_type": "code",
   "execution_count": 175,
   "id": "c6269652-2101-45a9-a70d-d4b683c59b1a",
   "metadata": {},
   "outputs": [
    {
     "data": {
      "text/plain": [
       "tensor([0.2137], grad_fn=<AddBackward0>)"
      ]
     },
     "execution_count": 175,
     "metadata": {},
     "output_type": "execute_result"
    }
   ],
   "source": [
    "linear_model.weight[0][0] * x[0] + linear_model.weight[0][1] * x[1] + linear_model.bias"
   ]
  },
  {
   "cell_type": "markdown",
   "id": "765b7113-bef3-4a14-a249-b33e4c21bf9a",
   "metadata": {},
   "source": [
    "# Activation Functions"
   ]
  },
  {
   "cell_type": "code",
   "execution_count": 206,
   "id": "4b8ff4dd-baca-4dc7-a77d-f1e896131d52",
   "metadata": {},
   "outputs": [
    {
     "data": {
      "image/png": "[encoded data removed]",
      "text/plain": [
       "<Figure size 640x480 with 1 Axes>"
      ]
     },
     "metadata": {},
     "output_type": "display_data"
    }
   ],
   "source": [
    "x_range = torch.linspace(-3., 3., steps = 100).unsqueeze(1)\n",
    "\n",
    "relu = nn.ReLU()\n",
    "yrelu = relu(x_range)\n",
    "plt.plot(x_range, yrelu)\n",
    "\n",
    "tnh = nn.Tanh()\n",
    "ytnh = tnh(x_range)\n",
    "plt.plot(x_range, ytnh)\n",
    "\n",
    "plt.grid(True)"
   ]
  },
  {
   "cell_type": "code",
   "execution_count": 22,
   "id": "d2648729-8e58-44f4-bf02-1f78a34a20bc",
   "metadata": {},
   "outputs": [
    {
     "data": {
      "text/plain": [
       "tensor([[0.0057, 0.0418, 0.1135, 0.8390]])"
      ]
     },
     "execution_count": 22,
     "metadata": {},
     "output_type": "execute_result"
    }
   ],
   "source": [
    "# softmax = rescaling, so that the elements of the n-dimensional output Tensor lie in the range [0,1] and sum to 1.\n",
    "m = nn.Softmax(dim=1)\n",
    "input = torch.tensor([[-1.0, 1.0, 2.0, 4.0]])\n",
    "output = m(input)\n",
    "output"
   ]
  },
  {
   "cell_type": "markdown",
   "id": "611e618c-dedc-4b9a-82a4-3474fbd2fc1c",
   "metadata": {},
   "source": [
    "# Loss Functions"
   ]
  },
  {
   "cell_type": "code",
   "execution_count": 5,
   "id": "bfd7df0a-4f0b-4964-a43a-f6cbbe9288fe",
   "metadata": {},
   "outputs": [],
   "source": [
    "x = torch.tensor([1.0, 3.0], requires_grad=True)\n",
    "y = torch.tensor([2.0, 5.0], requires_grad=True)"
   ]
  },
  {
   "cell_type": "code",
   "execution_count": 9,
   "id": "4891fbcc-d894-4230-9b26-70c23cf1a161",
   "metadata": {},
   "outputs": [
    {
     "data": {
      "text/plain": [
       "tensor(2.5000, grad_fn=<MseLossBackward0>)"
      ]
     },
     "execution_count": 9,
     "metadata": {},
     "output_type": "execute_result"
    }
   ],
   "source": [
    "loss = nn.MSELoss()\n",
    "loss(x,y)"
   ]
  },
  {
   "cell_type": "code",
   "execution_count": 8,
   "id": "86536e83-8164-4032-a2d0-788b00999808",
   "metadata": {},
   "outputs": [
    {
     "data": {
      "text/plain": [
       "2.5"
      ]
     },
     "execution_count": 8,
     "metadata": {},
     "output_type": "execute_result"
    }
   ],
   "source": [
    "# per default it uses mean -> \\times 1/2\n",
    "1/2*(1 + 2**2)"
   ]
  },
  {
   "cell_type": "code",
   "execution_count": 10,
   "id": "1cb65af7-882e-4309-88f0-883e6ae1362d",
   "metadata": {},
   "outputs": [
    {
     "data": {
      "text/plain": [
       "tensor(1.5000, grad_fn=<MeanBackward0>)"
      ]
     },
     "execution_count": 10,
     "metadata": {},
     "output_type": "execute_result"
    }
   ],
   "source": [
    "loss = nn.L1Loss()\n",
    "loss(x,y)"
   ]
  },
  {
   "cell_type": "code",
   "execution_count": 11,
   "id": "e3ae1568-4346-4c7d-9cc9-4316e14e9e04",
   "metadata": {},
   "outputs": [
    {
     "data": {
      "text/plain": [
       "1.5"
      ]
     },
     "execution_count": 11,
     "metadata": {},
     "output_type": "execute_result"
    }
   ],
   "source": [
    "# per default it uses mean -> \\times 1/2\n",
    "1/2*(1 + 2)"
   ]
  }
 ],
 "metadata": {
  "kernelspec": {
   "display_name": "Python 3 (ipykernel)",
   "language": "python",
   "name": "python3"
  },
  "language_info": {
   "codemirror_mode": {
    "name": "ipython",
    "version": 3
   },
   "file_extension": ".py",
   "mimetype": "text/x-python",
   "name": "python",
   "nbconvert_exporter": "python",
   "pygments_lexer": "ipython3",
   "version": "3.12.5"
  }
 },
 "nbformat": 4,
 "nbformat_minor": 5
}
