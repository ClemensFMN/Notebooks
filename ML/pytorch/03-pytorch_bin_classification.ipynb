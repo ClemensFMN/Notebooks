{
 "cells": [
  {
   "cell_type": "code",
   "execution_count": 12,
   "id": "b08904ef-67d6-471b-acc3-148671fc196d",
   "metadata": {},
   "outputs": [],
   "source": [
    "import torch\n",
    "import torch.optim as optim\n",
    "import torch.nn as nn\n",
    "import matplotlib.pyplot as plt\n",
    "import numpy as np\n",
    "from sklearn.datasets import make_blobs, make_moons"
   ]
  },
  {
   "cell_type": "code",
   "execution_count": 84,
   "id": "b897ee68-91a7-457f-9cde-604c0ab8644f",
   "metadata": {},
   "outputs": [],
   "source": [
    "n_samples = 1000\n",
    "centers = [[0,0], [1.5,2.0]]"
   ]
  },
  {
   "cell_type": "code",
   "execution_count": 9,
   "id": "59899402-b823-4dd5-9600-2be085552127",
   "metadata": {},
   "outputs": [],
   "source": [
    "X, y = make_blobs(n_samples=n_samples, n_features=2, centers = centers)"
   ]
  },
  {
   "cell_type": "code",
   "execution_count": 85,
   "id": "258e227d-bed1-4050-898a-ed1429d7a897",
   "metadata": {},
   "outputs": [],
   "source": [
    "X, y = make_moons(n_samples=n_samples)"
   ]
  },
  {
   "cell_type": "code",
   "execution_count": 60,
   "id": "acdf8a0b-4b99-4270-8d80-57b65b2ee706",
   "metadata": {},
   "outputs": [],
   "source": [
    "X = np.array([[0.5, 1.0],\n",
    "             [1.4, -0.3],\n",
    "             [1.1, 0.8],\n",
    "             [-0.4, 1.0],\n",
    "             [-0.8, -1.5],\n",
    "             [-2.1, 0.5]])\n",
    "\n",
    "y = np.array([1.,1.,1.,0.,1.,1.])"
   ]
  },
  {
   "cell_type": "code",
   "execution_count": 86,
   "id": "1134d17d-6adf-460f-bdfb-7718e9771200",
   "metadata": {},
   "outputs": [
    {
     "data": {
      "image/png": "[encoded data removed]",
      "text/plain": [
       "<Figure size 640x480 with 1 Axes>"
      ]
     },
     "metadata": {},
     "output_type": "display_data"
    }
   ],
   "source": [
    "for k in range(len(centers)):\n",
    "    members = y == k\n",
    "    plt.plot(X[members, 0], X[members, 1], 'o')\n",
    "plt.grid(True)"
   ]
  },
  {
   "cell_type": "code",
   "execution_count": 88,
   "id": "90d4b8a9-c9a7-4b7e-913c-041bc2febfd3",
   "metadata": {},
   "outputs": [],
   "source": [
    "xt = torch.tensor(X, dtype=torch.float)\n",
    "yt = torch.tensor(y, dtype=torch.float)\n",
    "#xt[0], yt[0]\n",
    "#yt"
   ]
  },
  {
   "cell_type": "markdown",
   "id": "218dd709-4c02-4517-b9d0-f130f73bbd65",
   "metadata": {},
   "source": [
    "# Using NN"
   ]
  },
  {
   "cell_type": "code",
   "execution_count": 9,
   "id": "50da6caf-6c70-4eef-b6c8-edd8e708b250",
   "metadata": {},
   "outputs": [],
   "source": [
    "model = nn.Sequential(\n",
    "                nn.Linear(2, 1),\n",
    "                nn.Sigmoid())"
   ]
  },
  {
   "cell_type": "code",
   "execution_count": 89,
   "id": "24fd2ed7-ab73-47dc-9598-fe79a2c0242b",
   "metadata": {},
   "outputs": [],
   "source": [
    "model = nn.Sequential(\n",
    "                nn.Linear(2, 10),\n",
    "                nn.ReLU(),\n",
    "                nn.Linear(10,10),\n",
    "                nn.ReLU(),\n",
    "                nn.Linear(10,1),\n",
    "                nn.Sigmoid())"
   ]
  },
  {
   "cell_type": "code",
   "execution_count": 90,
   "id": "e76b5227-1b70-4dc2-84b3-82ad2c50d217",
   "metadata": {},
   "outputs": [
    {
     "data": {
      "text/plain": [
       "tensor([[0.5451]], grad_fn=<SigmoidBackward0>)"
      ]
     },
     "execution_count": 90,
     "metadata": {},
     "output_type": "execute_result"
    }
   ],
   "source": [
    "model(torch.tensor([[1.0, 2.0]]))"
   ]
  },
  {
   "cell_type": "code",
   "execution_count": 74,
   "id": "49f63291-8b71-4f86-a427-8c0e8af99bc7",
   "metadata": {},
   "outputs": [
    {
     "data": {
      "text/plain": [
       "tensor([1., 1., 1., 1., 1., 1., 1., 1., 1., 1., 1., 1., 1., 1., 1., 1., 1., 1.,\n",
       "        1., 1., 1., 1., 1., 1., 1., 1., 1., 1., 1., 1., 1., 1., 1., 1., 1., 1.,\n",
       "        1., 1., 1., 1., 1., 1., 1., 1., 1., 1., 1., 1., 1., 1., 1., 1., 1., 1.,\n",
       "        1., 1., 1., 1., 1., 1., 1., 1., 1., 1., 1., 1., 1., 1., 1., 1., 1., 1.,\n",
       "        1., 1., 1., 1., 1., 1., 1., 1., 1., 1., 1., 1., 1., 1., 1., 1., 1., 1.,\n",
       "        1., 1., 1., 1., 1., 1., 1., 1., 1., 1.], grad_fn=<RoundBackward0>)"
      ]
     },
     "execution_count": 74,
     "metadata": {},
     "output_type": "execute_result"
    }
   ],
   "source": [
    "y_pred_probs = torch.round(model(xt).squeeze())\n",
    "y_pred_probs"
   ]
  },
  {
   "cell_type": "code",
   "execution_count": 93,
   "id": "bced1d5c-b48b-4058-a9e0-a0dfedc9f955",
   "metadata": {},
   "outputs": [],
   "source": [
    "loss_fn = nn.BCEWithLogitsLoss()\n",
    "# loss_fn(y_pred_probs, yt)"
   ]
  },
  {
   "cell_type": "code",
   "execution_count": 102,
   "id": "af0bbcb3-c42a-4b87-b946-1c2619487626",
   "metadata": {},
   "outputs": [],
   "source": [
    "optimizer = optim.SGD(model.parameters(), lr=0.1)"
   ]
  },
  {
   "cell_type": "code",
   "execution_count": 103,
   "id": "d58b10b6-06f9-42c0-84ed-3c4c2c8382ae",
   "metadata": {},
   "outputs": [],
   "source": [
    "def accuracy_fn(y_true, y_pred):\n",
    "    correct = torch.eq(y_true, y_pred).sum().item() # torch.eq() calculates where two tensors are equal\n",
    "    acc = (correct / len(y_pred)) * 100 \n",
    "    return acc"
   ]
  },
  {
   "cell_type": "code",
   "execution_count": 104,
   "id": "26b564bc-c39c-4b56-a0b3-79d144259089",
   "metadata": {},
   "outputs": [],
   "source": [
    "def training_loop(n_epochs, optimizer, model, loss_fn, xt, yt):\n",
    "    for epoch in range(1, n_epochs + 1):\n",
    "        y_logits = model(xt).squeeze()\n",
    "\n",
    "        y_pred_probs = torch.round(y_logits)\n",
    "        acc = accuracy_fn(y_pred_probs, yt)\n",
    "        \n",
    "        loss_train = loss_fn(y_logits, yt)\n",
    "        optimizer.zero_grad()\n",
    "        loss_train.backward()\n",
    "        optimizer.step()\n",
    "        if epoch == 1 or epoch % 1000 == 0:\n",
    "            print(f\"Epoch {epoch}, Training loss {loss_train.item():.4f}, Accuracy {acc}\")"
   ]
  },
  {
   "cell_type": "code",
   "execution_count": 106,
   "id": "935c3bd1-100b-4435-b620-3776516577ff",
   "metadata": {},
   "outputs": [
    {
     "name": "stdout",
     "output_type": "stream",
     "text": [
      "Epoch 1, Training loss 0.5472, Accuracy 90.4\n",
      "Epoch 1000, Training loss 0.5356, Accuracy 93.8\n",
      "Epoch 2000, Training loss 0.5135, Accuracy 100.0\n",
      "Epoch 3000, Training loss 0.5072, Accuracy 100.0\n",
      "Epoch 4000, Training loss 0.5054, Accuracy 100.0\n",
      "Epoch 5000, Training loss 0.5046, Accuracy 100.0\n"
     ]
    }
   ],
   "source": [
    "training_loop(n_epochs = 5000, optimizer = optimizer, model = model, loss_fn = loss_fn, xt = xt, yt = yt)"
   ]
  },
  {
   "cell_type": "code",
   "execution_count": 107,
   "id": "dc648397-a480-42b6-88e9-c6e9ae79193b",
   "metadata": {},
   "outputs": [
    {
     "data": {
      "text/plain": [
       "[Parameter containing:\n",
       " tensor([[-0.9710,  0.4739],\n",
       "         [ 0.8113, -0.5752],\n",
       "         [ 0.3378,  0.2118],\n",
       "         [-0.7140,  0.4634],\n",
       "         [-0.5668,  0.1608],\n",
       "         [-1.9863,  0.1283],\n",
       "         [-1.8027, -0.1598],\n",
       "         [ 1.6034,  0.0419],\n",
       "         [-0.4480,  0.7226],\n",
       "         [ 0.7906, -0.7195]], requires_grad=True),\n",
       " Parameter containing:\n",
       " tensor([-0.2119,  0.8386,  0.8210,  1.2954,  1.0736, -0.0594,  1.8054, -0.0207,\n",
       "          0.8916,  0.8679], requires_grad=True),\n",
       " Parameter containing:\n",
       " tensor([[ 3.8297e-01, -4.1560e-01,  1.0431e-01,  6.2893e-01,  8.9008e-02,\n",
       "           6.7411e-01, -6.8143e-01,  6.2912e-01,  3.7755e-01, -1.0910e-01],\n",
       "         [ 2.0590e-01,  8.3312e-02, -3.2912e-02, -1.0056e-01, -2.2646e-01,\n",
       "           5.2819e-03,  3.1390e-01, -6.4285e-02, -5.2168e-02,  1.2617e-01],\n",
       "         [ 1.1064e-01,  4.7339e-01,  2.8062e-01, -3.9558e-02, -1.6186e-01,\n",
       "          -4.3919e-01,  1.9934e-01,  1.9541e-01, -3.6060e-02,  1.2202e-01],\n",
       "         [ 1.4032e-01, -1.1813e-01, -2.0989e-01, -3.2622e-02,  1.4446e-01,\n",
       "          -2.2498e-01, -1.2902e-01,  2.1031e-01,  1.8201e-01, -2.2250e-01],\n",
       "         [ 7.5998e-01, -4.9989e-01,  4.3520e-01,  7.8816e-01,  9.9722e-01,\n",
       "           1.4807e+00, -1.7306e+00,  8.6619e-01,  9.1031e-01, -3.2197e-01],\n",
       "         [ 2.9026e-01,  4.4061e-02,  8.3002e-02, -5.5069e-01, -5.7131e-01,\n",
       "          -2.6283e-01, -1.0300e-01,  1.1001e+00, -2.1194e-01, -2.3560e-01],\n",
       "         [-1.8620e-01,  7.3132e-01,  2.1493e-01, -7.4371e-01, -6.7885e-02,\n",
       "          -5.7782e-01,  1.3469e+00, -1.9295e-01, -2.5339e-01,  5.9447e-01],\n",
       "         [ 1.6391e-01,  1.6107e-01, -2.0831e-01,  1.4066e-01, -1.7312e-01,\n",
       "          -4.8750e-04,  8.4546e-02,  1.4454e-01, -1.2698e-01,  1.0844e-01],\n",
       "         [-3.0299e-01,  5.1004e-01,  3.2357e-01, -5.1065e-01, -1.1379e-01,\n",
       "          -7.1960e-01,  1.0511e+00, -1.4698e-01, -1.4764e-01,  7.6631e-01],\n",
       "         [-3.8787e-02, -1.0397e-01, -2.9164e-01, -3.4848e-02,  4.1047e-02,\n",
       "          -2.2478e-01,  2.1776e-01, -1.0723e-01, -8.0850e-02,  4.4658e-02]],\n",
       "        requires_grad=True),\n",
       " Parameter containing:\n",
       " tensor([ 0.4369, -0.2328,  0.3002, -0.1804,  0.4130, -0.7671,  0.1534, -0.3195,\n",
       "          0.0854, -0.0707], requires_grad=True),\n",
       " Parameter containing:\n",
       " tensor([[-1.4458, -0.1116,  0.4641,  0.2213, -3.0653,  1.5397,  1.8570,  0.2432,\n",
       "           1.6731,  0.1149]], requires_grad=True),\n",
       " Parameter containing:\n",
       " tensor([-0.8896], requires_grad=True)]"
      ]
     },
     "execution_count": 107,
     "metadata": {},
     "output_type": "execute_result"
    }
   ],
   "source": [
    "list(model.parameters())"
   ]
  },
  {
   "cell_type": "code",
   "execution_count": 110,
   "id": "9c6e87e2-2196-42e7-9e86-2192f13a1701",
   "metadata": {},
   "outputs": [
    {
     "data": {
      "text/plain": [
       "tensor([True, True, True, True, True, True, True, True, True, True, True, True,\n",
       "        True, True, True, True, True, True, True, True, True, True, True, True,\n",
       "        True, True, True, True, True, True, True, True, True, True, True, True,\n",
       "        True, True, True, True, True, True, True, True, True, True, True, True,\n",
       "        True, True, True, True, True, True, True, True, True, True, True, True,\n",
       "        True, True, True, True, True, True, True, True, True, True, True, True,\n",
       "        True, True, True, True, True, True, True, True, True, True, True, True,\n",
       "        True, True, True, True, True, True, True, True, True, True, True, True,\n",
       "        True, True, True, True, True, True, True, True, True, True, True, True,\n",
       "        True, True, True, True, True, True, True, True, True, True, True, True,\n",
       "        True, True, True, True, True, True, True, True, True, True, True, True,\n",
       "        True, True, True, True, True, True, True, True, True, True, True, True,\n",
       "        True, True, True, True, True, True, True, True, True, True, True, True,\n",
       "        True, True, True, True, True, True, True, True, True, True, True, True,\n",
       "        True, True, True, True, True, True, True, True, True, True, True, True,\n",
       "        True, True, True, True, True, True, True, True, True, True, True, True,\n",
       "        True, True, True, True, True, True, True, True, True, True, True, True,\n",
       "        True, True, True, True, True, True, True, True, True, True, True, True,\n",
       "        True, True, True, True, True, True, True, True, True, True, True, True,\n",
       "        True, True, True, True, True, True, True, True, True, True, True, True,\n",
       "        True, True, True, True, True, True, True, True, True, True, True, True,\n",
       "        True, True, True, True, True, True, True, True, True, True, True, True,\n",
       "        True, True, True, True, True, True, True, True, True, True, True, True,\n",
       "        True, True, True, True, True, True, True, True, True, True, True, True,\n",
       "        True, True, True, True, True, True, True, True, True, True, True, True,\n",
       "        True, True, True, True, True, True, True, True, True, True, True, True,\n",
       "        True, True, True, True, True, True, True, True, True, True, True, True,\n",
       "        True, True, True, True, True, True, True, True, True, True, True, True,\n",
       "        True, True, True, True, True, True, True, True, True, True, True, True,\n",
       "        True, True, True, True, True, True, True, True, True, True, True, True,\n",
       "        True, True, True, True, True, True, True, True, True, True, True, True,\n",
       "        True, True, True, True, True, True, True, True, True, True, True, True,\n",
       "        True, True, True, True, True, True, True, True, True, True, True, True,\n",
       "        True, True, True, True, True, True, True, True, True, True, True, True,\n",
       "        True, True, True, True, True, True, True, True, True, True, True, True,\n",
       "        True, True, True, True, True, True, True, True, True, True, True, True,\n",
       "        True, True, True, True, True, True, True, True, True, True, True, True,\n",
       "        True, True, True, True, True, True, True, True, True, True, True, True,\n",
       "        True, True, True, True, True, True, True, True, True, True, True, True,\n",
       "        True, True, True, True, True, True, True, True, True, True, True, True,\n",
       "        True, True, True, True, True, True, True, True, True, True, True, True,\n",
       "        True, True, True, True, True, True, True, True, True, True, True, True,\n",
       "        True, True, True, True, True, True, True, True, True, True, True, True,\n",
       "        True, True, True, True, True, True, True, True, True, True, True, True,\n",
       "        True, True, True, True, True, True, True, True, True, True, True, True,\n",
       "        True, True, True, True, True, True, True, True, True, True, True, True,\n",
       "        True, True, True, True, True, True, True, True, True, True, True, True,\n",
       "        True, True, True, True, True, True, True, True, True, True, True, True,\n",
       "        True, True, True, True, True, True, True, True, True, True, True, True,\n",
       "        True, True, True, True, True, True, True, True, True, True, True, True,\n",
       "        True, True, True, True, True, True, True, True, True, True, True, True,\n",
       "        True, True, True, True, True, True, True, True, True, True, True, True,\n",
       "        True, True, True, True, True, True, True, True, True, True, True, True,\n",
       "        True, True, True, True, True, True, True, True, True, True, True, True,\n",
       "        True, True, True, True, True, True, True, True, True, True, True, True,\n",
       "        True, True, True, True, True, True, True, True, True, True, True, True,\n",
       "        True, True, True, True, True, True, True, True, True, True, True, True,\n",
       "        True, True, True, True, True, True, True, True, True, True, True, True,\n",
       "        True, True, True, True, True, True, True, True, True, True, True, True,\n",
       "        True, True, True, True, True, True, True, True, True, True, True, True,\n",
       "        True, True, True, True, True, True, True, True, True, True, True, True,\n",
       "        True, True, True, True, True, True, True, True, True, True, True, True,\n",
       "        True, True, True, True, True, True, True, True, True, True, True, True,\n",
       "        True, True, True, True, True, True, True, True, True, True, True, True,\n",
       "        True, True, True, True, True, True, True, True, True, True, True, True,\n",
       "        True, True, True, True, True, True, True, True, True, True, True, True,\n",
       "        True, True, True, True, True, True, True, True, True, True, True, True,\n",
       "        True, True, True, True, True, True, True, True, True, True, True, True,\n",
       "        True, True, True, True, True, True, True, True, True, True, True, True,\n",
       "        True, True, True, True, True, True, True, True, True, True, True, True,\n",
       "        True, True, True, True, True, True, True, True, True, True, True, True,\n",
       "        True, True, True, True, True, True, True, True, True, True, True, True,\n",
       "        True, True, True, True, True, True, True, True, True, True, True, True,\n",
       "        True, True, True, True, True, True, True, True, True, True, True, True,\n",
       "        True, True, True, True, True, True, True, True, True, True, True, True,\n",
       "        True, True, True, True, True, True, True, True, True, True, True, True,\n",
       "        True, True, True, True, True, True, True, True, True, True, True, True,\n",
       "        True, True, True, True, True, True, True, True, True, True, True, True,\n",
       "        True, True, True, True, True, True, True, True, True, True, True, True,\n",
       "        True, True, True, True, True, True, True, True, True, True, True, True,\n",
       "        True, True, True, True, True, True, True, True, True, True, True, True,\n",
       "        True, True, True, True, True, True, True, True, True, True, True, True,\n",
       "        True, True, True, True, True, True, True, True, True, True, True, True,\n",
       "        True, True, True, True])"
      ]
     },
     "execution_count": 110,
     "metadata": {},
     "output_type": "execute_result"
    }
   ],
   "source": [
    "torch.round(model(xt).squeeze()) == yt"
   ]
  },
  {
   "cell_type": "code",
   "execution_count": 111,
   "id": "587542d7-9d29-4be0-9147-d73e315c7541",
   "metadata": {},
   "outputs": [
    {
     "data": {
      "image/png": "[encoded data removed]",
      "text/plain": [
       "<Figure size 640x480 with 1 Axes>"
      ]
     },
     "metadata": {},
     "output_type": "display_data"
    }
   ],
   "source": [
    "for k in range(len(centers)):\n",
    "    members = y == k\n",
    "    plt.plot(X[members, 0], X[members, 1], 'o')\n",
    "\n",
    "members = torch.round(model(xt).squeeze()) != yt\n",
    "plt.plot(X[members, 0], X[members, 1], 'kx', markersize=15)\n",
    "plt.grid(True)"
   ]
  },
  {
   "cell_type": "code",
   "execution_count": 109,
   "id": "0272d78f-0d19-4ff0-8406-b4705c6afd10",
   "metadata": {},
   "outputs": [
    {
     "data": {
      "image/png": "[encoded data removed]",
      "text/plain": [
       "<Figure size 640x480 with 1 Axes>"
      ]
     },
     "metadata": {},
     "output_type": "display_data"
    }
   ],
   "source": [
    "xs = np.linspace(-5., 5., num = 50, dtype=float)\n",
    "\n",
    "for x in xs:\n",
    "    for y in xs:\n",
    "        pred = torch.round(model(torch.tensor([float(x), float(y)])).squeeze())\n",
    "        d = pred == 0\n",
    "        if(d):\n",
    "            plt.plot(x,y,'ro')"
   ]
  }
 ],
 "metadata": {
  "kernelspec": {
   "display_name": "Python 3 (ipykernel)",
   "language": "python",
   "name": "python3"
  },
  "language_info": {
   "codemirror_mode": {
    "name": "ipython",
    "version": 3
   },
   "file_extension": ".py",
   "mimetype": "text/x-python",
   "name": "python",
   "nbconvert_exporter": "python",
   "pygments_lexer": "ipython3",
   "version": "3.12.6"
  }
 },
 "nbformat": 4,
 "nbformat_minor": 5
}
