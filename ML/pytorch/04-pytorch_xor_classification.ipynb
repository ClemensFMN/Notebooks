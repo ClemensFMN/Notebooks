{
 "cells": [
  {
   "cell_type": "markdown",
   "id": "26748230-a319-453f-9346-d9963de2c4da",
   "metadata": {},
   "source": [
    "# XOR Function\n",
    "\n",
    "We want an NN to learn the XOR function"
   ]
  },
  {
   "cell_type": "code",
   "execution_count": 1,
   "id": "b08904ef-67d6-471b-acc3-148671fc196d",
   "metadata": {},
   "outputs": [],
   "source": [
    "import torch\n",
    "import torch.optim as optim\n",
    "import torch.nn as nn\n",
    "import matplotlib.pyplot as plt\n",
    "import numpy as np"
   ]
  },
  {
   "cell_type": "code",
   "execution_count": 2,
   "id": "acdf8a0b-4b99-4270-8d80-57b65b2ee706",
   "metadata": {},
   "outputs": [],
   "source": [
    "X = np.array([[1.0, 1.0],\n",
    "              [1.0, -1.0],\n",
    "              [-1.0, 1.0],\n",
    "              [-1.0, -1.0]])\n",
    "\n",
    "y = np.array([1.,0.,0.,1.])"
   ]
  },
  {
   "cell_type": "code",
   "execution_count": 4,
   "id": "1134d17d-6adf-460f-bdfb-7718e9771200",
   "metadata": {},
   "outputs": [
    {
     "data": {
      "image/png": "[encoded data removed]",
      "text/plain": [
       "<Figure size 640x480 with 1 Axes>"
      ]
     },
     "metadata": {},
     "output_type": "display_data"
    }
   ],
   "source": [
    "for k in range(2):\n",
    "    members = y == k\n",
    "    plt.plot(X[members, 0], X[members, 1], 'o')\n",
    "plt.grid(True)"
   ]
  },
  {
   "cell_type": "code",
   "execution_count": 5,
   "id": "90d4b8a9-c9a7-4b7e-913c-041bc2febfd3",
   "metadata": {},
   "outputs": [],
   "source": [
    "xt = torch.tensor(X, dtype=torch.float)\n",
    "yt = torch.tensor(y, dtype=torch.float)\n",
    "#xt[0], yt[0]\n",
    "#yt"
   ]
  },
  {
   "cell_type": "markdown",
   "id": "218dd709-4c02-4517-b9d0-f130f73bbd65",
   "metadata": {},
   "source": [
    "# Using NN"
   ]
  },
  {
   "cell_type": "code",
   "execution_count": 6,
   "id": "24fd2ed7-ab73-47dc-9598-fe79a2c0242b",
   "metadata": {},
   "outputs": [],
   "source": [
    "model = nn.Sequential(\n",
    "                nn.Linear(2, 10),\n",
    "                nn.ReLU(),\n",
    "                nn.Linear(10,10),\n",
    "                nn.ReLU(),\n",
    "                nn.Linear(10,1),\n",
    "                nn.Sigmoid())"
   ]
  },
  {
   "cell_type": "code",
   "execution_count": 7,
   "id": "e76b5227-1b70-4dc2-84b3-82ad2c50d217",
   "metadata": {},
   "outputs": [
    {
     "data": {
      "text/plain": [
       "tensor([[0.5025]], grad_fn=<SigmoidBackward0>)"
      ]
     },
     "execution_count": 7,
     "metadata": {},
     "output_type": "execute_result"
    }
   ],
   "source": [
    "model(torch.tensor([[1.0, 2.0]]))"
   ]
  },
  {
   "cell_type": "code",
   "execution_count": 8,
   "id": "49f63291-8b71-4f86-a427-8c0e8af99bc7",
   "metadata": {},
   "outputs": [
    {
     "data": {
      "text/plain": [
       "tensor([0., 0., 0., 0.], grad_fn=<RoundBackward0>)"
      ]
     },
     "execution_count": 8,
     "metadata": {},
     "output_type": "execute_result"
    }
   ],
   "source": [
    "y_pred_probs = torch.round(model(xt).squeeze())\n",
    "y_pred_probs"
   ]
  },
  {
   "cell_type": "code",
   "execution_count": 9,
   "id": "bced1d5c-b48b-4058-a9e0-a0dfedc9f955",
   "metadata": {},
   "outputs": [],
   "source": [
    "loss_fn = nn.BCEWithLogitsLoss()\n",
    "# loss_fn(y_pred_probs, yt)"
   ]
  },
  {
   "cell_type": "code",
   "execution_count": 10,
   "id": "af0bbcb3-c42a-4b87-b946-1c2619487626",
   "metadata": {},
   "outputs": [],
   "source": [
    "optimizer = optim.SGD(model.parameters(), lr=0.1)"
   ]
  },
  {
   "cell_type": "code",
   "execution_count": 11,
   "id": "d58b10b6-06f9-42c0-84ed-3c4c2c8382ae",
   "metadata": {},
   "outputs": [],
   "source": [
    "def accuracy_fn(y_true, y_pred):\n",
    "    correct = torch.eq(y_true, y_pred).sum().item() # torch.eq() calculates where two tensors are equal\n",
    "    acc = (correct / len(y_pred)) * 100 \n",
    "    return acc"
   ]
  },
  {
   "cell_type": "code",
   "execution_count": 12,
   "id": "26b564bc-c39c-4b56-a0b3-79d144259089",
   "metadata": {},
   "outputs": [],
   "source": [
    "def training_loop(n_epochs, optimizer, model, loss_fn, xt, yt):\n",
    "    for epoch in range(1, n_epochs + 1):\n",
    "        y_logits = model(xt).squeeze()\n",
    "\n",
    "        y_pred_probs = torch.round(y_logits)\n",
    "        acc = accuracy_fn(y_pred_probs, yt)\n",
    "        \n",
    "        loss_train = loss_fn(y_logits, yt)\n",
    "        optimizer.zero_grad()\n",
    "        loss_train.backward()\n",
    "        optimizer.step()\n",
    "        if epoch == 1 or epoch % 1000 == 0:\n",
    "            print(f\"Epoch {epoch}, Training loss {loss_train.item():.4f}, Accuracy {acc}\")"
   ]
  },
  {
   "cell_type": "code",
   "execution_count": 13,
   "id": "935c3bd1-100b-4435-b620-3776516577ff",
   "metadata": {},
   "outputs": [
    {
     "name": "stdout",
     "output_type": "stream",
     "text": [
      "Epoch 1, Training loss 0.7211, Accuracy 50.0\n",
      "Epoch 1000, Training loss 0.6131, Accuracy 75.0\n",
      "Epoch 2000, Training loss 0.5069, Accuracy 100.0\n",
      "Epoch 3000, Training loss 0.5041, Accuracy 100.0\n",
      "Epoch 4000, Training loss 0.5036, Accuracy 100.0\n",
      "Epoch 5000, Training loss 0.5035, Accuracy 100.0\n"
     ]
    }
   ],
   "source": [
    "training_loop(n_epochs = 5000, optimizer = optimizer, model = model, loss_fn = loss_fn, xt = xt, yt = yt)"
   ]
  },
  {
   "cell_type": "code",
   "execution_count": 14,
   "id": "dc648397-a480-42b6-88e9-c6e9ae79193b",
   "metadata": {},
   "outputs": [
    {
     "data": {
      "text/plain": [
       "[Parameter containing:\n",
       " tensor([[ 0.2634, -0.5890],\n",
       "         [ 0.1450, -0.1053],\n",
       "         [ 1.1355, -1.0217],\n",
       "         [-0.5212, -0.6747],\n",
       "         [-1.0608,  0.7874],\n",
       "         [-0.4499, -0.7577],\n",
       "         [ 0.9694, -0.7152],\n",
       "         [-0.8831,  0.9037],\n",
       "         [ 0.8795,  0.8795],\n",
       "         [-0.4094, -0.5076]], requires_grad=True),\n",
       " Parameter containing:\n",
       " tensor([-5.3878e-01, -2.7457e-01,  1.1376e-01,  9.2924e-01,  5.5049e-01,\n",
       "          3.0781e-01,  2.5412e-01,  2.0587e-02,  1.0679e-05, -6.8360e-01],\n",
       "        requires_grad=True),\n",
       " Parameter containing:\n",
       " tensor([[ 0.4048,  0.1742,  0.9306,  0.2154,  0.1146, -0.5405,  0.9118,  0.3449,\n",
       "          -0.5436,  0.1368],\n",
       "         [-0.2057,  0.2571,  0.3391, -0.2839,  0.1883,  0.1659,  0.0862,  0.2516,\n",
       "          -0.1159,  0.2336],\n",
       "         [-0.0743, -0.2224,  0.5206,  0.0302,  0.0107, -0.0393,  0.2524,  0.4893,\n",
       "          -0.1924, -0.3511],\n",
       "         [-0.0920,  0.2806,  0.1597,  0.1336,  0.2801,  0.0521,  0.2516,  0.2442,\n",
       "          -0.1235, -0.1673],\n",
       "         [-0.1453, -0.1241,  0.6468, -0.0978,  0.1617, -0.0144,  0.6580,  0.5301,\n",
       "          -0.3636,  0.0213],\n",
       "         [ 0.0228,  0.1201, -0.3410,  0.8695,  0.1954,  0.5111, -0.2207, -0.2679,\n",
       "           0.6869,  0.1394],\n",
       "         [ 0.0919,  0.2600,  0.4103,  0.1933,  0.0563,  0.0761, -0.0528,  0.0910,\n",
       "          -0.3670,  0.2460],\n",
       "         [ 0.2369,  0.1196, -0.5687, -0.1978,  0.8895, -0.3446, -0.4625,  0.6651,\n",
       "          -0.1638,  0.2170],\n",
       "         [ 0.1095,  0.0618, -0.2973, -0.4712, -0.1991, -0.1297,  0.1244, -0.0810,\n",
       "           0.7346,  0.0233],\n",
       "         [-0.1248,  0.0592, -0.3454,  0.0917,  0.6203, -0.5942, -0.3659,  0.4419,\n",
       "          -0.2776, -0.2114]], requires_grad=True),\n",
       " Parameter containing:\n",
       " tensor([ 0.2350, -0.2861,  0.0685, -0.0346,  0.0914,  0.6921,  0.2363,  0.1590,\n",
       "          0.9896,  0.2439], requires_grad=True),\n",
       " Parameter containing:\n",
       " tensor([[-1.5206, -0.1048, -0.6288, -0.1469, -1.0142,  1.4653, -0.0616, -1.2815,\n",
       "           1.3101, -1.0842]], requires_grad=True),\n",
       " Parameter containing:\n",
       " tensor([1.3094], requires_grad=True)]"
      ]
     },
     "execution_count": 14,
     "metadata": {},
     "output_type": "execute_result"
    }
   ],
   "source": [
    "list(model.parameters())"
   ]
  },
  {
   "cell_type": "code",
   "execution_count": 15,
   "id": "9c6e87e2-2196-42e7-9e86-2192f13a1701",
   "metadata": {},
   "outputs": [
    {
     "data": {
      "text/plain": [
       "tensor([True, True, True, True])"
      ]
     },
     "execution_count": 15,
     "metadata": {},
     "output_type": "execute_result"
    }
   ],
   "source": [
    "torch.round(model(xt).squeeze()) == yt"
   ]
  },
  {
   "cell_type": "code",
   "execution_count": 111,
   "id": "587542d7-9d29-4be0-9147-d73e315c7541",
   "metadata": {},
   "outputs": [
    {
     "data": {
      "image/png": "[encoded data removed]",
      "text/plain": [
       "<Figure size 640x480 with 1 Axes>"
      ]
     },
     "metadata": {},
     "output_type": "display_data"
    }
   ],
   "source": [
    "for k in range(len(centers)):\n",
    "    members = y == k\n",
    "    plt.plot(X[members, 0], X[members, 1], 'o')\n",
    "\n",
    "members = torch.round(model(xt).squeeze()) != yt\n",
    "plt.plot(X[members, 0], X[members, 1], 'kx', markersize=15)\n",
    "plt.grid(True)"
   ]
  },
  {
   "cell_type": "code",
   "execution_count": 16,
   "id": "0272d78f-0d19-4ff0-8406-b4705c6afd10",
   "metadata": {},
   "outputs": [
    {
     "data": {
      "image/png": "[encoded data removed]",
      "text/plain": [
       "<Figure size 640x480 with 1 Axes>"
      ]
     },
     "metadata": {},
     "output_type": "display_data"
    }
   ],
   "source": [
    "xs = np.linspace(-5., 5., num = 50, dtype=float)\n",
    "\n",
    "for x in xs:\n",
    "    for y in xs:\n",
    "        pred = torch.round(model(torch.tensor([float(x), float(y)])).squeeze())\n",
    "        d = pred == 0\n",
    "        if(d):\n",
    "            plt.plot(x,y,'ro')"
   ]
  }
 ],
 "metadata": {
  "kernelspec": {
   "display_name": "Python 3 (ipykernel)",
   "language": "python",
   "name": "python3"
  },
  "language_info": {
   "codemirror_mode": {
    "name": "ipython",
    "version": 3
   },
   "file_extension": ".py",
   "mimetype": "text/x-python",
   "name": "python",
   "nbconvert_exporter": "python",
   "pygments_lexer": "ipython3",
   "version": "3.12.5"
  }
 },
 "nbformat": 4,
 "nbformat_minor": 5
}
