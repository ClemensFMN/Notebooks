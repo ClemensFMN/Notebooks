{
 "cells": [
  {
   "cell_type": "code",
   "execution_count": 3,
   "id": "3ad71b46",
   "metadata": {},
   "outputs": [],
   "source": [
    "import numpy as np\n",
    "import scipy.integrate as integ\n",
    "import matplotlib.pyplot as plt"
   ]
  },
  {
   "cell_type": "code",
   "execution_count": 4,
   "id": "38c87622",
   "metadata": {},
   "outputs": [],
   "source": [
    "def f(x):\n",
    "    return np.cos(1/2*x**2)\n",
    "\n",
    "def g(x):\n",
    "    return np.sin(1/2*x**2)"
   ]
  },
  {
   "cell_type": "code",
   "execution_count": 23,
   "id": "049362ac",
   "metadata": {},
   "outputs": [],
   "source": [
    "N = 100\n",
    "smax = 5\n",
    "s = np.linspace(0,smax,N)"
   ]
  },
  {
   "cell_type": "code",
   "execution_count": 24,
   "id": "6552a39d",
   "metadata": {},
   "outputs": [],
   "source": [
    "xval = [integ.quad(f, 0, sval)[0] for sval in s]\n",
    "yval = [integ.quad(g, 0, sval)[0] for sval in s]"
   ]
  },
  {
   "cell_type": "code",
   "execution_count": 25,
   "id": "4aa00211",
   "metadata": {},
   "outputs": [
    {
     "data": {
      "text/plain": [
       "[<matplotlib.lines.Line2D at 0x7ff99362cdf0>]"
      ]
     },
     "execution_count": 25,
     "metadata": {},
     "output_type": "execute_result"
    },
    {
     "data": {
      "image/png": "[encoded data removed]",
      "text/plain": [
       "<Figure size 432x288 with 1 Axes>"
      ]
     },
     "metadata": {
      "needs_background": "light"
     },
     "output_type": "display_data"
    }
   ],
   "source": [
    "plt.plot(xval, yval, 'rx')"
   ]
  }
 ],
 "metadata": {
  "kernelspec": {
   "display_name": "Python 3 (ipykernel)",
   "language": "python",
   "name": "python3"
  },
  "language_info": {
   "codemirror_mode": {
    "name": "ipython",
    "version": 3
   },
   "file_extension": ".py",
   "mimetype": "text/x-python",
   "name": "python",
   "nbconvert_exporter": "python",
   "pygments_lexer": "ipython3",
   "version": "3.10.4"
  }
 },
 "nbformat": 4,
 "nbformat_minor": 5
}
