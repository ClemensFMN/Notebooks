{
 "cells": [
  {
   "cell_type": "code",
   "execution_count": 1,
   "id": "193f187e",
   "metadata": {},
   "outputs": [],
   "source": [
    "import matplotlib.pyplot as plt\n",
    "import numpy as np\n",
    "import scipy.special as spec"
   ]
  },
  {
   "cell_type": "code",
   "execution_count": 63,
   "id": "282bd4cc",
   "metadata": {},
   "outputs": [],
   "source": [
    "def cnt(m,n,a,b):\n",
    "    val = spec.binom(m-a+n-b, m-a)*spec.binom(a+b,a)\n",
    "    return(val)"
   ]
  },
  {
   "cell_type": "code",
   "execution_count": 71,
   "id": "0f849631",
   "metadata": {},
   "outputs": [
    {
     "data": {
      "text/plain": [
       "15.0"
      ]
     },
     "execution_count": 71,
     "metadata": {},
     "output_type": "execute_result"
    }
   ],
   "source": [
    "cnt(5,3,1,2)"
   ]
  },
  {
   "cell_type": "code",
   "execution_count": 85,
   "id": "8d463ffe",
   "metadata": {},
   "outputs": [],
   "source": [
    "M = 5\n",
    "N = 4"
   ]
  },
  {
   "cell_type": "code",
   "execution_count": 86,
   "id": "0539e6ca",
   "metadata": {},
   "outputs": [],
   "source": [
    "val = np.zeros((M+1,N+1))\n",
    "for i in range(M+1):\n",
    "    for j in range(N+1):\n",
    "        val[(i,j)] = cnt(M,N,avec[i],bvec[j])"
   ]
  },
  {
   "cell_type": "code",
   "execution_count": 87,
   "id": "d6ae7fc1",
   "metadata": {},
   "outputs": [
    {
     "data": {
      "text/plain": [
       "array([[126.,  56.,  21.,   6.,   1.],\n",
       "       [ 70.,  70.,  45.,  20.,   5.],\n",
       "       [ 35.,  60.,  60.,  40.,  15.],\n",
       "       [ 15.,  40.,  60.,  60.,  35.],\n",
       "       [  5.,  20.,  45.,  70.,  70.],\n",
       "       [  1.,   6.,  21.,  56., 126.]])"
      ]
     },
     "execution_count": 87,
     "metadata": {},
     "output_type": "execute_result"
    }
   ],
   "source": [
    "val"
   ]
  },
  {
   "cell_type": "code",
   "execution_count": 90,
   "id": "6ac7e12c",
   "metadata": {},
   "outputs": [
    {
     "data": {
      "image/png": "[encoded data removed]",
      "text/plain": [
       "<Figure size 432x288 with 1 Axes>"
      ]
     },
     "metadata": {
      "needs_background": "light"
     },
     "output_type": "display_data"
    }
   ],
   "source": [
    "fig, ax = plt.subplots()\n",
    "# inspired by https://stackoverflow.com/questions/20998083/show-the-values-in-the-grid-using-matplotlib\n",
    "# Using matshow here just because it sets the ticks up nicely. imshow is faster.\n",
    "ax.matshow(val, cmap='seismic')\n",
    "\n",
    "for (i, j), z in np.ndenumerate(val):\n",
    "    # ax.text(j, i, '{:0.1f}'.format(z), ha='center', va='center')\n",
    "    ax.text(j, i, '{:0.0f}'.format(z), ha='center', va='center',\n",
    "           bbox=dict(boxstyle='round', facecolor='white', edgecolor='0.3'))"
   ]
  }
 ],
 "metadata": {
  "kernelspec": {
   "display_name": "Python 3.9.7 64-bit",
   "language": "python",
   "name": "python39764bit7db29461d6414dc39adc06aee95af06e"
  },
  "language_info": {
   "codemirror_mode": {
    "name": "ipython",
    "version": 3
   },
   "file_extension": ".py",
   "mimetype": "text/x-python",
   "name": "python",
   "nbconvert_exporter": "python",
   "pygments_lexer": "ipython3",
   "version": "3.10.4"
  }
 },
 "nbformat": 4,
 "nbformat_minor": 5
}
