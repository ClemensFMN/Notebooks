{
 "cells": [
  {
   "cell_type": "markdown",
   "id": "f60e8bcb",
   "metadata": {},
   "source": [
    "# Filtering Random Signals (AR Model)"
   ]
  },
  {
   "cell_type": "code",
   "execution_count": 2,
   "id": "1cfceeed",
   "metadata": {},
   "outputs": [],
   "source": [
    "import numpy as np\n",
    "from numpy.random import default_rng\n",
    "import scipy.signal as sig\n",
    "import matplotlib.pyplot as plt\n",
    "import statsmodels.tsa.stattools as stools\n",
    "import statsmodels.tsa.arima_process as arima\n",
    "plt.rcParams[\"figure.figsize\"] = (8,5)\n",
    "rng = default_rng()"
   ]
  },
  {
   "cell_type": "markdown",
   "id": "5f6648ee",
   "metadata": {},
   "source": [
    "Create a random signal (white Gaussian noise) and filter it with a auto-regressive filter.\n",
    "\n",
    "First part is for demonstration only."
   ]
  },
  {
   "cell_type": "code",
   "execution_count": 3,
   "id": "13668ad4",
   "metadata": {},
   "outputs": [],
   "source": [
    "u = rng.standard_normal(30)"
   ]
  },
  {
   "cell_type": "code",
   "execution_count": 4,
   "id": "c7a58daf",
   "metadata": {},
   "outputs": [
    {
     "data": {
      "text/plain": [
       "<StemContainer object of 3 artists>"
      ]
     },
     "execution_count": 4,
     "metadata": {},
     "output_type": "execute_result"
    },
    {
     "data": {
      "image/png": "[encoded data removed]",
      "text/plain": [
       "<Figure size 576x360 with 1 Axes>"
      ]
     },
     "metadata": {
      "needs_background": "light"
     },
     "output_type": "display_data"
    }
   ],
   "source": [
    "a = [1, 0.6, 0.2]\n",
    "b = [1]\n",
    "\n",
    "y = sig.lfilter(b,a,u)\n",
    "plt.stem(y)"
   ]
  },
  {
   "cell_type": "markdown",
   "id": "0717b34a",
   "metadata": {},
   "source": [
    "The ACF can be calculated using the Yule-Walker equations..."
   ]
  },
  {
   "cell_type": "markdown",
   "id": "5e7c8f32",
   "metadata": {},
   "source": [
    "Now we estimate the ACF from the output signal itself. Careful, `statsmodel` estimates the ACF normalized to $1$."
   ]
  },
  {
   "cell_type": "code",
   "execution_count": 27,
   "id": "64c863eb",
   "metadata": {},
   "outputs": [
    {
     "data": {
      "image/png": "[encoded data removed]",
      "text/plain": [
       "<Figure size 576x360 with 1 Axes>"
      ]
     },
     "metadata": {
      "needs_background": "light"
     },
     "output_type": "display_data"
    }
   ],
   "source": [
    "u = rng.standard_normal(10000)\n",
    "yma = sig.lfilter(b,a,u)\n",
    "\n",
    "acf_u = stools.acf(u, nlags=10, fft=False)\n",
    "acf_x = stools.acf(yma, nlags=10, fft=False)\n",
    "\n",
    "plt.plot(acf_u, '-go', acf_x, '-rx')\n",
    "plt.grid()"
   ]
  },
  {
   "cell_type": "code",
   "execution_count": 29,
   "id": "63837893",
   "metadata": {},
   "outputs": [
    {
     "data": {
      "text/plain": [
       "array([ 1.00000000e+00, -4.92839172e-01,  9.04473681e-02,  5.23211696e-02,\n",
       "       -5.27254585e-02,  2.14866061e-02,  3.63387888e-04, -8.41850904e-03,\n",
       "        6.54400630e-03, -9.34024195e-03,  6.88665466e-03])"
      ]
     },
     "execution_count": 29,
     "metadata": {},
     "output_type": "execute_result"
    }
   ],
   "source": [
    "acf_x"
   ]
  },
  {
   "cell_type": "markdown",
   "id": "08bc3822",
   "metadata": {},
   "source": [
    "We can calculate the ACF by solving the Yule-Walker equations; we use statsmodels as doing this by hand is a bit cumbersome..."
   ]
  },
  {
   "cell_type": "code",
   "execution_count": 30,
   "id": "f2fa7f7a",
   "metadata": {},
   "outputs": [
    {
     "data": {
      "text/plain": [
       "array([ 1.     , -0.5    ,  0.1    ,  0.04   , -0.044  ,  0.0184 ,\n",
       "       -0.00224])"
      ]
     },
     "execution_count": 30,
     "metadata": {},
     "output_type": "execute_result"
    }
   ],
   "source": [
    "arima.arma_acf(a, b, lags=7)"
   ]
  },
  {
   "cell_type": "code",
   "execution_count": 31,
   "id": "9aa2dba6",
   "metadata": {},
   "outputs": [
    {
     "data": {
      "text/plain": [
       "array([ 1.        , -0.6       ,  0.16      ,  0.024     , -0.0464    ,\n",
       "        0.02304   , -0.004544  , -0.0018816 ,  0.00203776])"
      ]
     },
     "execution_count": 31,
     "metadata": {},
     "output_type": "execute_result"
    }
   ],
   "source": [
    "h = arima.arma_impulse_response(a,b)\n",
    "h[0:9]"
   ]
  }
 ],
 "metadata": {
  "kernelspec": {
   "display_name": "Python 3 (ipykernel)",
   "language": "python",
   "name": "python3"
  },
  "language_info": {
   "codemirror_mode": {
    "name": "ipython",
    "version": 3
   },
   "file_extension": ".py",
   "mimetype": "text/x-python",
   "name": "python",
   "nbconvert_exporter": "python",
   "pygments_lexer": "ipython3",
   "version": "3.9.6"
  }
 },
 "nbformat": 4,
 "nbformat_minor": 5
}
