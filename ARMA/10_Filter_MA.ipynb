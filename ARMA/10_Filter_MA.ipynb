{
 "cells": [
  {
   "cell_type": "markdown",
   "id": "f22d1cee",
   "metadata": {},
   "source": [
    "# Filtering Random Signals (MA Model)"
   ]
  },
  {
   "cell_type": "code",
   "execution_count": 1,
   "id": "b993c980",
   "metadata": {},
   "outputs": [],
   "source": [
    "import numpy as np\n",
    "from numpy.random import default_rng\n",
    "import scipy.signal as sig\n",
    "import matplotlib.pyplot as plt\n",
    "import statsmodels.tsa.stattools as stools\n",
    "import statsmodels.tsa.arima_process as arima\n",
    "plt.rcParams[\"figure.figsize\"] = (8,5)\n",
    "rng = default_rng()"
   ]
  },
  {
   "cell_type": "markdown",
   "id": "b21ba9c6",
   "metadata": {},
   "source": [
    "Create a random signal (white Gaussian noise) and filter it with a moving-average filter.\n",
    "\n",
    "First part is for demonstration only."
   ]
  },
  {
   "cell_type": "code",
   "execution_count": 2,
   "id": "a2b097f3",
   "metadata": {},
   "outputs": [],
   "source": [
    "u = rng.standard_normal(30)"
   ]
  },
  {
   "cell_type": "code",
   "execution_count": 3,
   "id": "ab6012ee",
   "metadata": {},
   "outputs": [
    {
     "data": {
      "text/plain": [
       "<StemContainer object of 3 artists>"
      ]
     },
     "execution_count": 3,
     "metadata": {},
     "output_type": "execute_result"
    },
    {
     "data": {
      "image/png": "[encoded data removed]",
      "text/plain": [
       "<Figure size 576x360 with 1 Axes>"
      ]
     },
     "metadata": {
      "needs_background": "light"
     },
     "output_type": "display_data"
    }
   ],
   "source": [
    "a = [1]\n",
    "b = [1, 0.6, 0.2]\n",
    "\n",
    "y = sig.lfilter(b,a,u)\n",
    "plt.stem(y)"
   ]
  },
  {
   "cell_type": "markdown",
   "id": "1bd9353f",
   "metadata": {},
   "source": [
    "Now we calculate the analytical solution. The ACF of $y[n]$ is denoted by $r_y[n]$ and is given by\n",
    "\n",
    "$$\n",
    "r_y[n] = r_u([n] \\star h[n] \\star h[-n]\n",
    "$$\n",
    "\n",
    "where $r_u[n]$ denotes the ACF of the input signal $u[n]$ of the filter. We have white noise => $r_u[n] = \\delta[n]$ and therefore\n",
    "\n",
    "$$\n",
    "r_y[n] = h[n] \\star h[-n]\n",
    "$$\n"
   ]
  },
  {
   "cell_type": "code",
   "execution_count": 4,
   "id": "d826a300",
   "metadata": {},
   "outputs": [
    {
     "data": {
      "text/plain": [
       "array([0.2 , 0.72, 1.4 , 0.72, 0.2 ])"
      ]
     },
     "execution_count": 4,
     "metadata": {},
     "output_type": "execute_result"
    }
   ],
   "source": [
    "brev = b[::-1] # reverse the filter impulse response\n",
    "acf_x = sig.convolve(b, brev) # and convolve with original\n",
    "acf_x"
   ]
  },
  {
   "cell_type": "markdown",
   "id": "3c4cf946",
   "metadata": {},
   "source": [
    "Now we estimate the ACF from the output signal itself. Careful, `statsmodel` estimates the ACF normalized to $1$."
   ]
  },
  {
   "cell_type": "code",
   "execution_count": 5,
   "id": "8b88dd2f",
   "metadata": {},
   "outputs": [
    {
     "data": {
      "image/png": "[encoded data removed]",
      "text/plain": [
       "<Figure size 576x360 with 1 Axes>"
      ]
     },
     "metadata": {
      "needs_background": "light"
     },
     "output_type": "display_data"
    }
   ],
   "source": [
    "u = rng.standard_normal(10000)\n",
    "yma = sig.lfilter(b,a,u)\n",
    "\n",
    "acf_u = stools.acf(u, nlags=10, fft=False)\n",
    "acf_x = stools.acf(yma, nlags=10, fft=False)\n",
    "\n",
    "plt.plot(acf_u, '-go', acf_x, '-rx')\n",
    "plt.grid()"
   ]
  },
  {
   "cell_type": "code",
   "execution_count": 6,
   "id": "34449d76",
   "metadata": {},
   "outputs": [
    {
     "data": {
      "text/plain": [
       "array([ 1.4       ,  0.72101279,  0.19854713,  0.01434454,  0.00244285,\n",
       "       -0.01217557, -0.02730617, -0.01724369, -0.00785371, -0.00883684,\n",
       "       -0.01331112])"
      ]
     },
     "execution_count": 6,
     "metadata": {},
     "output_type": "execute_result"
    }
   ],
   "source": [
    "1.4*acf_x"
   ]
  },
  {
   "cell_type": "markdown",
   "id": "5d34d186",
   "metadata": {},
   "source": [
    "We can also calculate the ACF from the coefficients (I assume statsmodel does nothing different than $r_y[n] = h[n] \\star h[-n]$)."
   ]
  },
  {
   "cell_type": "code",
   "execution_count": 8,
   "id": "aab7dcea",
   "metadata": {},
   "outputs": [
    {
     "data": {
      "text/plain": [
       "array([1.4 , 0.72, 0.2 , 0.  , 0.  , 0.  , 0.  , 0.  , 0.  , 0.  ])"
      ]
     },
     "execution_count": 8,
     "metadata": {},
     "output_type": "execute_result"
    }
   ],
   "source": [
    "1.4*arima.arma_acf(a, b)"
   ]
  },
  {
   "cell_type": "code",
   "execution_count": 10,
   "id": "6a34e34f",
   "metadata": {},
   "outputs": [
    {
     "data": {
      "text/plain": [
       "array([1. , 0.6, 0.2, 0. , 0. , 0. , 0. , 0. , 0. , 0. , 0. , 0. , 0. ,\n",
       "       0. , 0. , 0. , 0. , 0. , 0. , 0. , 0. , 0. , 0. , 0. , 0. , 0. ,\n",
       "       0. , 0. , 0. , 0. , 0. , 0. , 0. , 0. , 0. , 0. , 0. , 0. , 0. ,\n",
       "       0. , 0. , 0. , 0. , 0. , 0. , 0. , 0. , 0. , 0. , 0. , 0. , 0. ,\n",
       "       0. , 0. , 0. , 0. , 0. , 0. , 0. , 0. , 0. , 0. , 0. , 0. , 0. ,\n",
       "       0. , 0. , 0. , 0. , 0. , 0. , 0. , 0. , 0. , 0. , 0. , 0. , 0. ,\n",
       "       0. , 0. , 0. , 0. , 0. , 0. , 0. , 0. , 0. , 0. , 0. , 0. , 0. ,\n",
       "       0. , 0. , 0. , 0. , 0. , 0. , 0. , 0. , 0. ])"
      ]
     },
     "execution_count": 10,
     "metadata": {},
     "output_type": "execute_result"
    }
   ],
   "source": [
    "arima.arma_impulse_response(a,b)"
   ]
  }
 ],
 "metadata": {
  "kernelspec": {
   "display_name": "Python 3 (ipykernel)",
   "language": "python",
   "name": "python3"
  },
  "language_info": {
   "codemirror_mode": {
    "name": "ipython",
    "version": 3
   },
   "file_extension": ".py",
   "mimetype": "text/x-python",
   "name": "python",
   "nbconvert_exporter": "python",
   "pygments_lexer": "ipython3",
   "version": "3.9.7"
  }
 },
 "nbformat": 4,
 "nbformat_minor": 5
}
