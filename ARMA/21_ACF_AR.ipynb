{
 "cells": [
  {
   "cell_type": "markdown",
   "id": "f60e8bcb",
   "metadata": {},
   "source": [
    "# ACF of AR Model"
   ]
  },
  {
   "cell_type": "code",
   "execution_count": 34,
   "id": "1cfceeed",
   "metadata": {},
   "outputs": [],
   "source": [
    "import numpy as np\n",
    "from numpy.random import default_rng\n",
    "import numpy.linalg as lin\n",
    "import scipy.signal as sig\n",
    "import matplotlib.pyplot as plt\n",
    "import statsmodels.tsa.stattools as stools\n",
    "import statsmodels.tsa.arima_process as arima\n",
    "plt.rcParams[\"figure.figsize\"] = (8,5)\n",
    "rng = default_rng()"
   ]
  },
  {
   "cell_type": "markdown",
   "id": "5f6648ee",
   "metadata": {},
   "source": [
    "## AR(1) Model\n",
    "\n",
    "Create a random signal (white Gaussian noise) and filter it with a auto-regressive filter.\n",
    "\n",
    "$$\n",
    "y[n] = a_1 y[n-1] + u[n]\n",
    "$$\n",
    "\n",
    "First we plot a short signal for demonstration. Be careful, scipy's filter function has the following convention `a[0]*y[n] = b[0]*x[n] - a[1]*y[n-1] - ... - a[N]*y[n-N]`\n"
   ]
  },
  {
   "cell_type": "code",
   "execution_count": 22,
   "id": "13668ad4",
   "metadata": {},
   "outputs": [],
   "source": [
    "u = rng.standard_normal(30)"
   ]
  },
  {
   "cell_type": "code",
   "execution_count": 23,
   "id": "c7a58daf",
   "metadata": {},
   "outputs": [
    {
     "data": {
      "text/plain": [
       "<StemContainer object of 3 artists>"
      ]
     },
     "execution_count": 23,
     "metadata": {},
     "output_type": "execute_result"
    },
    {
     "data": {
      "image/png": "[encoded data removed]",
      "text/plain": [
       "<Figure size 576x360 with 1 Axes>"
      ]
     },
     "metadata": {
      "needs_background": "light"
     },
     "output_type": "display_data"
    }
   ],
   "source": [
    "a = [1, 0.6] # a[1] here is $-a_1$ in the equation above\n",
    "b = [1]\n",
    "\n",
    "y = sig.lfilter(b,a,u)\n",
    "plt.stem(y)"
   ]
  },
  {
   "cell_type": "markdown",
   "id": "8c8fa732",
   "metadata": {},
   "source": [
    "Next, we calculate the ACF from the analytic result and compare it with an estimated ACF. To obtain a good estimation, we use a long signal & estimate the ACF from it."
   ]
  },
  {
   "cell_type": "code",
   "execution_count": 26,
   "id": "56096aa3",
   "metadata": {},
   "outputs": [],
   "source": [
    "# analytic expression for ACF\n",
    "n = np.linspace(0,10,11)\n",
    "acf_analytic = (-a[1])**n"
   ]
  },
  {
   "cell_type": "code",
   "execution_count": 27,
   "id": "64c863eb",
   "metadata": {},
   "outputs": [
    {
     "data": {
      "image/png": "[encoded data removed]",
      "text/plain": [
       "<Figure size 576x360 with 1 Axes>"
      ]
     },
     "metadata": {
      "needs_background": "light"
     },
     "output_type": "display_data"
    }
   ],
   "source": [
    "# estimation\n",
    "u = rng.standard_normal(10000)\n",
    "yma = sig.lfilter(b,a,u)\n",
    "\n",
    "acf_u = stools.acf(u, nlags=10, fft=False)\n",
    "acf_x = stools.acf(yma, nlags=10, fft=False)\n",
    "\n",
    "plt.plot(acf_u, '-go', acf_x, '-rx', acf_analytic, '-k+')\n",
    "plt.grid()"
   ]
  },
  {
   "cell_type": "markdown",
   "id": "08bc3822",
   "metadata": {},
   "source": [
    "And finally, we claculate the ACF using Python `statsmodels`; I assume this uses the Yule-Walker equations to calcluate the ACF."
   ]
  },
  {
   "cell_type": "code",
   "execution_count": 13,
   "id": "f2fa7f7a",
   "metadata": {},
   "outputs": [
    {
     "data": {
      "text/plain": [
       "array([ 1.      , -0.6     ,  0.36    , -0.216   ,  0.1296  , -0.07776 ,\n",
       "        0.046656])"
      ]
     },
     "execution_count": 13,
     "metadata": {},
     "output_type": "execute_result"
    }
   ],
   "source": [
    "arima.arma_acf(a, b, lags=7)"
   ]
  },
  {
   "cell_type": "markdown",
   "id": "a1b92582",
   "metadata": {},
   "source": [
    "For comparison, we print the esimtated ACF `acf_x` and the analytic version `acf_analytic`."
   ]
  },
  {
   "cell_type": "code",
   "execution_count": 14,
   "id": "9aa2dba6",
   "metadata": {},
   "outputs": [
    {
     "data": {
      "text/plain": [
       "array([ 1.        , -0.60312073,  0.3588347 , -0.21648577,  0.13360051,\n",
       "       -0.07431637,  0.04571506, -0.02701169,  0.01641998, -0.00661504,\n",
       "       -0.01585251])"
      ]
     },
     "execution_count": 14,
     "metadata": {},
     "output_type": "execute_result"
    }
   ],
   "source": [
    "acf_x"
   ]
  },
  {
   "cell_type": "code",
   "execution_count": 15,
   "id": "03f1bce2",
   "metadata": {},
   "outputs": [
    {
     "data": {
      "text/plain": [
       "array([ 1.        , -0.6       ,  0.36      , -0.216     ,  0.1296    ,\n",
       "       -0.07776   ,  0.046656  , -0.0279936 ,  0.01679616, -0.0100777 ,\n",
       "        0.00604662])"
      ]
     },
     "execution_count": 15,
     "metadata": {},
     "output_type": "execute_result"
    }
   ],
   "source": [
    "acf_analytic"
   ]
  },
  {
   "cell_type": "markdown",
   "id": "ef731e4e",
   "metadata": {},
   "source": [
    "## AR(2) Model\n",
    "\n",
    "The signal looks like this"
   ]
  },
  {
   "cell_type": "code",
   "execution_count": 101,
   "id": "bb8f4ead",
   "metadata": {},
   "outputs": [],
   "source": [
    "u = rng.standard_normal(30)"
   ]
  },
  {
   "cell_type": "code",
   "execution_count": 102,
   "id": "ecc8b4a7",
   "metadata": {},
   "outputs": [
    {
     "data": {
      "text/plain": [
       "<StemContainer object of 3 artists>"
      ]
     },
     "execution_count": 102,
     "metadata": {},
     "output_type": "execute_result"
    },
    {
     "data": {
      "image/png": "[encoded data removed]",
      "text/plain": [
       "<Figure size 576x360 with 1 Axes>"
      ]
     },
     "metadata": {
      "needs_background": "light"
     },
     "output_type": "display_data"
    }
   ],
   "source": [
    "a = [1.5, 0.6, -0.4]\n",
    "b = [1.5]\n",
    "\n",
    "y = sig.lfilter(b,a,u)\n",
    "plt.stem(y)"
   ]
  },
  {
   "cell_type": "markdown",
   "id": "8e65c0ee",
   "metadata": {},
   "source": [
    "For the analytical solution, we need to divide the coefficients by `a[0]`."
   ]
  },
  {
   "cell_type": "code",
   "execution_count": 103,
   "id": "b1d47b43",
   "metadata": {},
   "outputs": [],
   "source": [
    "a1 = -a[1]/a[0]\n",
    "a2 = -a[2]/a[0]"
   ]
  },
  {
   "cell_type": "markdown",
   "id": "d1cc999a",
   "metadata": {},
   "source": [
    "Then we set up the coefficient matrix for the Yule-Walk equations and obtain the ACF for the first 3 lags."
   ]
  },
  {
   "cell_type": "code",
   "execution_count": 128,
   "id": "80eb5f41",
   "metadata": {},
   "outputs": [],
   "source": [
    "a_mtx = np.array([[1, -a1, -a2], [-a1, (1-a2), 0], [-a2, -a1, 1]])\n",
    "b_vec = np.array([1, 0, 0])\n",
    "acf_analytic_start = lin.solve(a_mtx, b_vec)\n",
    "acf_analytic_start = acf_analytic_start / acf_analytic_start[0]"
   ]
  },
  {
   "cell_type": "markdown",
   "id": "7cde0ada",
   "metadata": {},
   "source": [
    "The ACF at higher lags can be obtained from the already calculated ones."
   ]
  },
  {
   "cell_type": "code",
   "execution_count": 124,
   "id": "dd0a4964",
   "metadata": {},
   "outputs": [
    {
     "data": {
      "text/plain": [
       "array([ 1.        , -0.54545455,  0.48484848, -0.33939394,  0.26505051,\n",
       "       -0.19652525,  0.14929024, -0.11212283,  0.08465986, -0.06376337,\n",
       "        0.04808131, -0.03623609,  0.02731612, -0.0205894 ,  0.01552006,\n",
       "       -0.01169853,  0.0088181 , -0.00664685,  0.00501023, -0.00377658])"
      ]
     },
     "execution_count": 124,
     "metadata": {},
     "output_type": "execute_result"
    }
   ],
   "source": [
    "acf_analytic = np.zeros(20)\n",
    "acf_analytic[0:3] = acf_analytic_start[0:3]\n",
    "\n",
    "for n in range(3,20):\n",
    "        acf_analytic[n] = a1 * acf_analytic[n-1] + a2 * acf_analytic[n-2]\n",
    "acf_analytic"
   ]
  },
  {
   "cell_type": "code",
   "execution_count": 126,
   "id": "d9eebe01",
   "metadata": {},
   "outputs": [
    {
     "data": {
      "text/plain": [
       "array([ 1.        , -0.53149176,  0.4696622 , -0.32578831,  0.25298947,\n",
       "       -0.1976573 ,  0.15173507, -0.11484212,  0.08852104, -0.06122619,\n",
       "        0.03615556, -0.02187197,  0.01236388, -0.00555727,  0.00237846,\n",
       "        0.01315226])"
      ]
     },
     "execution_count": 126,
     "metadata": {},
     "output_type": "execute_result"
    }
   ],
   "source": [
    "# estimation\n",
    "u = rng.standard_normal(10000)\n",
    "yma = sig.lfilter(b,a,u)\n",
    "\n",
    "acf_x = stools.acf(yma, nlags=15, fft=False)\n",
    "\n",
    "acf_x"
   ]
  },
  {
   "cell_type": "markdown",
   "id": "2619cd7a",
   "metadata": {},
   "source": [
    "Plot a comparison between estimated and analytic solution"
   ]
  },
  {
   "cell_type": "code",
   "execution_count": 127,
   "id": "00435cf2",
   "metadata": {},
   "outputs": [
    {
     "data": {
      "image/png": "[encoded data removed]",
      "text/plain": [
       "<Figure size 576x360 with 1 Axes>"
      ]
     },
     "metadata": {
      "needs_background": "light"
     },
     "output_type": "display_data"
    }
   ],
   "source": [
    "plt.plot(acf_x, '-go', acf_analytic, '-rx')\n",
    "plt.grid()"
   ]
  }
 ],
 "metadata": {
  "kernelspec": {
   "display_name": "Python 3 (ipykernel)",
   "language": "python",
   "name": "python3"
  },
  "language_info": {
   "codemirror_mode": {
    "name": "ipython",
    "version": 3
   },
   "file_extension": ".py",
   "mimetype": "text/x-python",
   "name": "python",
   "nbconvert_exporter": "python",
   "pygments_lexer": "ipython3",
   "version": "3.9.7"
  }
 },
 "nbformat": 4,
 "nbformat_minor": 5
}
