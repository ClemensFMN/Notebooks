{
 "cells": [
  {
   "cell_type": "markdown",
   "id": "eb702195",
   "metadata": {},
   "source": [
    "# Filter Fun"
   ]
  },
  {
   "cell_type": "code",
   "execution_count": 26,
   "id": "6d2fde0e",
   "metadata": {},
   "outputs": [],
   "source": [
    "import numpy as np\n",
    "import scipy.signal as sig\n",
    "import matplotlib.pyplot as plt\n",
    "plt.rcParams[\"figure.figsize\"] = (8,5)"
   ]
  },
  {
   "cell_type": "markdown",
   "id": "f8b7c56a",
   "metadata": {},
   "source": [
    "The `lfilter` implements a filter function as follows:\n",
    "\n",
    "$$\n",
    "a[0] y[n] = b[0] x[n] + b[1] x[n-1] + \\ldots + b[M]*x[n-M] - a[1] y[n-1] - \\ldots - a[N]y[n-N]\n",
    "$$"
   ]
  },
  {
   "cell_type": "markdown",
   "id": "bf54ebac",
   "metadata": {},
   "source": [
    "First we make a simple FIR filter given by\n",
    "\n",
    "$$\n",
    "y[n] = x[n] -0.7 x[n-1] + 0.3 x[n-2]\n",
    "$$"
   ]
  },
  {
   "cell_type": "code",
   "execution_count": 29,
   "id": "dd5778d5",
   "metadata": {},
   "outputs": [
    {
     "data": {
      "text/plain": [
       "<StemContainer object of 3 artists>"
      ]
     },
     "execution_count": 29,
     "metadata": {},
     "output_type": "execute_result"
    },
    {
     "data": {
      "image/png": "[encoded data removed]",
      "text/plain": [
       "<Figure size 576x360 with 1 Axes>"
      ]
     },
     "metadata": {
      "needs_background": "light"
     },
     "output_type": "display_data"
    }
   ],
   "source": [
    "x = np.zeros(10)\n",
    "x[0] = 1\n",
    "a = [1]\n",
    "b = [1,-0.7,0.3]\n",
    "\n",
    "y = sci.signal.lfilter(b,a,x)\n",
    "plt.stem(y)"
   ]
  },
  {
   "cell_type": "markdown",
   "id": "d9386e35",
   "metadata": {},
   "source": [
    "Now an IIR filter\n",
    "\n",
    "$$\n",
    "y[n] = x[n] - 0.6 y[n-1]\n",
    "$$\n",
    "\n",
    "Impulse response $u[n]$ is given by\n",
    "\n",
    "$$\n",
    "u[n] = (-0.6)^n \\sigma[n]\n",
    "$$\n",
    "\n"
   ]
  },
  {
   "cell_type": "code",
   "execution_count": 32,
   "id": "666d5dbd",
   "metadata": {},
   "outputs": [
    {
     "data": {
      "text/plain": [
       "<StemContainer object of 3 artists>"
      ]
     },
     "execution_count": 32,
     "metadata": {},
     "output_type": "execute_result"
    },
    {
     "data": {
      "image/png": "[encoded data removed]",
      "text/plain": [
       "<Figure size 576x360 with 1 Axes>"
      ]
     },
     "metadata": {
      "needs_background": "light"
     },
     "output_type": "display_data"
    }
   ],
   "source": [
    "a = [1, 0.6]\n",
    "b = [1]\n",
    "\n",
    "y = sci.signal.lfilter(b,a,x)\n",
    "plt.stem(y)"
   ]
  }
 ],
 "metadata": {
  "kernelspec": {
   "display_name": "Python 3",
   "language": "python",
   "name": "python3"
  },
  "language_info": {
   "codemirror_mode": {
    "name": "ipython",
    "version": 3
   },
   "file_extension": ".py",
   "mimetype": "text/x-python",
   "name": "python",
   "nbconvert_exporter": "python",
   "pygments_lexer": "ipython3",
   "version": "3.9.6"
  }
 },
 "nbformat": 4,
 "nbformat_minor": 5
}
