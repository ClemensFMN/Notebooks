{
 "cells": [
  {
   "cell_type": "markdown",
   "id": "93620589-4404-4443-99d5-e061df5c7cec",
   "metadata": {},
   "source": [
    "# PyTorch Fashion MNIST\n",
    "\n",
    "borrowed heavily from https://pytorch.org/tutorials/beginner/introyt/trainingyt.html"
   ]
  },
  {
   "cell_type": "code",
   "execution_count": 10,
   "id": "62152fce-27f3-4f67-84e1-e118f254213d",
   "metadata": {},
   "outputs": [
    {
     "name": "stdout",
     "output_type": "stream",
     "text": [
      "Training set has 60000 instances\n",
      "Validation set has 10000 instances\n"
     ]
    }
   ],
   "source": [
    "import torch\n",
    "import torchvision\n",
    "import torchvision.transforms as transforms\n",
    "\n",
    "# PyTorch TensorBoard support\n",
    "from torch.utils.tensorboard import SummaryWriter\n",
    "from datetime import datetime\n",
    "\n",
    "\n",
    "transform = transforms.Compose(\n",
    "    [transforms.ToTensor(),\n",
    "    transforms.Normalize((0.5,), (0.5,))])\n",
    "\n",
    "# Create datasets for training & validation, download if necessary\n",
    "training_set = torchvision.datasets.FashionMNIST('./data', train=True, transform=transform, download=True)\n",
    "validation_set = torchvision.datasets.FashionMNIST('./data', train=False, transform=transform, download=True)\n",
    "\n",
    "# Create data loaders for our datasets; shuffle for training, not for validation\n",
    "training_loader = torch.utils.data.DataLoader(training_set, batch_size=4, shuffle=True)\n",
    "validation_loader = torch.utils.data.DataLoader(validation_set, batch_size=4, shuffle=False)\n",
    "\n",
    "# Class labels\n",
    "classes = ('T-shirt/top', 'Trouser', 'Pullover', 'Dress', 'Coat',\n",
    "        'Sandal', 'Shirt', 'Sneaker', 'Bag', 'Ankle Boot')\n",
    "\n",
    "# Report split sizes\n",
    "print('Training set has {} instances'.format(len(training_set)))\n",
    "print('Validation set has {} instances'.format(len(validation_set)))"
   ]
  },
  {
   "cell_type": "code",
   "execution_count": 11,
   "id": "feaaea17-207b-43a5-b32d-b934b4c44e97",
   "metadata": {},
   "outputs": [
    {
     "name": "stdout",
     "output_type": "stream",
     "text": [
      "Pullover  Ankle Boot  Ankle Boot  Shirt\n"
     ]
    },
    {
     "data": {
      "image/png": "[encoded data removed]",
      "text/plain": [
       "<Figure size 640x480 with 1 Axes>"
      ]
     },
     "metadata": {},
     "output_type": "display_data"
    }
   ],
   "source": [
    "import matplotlib.pyplot as plt\n",
    "import numpy as np\n",
    "\n",
    "# Helper function for inline image display\n",
    "def matplotlib_imshow(img, one_channel=False):\n",
    "    if one_channel:\n",
    "        img = img.mean(dim=0)\n",
    "    img = img / 2 + 0.5     # unnormalize\n",
    "    npimg = img.numpy()\n",
    "    if one_channel:\n",
    "        plt.imshow(npimg, cmap=\"Greys\")\n",
    "    else:\n",
    "        plt.imshow(np.transpose(npimg, (1, 2, 0)))\n",
    "\n",
    "dataiter = iter(training_loader)\n",
    "images, labels = next(dataiter)\n",
    "\n",
    "# Create a grid from the images and show them\n",
    "img_grid = torchvision.utils.make_grid(images)\n",
    "matplotlib_imshow(img_grid, one_channel=True)\n",
    "print('  '.join(classes[labels[j]] for j in range(4)))"
   ]
  },
  {
   "cell_type": "code",
   "execution_count": 12,
   "id": "8cd5cdbf-643f-49b2-af91-9267c9bce72d",
   "metadata": {},
   "outputs": [],
   "source": [
    "import torch.nn as nn\n",
    "import torch.nn.functional as F\n",
    "\n",
    "# PyTorch models inherit from torch.nn.Module\n",
    "class GarmentClassifier(nn.Module):\n",
    "    def __init__(self):\n",
    "        super(GarmentClassifier, self).__init__()\n",
    "        self.conv1 = nn.Conv2d(1, 6, 5)\n",
    "        self.pool = nn.MaxPool2d(2, 2)\n",
    "        self.conv2 = nn.Conv2d(6, 16, 5)\n",
    "        self.fc1 = nn.Linear(16 * 4 * 4, 120)\n",
    "        self.fc2 = nn.Linear(120, 84)\n",
    "        self.fc3 = nn.Linear(84, 10)\n",
    "\n",
    "    def forward(self, x):\n",
    "        x = self.pool(F.relu(self.conv1(x)))\n",
    "        x = self.pool(F.relu(self.conv2(x)))\n",
    "        x = x.view(-1, 16 * 4 * 4)\n",
    "        x = F.relu(self.fc1(x))\n",
    "        x = F.relu(self.fc2(x))\n",
    "        x = self.fc3(x)\n",
    "        return x\n",
    "\n",
    "\n",
    "model = GarmentClassifier()"
   ]
  },
  {
   "cell_type": "code",
   "execution_count": 13,
   "id": "6852a3d9-c8f9-49c5-9813-38bbcb9ec020",
   "metadata": {},
   "outputs": [
    {
     "name": "stdout",
     "output_type": "stream",
     "text": [
      "tensor([[0.6490, 0.6544, 0.4735, 0.9575, 0.9888, 0.7405, 0.6214, 0.9805, 0.7028,\n",
      "         0.3418],\n",
      "        [0.0072, 0.4082, 0.2588, 0.0619, 0.7638, 0.3624, 0.4982, 0.4867, 0.8256,\n",
      "         0.8660],\n",
      "        [0.3623, 0.0645, 0.8734, 0.9101, 0.6242, 0.7624, 0.9433, 0.8187, 0.9957,\n",
      "         0.0745],\n",
      "        [0.5952, 0.2625, 0.3252, 0.5082, 0.7255, 0.4685, 0.3427, 0.1006, 0.8454,\n",
      "         0.2214]])\n",
      "tensor([1, 5, 3, 7])\n",
      "Total loss for this batch: 2.391780376434326\n"
     ]
    }
   ],
   "source": [
    "loss_fn = torch.nn.CrossEntropyLoss()\n",
    "\n",
    "# NB: Loss functions expect data in batches, so we're creating batches of 4\n",
    "# Represents the model's confidence in each of the 10 classes for a given input\n",
    "dummy_outputs = torch.rand(4, 10)\n",
    "# Represents the correct class among the 10 being tested\n",
    "dummy_labels = torch.tensor([1, 5, 3, 7])\n",
    "\n",
    "print(dummy_outputs)\n",
    "print(dummy_labels)\n",
    "\n",
    "loss = loss_fn(dummy_outputs, dummy_labels)\n",
    "print('Total loss for this batch: {}'.format(loss.item()))"
   ]
  },
  {
   "cell_type": "code",
   "execution_count": 14,
   "id": "b80b1b0e-497c-4993-8a9e-212b8c0a025b",
   "metadata": {},
   "outputs": [],
   "source": [
    "# Optimizers specified in the torch.optim package\n",
    "optimizer = torch.optim.SGD(model.parameters(), lr=0.001, momentum=0.9)"
   ]
  },
  {
   "cell_type": "code",
   "execution_count": 15,
   "id": "cd182915-edda-499f-876f-3dd8c572bee0",
   "metadata": {},
   "outputs": [],
   "source": [
    "def train_one_epoch(epoch_index, tb_writer):\n",
    "    running_loss = 0.\n",
    "    last_loss = 0.\n",
    "\n",
    "    # Here, we use enumerate(training_loader) instead of\n",
    "    # iter(training_loader) so that we can track the batch\n",
    "    # index and do some intra-epoch reporting\n",
    "    for i, data in enumerate(training_loader):\n",
    "        # Every data instance is an input + label pair\n",
    "        inputs, labels = data\n",
    "\n",
    "        # Zero your gradients for every batch!\n",
    "        optimizer.zero_grad()\n",
    "\n",
    "        # Make predictions for this batch\n",
    "        outputs = model(inputs)\n",
    "\n",
    "        # Compute the loss and its gradients\n",
    "        loss = loss_fn(outputs, labels)\n",
    "        loss.backward()\n",
    "\n",
    "        # Adjust learning weights\n",
    "        optimizer.step()\n",
    "\n",
    "        # Gather data and report\n",
    "        running_loss += loss.item()\n",
    "        if i % 1000 == 999:\n",
    "            last_loss = running_loss / 1000 # loss per batch\n",
    "            print('  batch {} loss: {}'.format(i + 1, last_loss))\n",
    "            tb_x = epoch_index * len(training_loader) + i + 1\n",
    "            tb_writer.add_scalar('Loss/train', last_loss, tb_x)\n",
    "            running_loss = 0.\n",
    "\n",
    "    return last_loss"
   ]
  },
  {
   "cell_type": "code",
   "execution_count": 16,
   "id": "fa302a38-ae80-490b-8033-81f3d0f4d635",
   "metadata": {},
   "outputs": [
    {
     "name": "stdout",
     "output_type": "stream",
     "text": [
      "EPOCH 1:\n",
      "  batch 1000 loss: 1.6640828255563975\n",
      "  batch 2000 loss: 0.8053427230976522\n",
      "  batch 3000 loss: 0.6716600194470957\n",
      "  batch 4000 loss: 0.6327691450156272\n",
      "  batch 5000 loss: 0.6060955599420704\n",
      "  batch 6000 loss: 0.5928899835627526\n",
      "  batch 7000 loss: 0.5443311209026142\n",
      "  batch 8000 loss: 0.5215401975726709\n",
      "  batch 9000 loss: 0.4927126012607478\n",
      "  batch 10000 loss: 0.5150386098977179\n",
      "  batch 11000 loss: 0.47843127423222176\n",
      "  batch 12000 loss: 0.465063610405341\n",
      "  batch 13000 loss: 0.44990112476900684\n",
      "  batch 14000 loss: 0.44720540367776995\n",
      "  batch 15000 loss: 0.41595521546184316\n",
      "LOSS train 0.41595521546184316 valid 0.45916780829429626\n",
      "EPOCH 2:\n",
      "  batch 1000 loss: 0.41452115383301863\n",
      "  batch 2000 loss: 0.39845475718501255\n",
      "  batch 3000 loss: 0.41297212760779073\n",
      "  batch 4000 loss: 0.4024703146345564\n",
      "  batch 5000 loss: 0.3824684325043345\n",
      "  batch 6000 loss: 0.36061551455949664\n",
      "  batch 7000 loss: 0.37338593664765357\n",
      "  batch 8000 loss: 0.3601052253615053\n",
      "  batch 9000 loss: 0.36043332872365136\n",
      "  batch 10000 loss: 0.36263259403340636\n",
      "  batch 11000 loss: 0.35824044742347905\n",
      "  batch 12000 loss: 0.3539521434725029\n",
      "  batch 13000 loss: 0.3590734169856878\n",
      "  batch 14000 loss: 0.3656710904739448\n",
      "  batch 15000 loss: 0.35280232723773225\n",
      "LOSS train 0.35280232723773225 valid 0.371983140707016\n",
      "EPOCH 3:\n",
      "  batch 1000 loss: 0.3443823479416278\n",
      "  batch 2000 loss: 0.3222924693619425\n",
      "  batch 3000 loss: 0.3249480323090684\n",
      "  batch 4000 loss: 0.3282448995182058\n",
      "  batch 5000 loss: 0.3342391077355715\n",
      "  batch 6000 loss: 0.3410231431676584\n",
      "  batch 7000 loss: 0.31864822278959765\n",
      "  batch 8000 loss: 0.3294349269937957\n",
      "  batch 9000 loss: 0.33197125041036635\n",
      "  batch 10000 loss: 0.315755306015315\n",
      "  batch 11000 loss: 0.3218984677365879\n",
      "  batch 12000 loss: 0.323308269676083\n",
      "  batch 13000 loss: 0.3364458705838915\n",
      "  batch 14000 loss: 0.3247820214800304\n",
      "  batch 15000 loss: 0.29513029624710907\n",
      "LOSS train 0.29513029624710907 valid 0.3264884948730469\n",
      "EPOCH 4:\n",
      "  batch 1000 loss: 0.2988666842033272\n",
      "  batch 2000 loss: 0.2985396742198573\n",
      "  batch 3000 loss: 0.2988324969876776\n",
      "  batch 4000 loss: 0.28159862032123784\n",
      "  batch 5000 loss: 0.30880471505273455\n",
      "  batch 6000 loss: 0.30252666069914996\n",
      "  batch 7000 loss: 0.3082199240129412\n",
      "  batch 8000 loss: 0.2743848208434065\n",
      "  batch 9000 loss: 0.2801262886918803\n",
      "  batch 10000 loss: 0.28829064801843923\n",
      "  batch 11000 loss: 0.3054070944353152\n",
      "  batch 12000 loss: 0.2936398797475413\n",
      "  batch 13000 loss: 0.2933960841241787\n",
      "  batch 14000 loss: 0.30331200896268273\n",
      "  batch 15000 loss: 0.3144599748832734\n",
      "LOSS train 0.3144599748832734 valid 0.3187861442565918\n",
      "EPOCH 5:\n",
      "  batch 1000 loss: 0.26424516042372487\n",
      "  batch 2000 loss: 0.2854600905418629\n",
      "  batch 3000 loss: 0.2843190265586345\n",
      "  batch 4000 loss: 0.2501301489766192\n",
      "  batch 5000 loss: 0.2692950839745072\n",
      "  batch 6000 loss: 0.2748302491825707\n",
      "  batch 7000 loss: 0.26475169939373155\n",
      "  batch 8000 loss: 0.2990578635818201\n",
      "  batch 9000 loss: 0.27996142592722756\n",
      "  batch 10000 loss: 0.27402757786666915\n",
      "  batch 11000 loss: 0.2808050834063106\n",
      "  batch 12000 loss: 0.25752195940780076\n",
      "  batch 13000 loss: 0.2926730678749918\n",
      "  batch 14000 loss: 0.274000915615753\n",
      "  batch 15000 loss: 0.28501210441191255\n",
      "LOSS train 0.28501210441191255 valid 0.30941280722618103\n"
     ]
    }
   ],
   "source": [
    "# Initializing in a separate cell so we can easily add more epochs to the same run\n",
    "timestamp = datetime.now().strftime('%Y%m%d_%H%M%S')\n",
    "writer = SummaryWriter('runs/fashion_trainer_{}'.format(timestamp))\n",
    "epoch_number = 0\n",
    "\n",
    "EPOCHS = 5\n",
    "\n",
    "best_vloss = 1_000_000.\n",
    "\n",
    "for epoch in range(EPOCHS):\n",
    "    print('EPOCH {}:'.format(epoch_number + 1))\n",
    "\n",
    "    # Make sure gradient tracking is on, and do a pass over the data\n",
    "    model.train(True)\n",
    "    avg_loss = train_one_epoch(epoch_number, writer)\n",
    "\n",
    "\n",
    "    running_vloss = 0.0\n",
    "    # Set the model to evaluation mode, disabling dropout and using population\n",
    "    # statistics for batch normalization.\n",
    "    model.eval()\n",
    "\n",
    "    # Disable gradient computation and reduce memory consumption.\n",
    "    with torch.no_grad():\n",
    "        for i, vdata in enumerate(validation_loader):\n",
    "            vinputs, vlabels = vdata\n",
    "            voutputs = model(vinputs)\n",
    "            vloss = loss_fn(voutputs, vlabels)\n",
    "            running_vloss += vloss\n",
    "\n",
    "    avg_vloss = running_vloss / (i + 1)\n",
    "    print('LOSS train {} valid {}'.format(avg_loss, avg_vloss))\n",
    "\n",
    "    # Log the running loss averaged per batch\n",
    "    # for both training and validation\n",
    "    writer.add_scalars('Training vs. Validation Loss',\n",
    "                    { 'Training' : avg_loss, 'Validation' : avg_vloss },\n",
    "                    epoch_number + 1)\n",
    "    writer.flush()\n",
    "\n",
    "    # Track best performance, and save the model's state\n",
    "    if avg_vloss < best_vloss:\n",
    "        best_vloss = avg_vloss\n",
    "        model_path = 'model_{}_{}'.format(timestamp, epoch_number)\n",
    "        torch.save(model.state_dict(), model_path)\n",
    "\n",
    "    epoch_number += 1"
   ]
  },
  {
   "cell_type": "markdown",
   "id": "145baf5a-a369-479b-990a-be49d546bf82",
   "metadata": {},
   "source": [
    "Here the model is trained and I **think** `model` contains the latest and greatest...\n",
    "\n",
    "So we can start making predictions with the model..."
   ]
  },
  {
   "cell_type": "code",
   "execution_count": 25,
   "id": "a023fb47-4a8f-44e2-b4df-369ebebe75d8",
   "metadata": {},
   "outputs": [
    {
     "name": "stdout",
     "output_type": "stream",
     "text": [
      "Ground truth\n",
      "Ankle Boot  Pullover  Trouser  Trouser\n",
      "Prediction\n",
      "Ankle Boot  Pullover  Trouser  Trouser\n"
     ]
    },
    {
     "data": {
      "image/png": "[encoded data removed]",
      "text/plain": [
       "<Figure size 640x480 with 1 Axes>"
      ]
     },
     "metadata": {},
     "output_type": "display_data"
    }
   ],
   "source": [
    "dataiter = iter(validation_loader)\n",
    "images, labels = next(dataiter)\n",
    "\n",
    "num_test = 4\n",
    "\n",
    "# Create a grid from the images and show them\n",
    "img_grid = torchvision.utils.make_grid(images)\n",
    "matplotlib_imshow(img_grid, one_channel=True)\n",
    "print(\"Ground truth\")\n",
    "print('  '.join(classes[labels[j]] for j in range(num_test)))\n",
    "\n",
    "print(\"Prediction\")\n",
    "print('  '.join(classes[model(images[j]).argmax()] for j in range(num_test)))\n"
   ]
  }
 ],
 "metadata": {
  "kernelspec": {
   "display_name": "Python 3 (ipykernel)",
   "language": "python",
   "name": "python3"
  },
  "language_info": {
   "codemirror_mode": {
    "name": "ipython",
    "version": 3
   },
   "file_extension": ".py",
   "mimetype": "text/x-python",
   "name": "python",
   "nbconvert_exporter": "python",
   "pygments_lexer": "ipython3",
   "version": "3.12.3"
  }
 },
 "nbformat": 4,
 "nbformat_minor": 5
}
